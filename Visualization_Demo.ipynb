{
 "cells": [
  {
   "cell_type": "code",
   "execution_count": 1,
   "metadata": {},
   "outputs": [],
   "source": [
    "import re\n",
    "import numpy as np\n",
    "import pandas as pd\n",
    "from pprint import pprint\n",
    "from IPython.display import FileLink\n",
    "\n",
    "import base64\n",
    "# Gensim\n",
    "import gensim\n",
    "import gensim.corpora as corpora\n",
    "from gensim.utils import simple_preprocess\n",
    "from gensim.models import CoherenceModel\n",
    "\n",
    "# spacy for lemmatization\n",
    "import spacy\n",
    "# Plotting tools\n",
    "import pyLDAvis\n",
    "import pyLDAvis.gensim  # don't skip this\n",
    "\n",
    "import urllib3\n",
    "from ipywidgets import interact, fixed\n",
    "import ipywidgets as widgets\n",
    "\n",
    "import logging\n",
    "logging.basicConfig(format='%(asctime)s : %(levelname)s : %(message)s', level=logging.ERROR)\n",
    "\n",
    "import warnings\n",
    "warnings.filterwarnings(\"ignore\",category=DeprecationWarning)\n",
    "\n",
    "import pandas as pd\n",
    "from pandas.core.common import SettingWithCopyWarning\n",
    "\n",
    "warnings.simplefilter(action=\"ignore\", category=SettingWithCopyWarning)"
   ]
  },
  {
   "cell_type": "code",
   "execution_count": 2,
   "metadata": {},
   "outputs": [],
   "source": [
    "document = open('Document.txt').read()\n",
    "list_of_sentence=document.split(\"\\n\")\n",
    "list_of_simple_preprocess_data = []\n",
    "for i in list_of_sentence:\n",
    "    list_of_simple_preprocess_data.append(gensim.utils.simple_preprocess(i, deacc=True, min_len=2))\n",
    "data = list_of_simple_preprocess_data\n",
    "stopwords = open('stopwords.txt').read()\n",
    "stopwords = set(stopwords.split())"
   ]
  },
  {
   "cell_type": "code",
   "execution_count": 5,
   "metadata": {},
   "outputs": [],
   "source": [
    "# Build the bigram and trigram models\n",
    "bigram = gensim.models.Phrases(data, min_count=5, threshold=100) # higher threshold fewer phrases.\n",
    "trigram = gensim.models.Phrases(bigram[data], threshold=100)  \n",
    "\n",
    "# Faster way to get a sentence clubbed as a trigram/bigram\n",
    "bigram_mod = gensim.models.phrases.Phraser(bigram)\n",
    "trigram_mod = gensim.models.phrases.Phraser(trigram)\n"
   ]
  },
  {
   "cell_type": "code",
   "execution_count": 6,
   "metadata": {},
   "outputs": [],
   "source": [
    "# Define functions for stopwords, bigrams, trigrams and lemmatization\n",
    "def remove_stopwords(texts):\n",
    "    return [[word for word in simple_preprocess(str(doc)) if word not in stopwords] for doc in texts]\n",
    "\n",
    "def make_bigrams(texts):\n",
    "    return [bigram_mod[doc] for doc in texts]\n",
    "\n",
    "def make_trigrams(texts):\n",
    "    return [trigram_mod[bigram_mod[doc]] for doc in texts]\n",
    "\n",
    "def lemmatization(texts, allowed_postags=['NOUN', 'ADJ', 'VERB', 'ADV']):\n",
    "    \"\"\"https://spacy.io/api/annotation\"\"\"\n",
    "    texts_out = []\n",
    "    for sent in texts:\n",
    "        doc = nlp(\" \".join(sent)) \n",
    "        texts_out.append([token.lemma_ for token in doc if token.pos_ in allowed_postags])\n",
    "    return texts_out"
   ]
  },
  {
   "cell_type": "code",
   "execution_count": 7,
   "metadata": {},
   "outputs": [],
   "source": [
    "# Remove Stop Words\n",
    "data_words_nostops = remove_stopwords(data)\n",
    "\n",
    "# Form Bigrams\n",
    "data_words_bigrams = make_bigrams(data_words_nostops)\n",
    "\n",
    "# Initialize spacy 'en' model, keeping only tagger component (for efficiency)\n",
    "# python3 -m spacy download en\n",
    "nlp = spacy.load('en_core_web_sm', disable=['parser', 'ner'])\n",
    "\n",
    "# Do lemmatization keeping only noun, adj, vb, adv\n",
    "data_lemmatized = lemmatization(data_words_bigrams, allowed_postags=['NOUN', 'ADJ', 'VERB', 'ADV'])\n"
   ]
  },
  {
   "cell_type": "code",
   "execution_count": 8,
   "metadata": {},
   "outputs": [],
   "source": [
    "# Create Dictionary\n",
    "id2word = corpora.Dictionary(data_lemmatized)\n",
    "\n",
    "# Create Corpus\n",
    "texts = data_lemmatized\n",
    "\n",
    "# Term Document Frequency\n",
    "corpus = [id2word.doc2bow(text) for text in texts]\n"
   ]
  },
  {
   "cell_type": "code",
   "execution_count": 9,
   "metadata": {},
   "outputs": [
    {
     "data": {
      "text/html": [
       "<style>.container { max-width:100% !important; }</style>"
      ],
      "text/plain": [
       "<IPython.core.display.HTML object>"
      ]
     },
     "metadata": {},
     "output_type": "display_data"
    },
    {
     "data": {
      "text/html": [
       "<style>.output_result { max-width:100% !important; }</style>"
      ],
      "text/plain": [
       "<IPython.core.display.HTML object>"
      ]
     },
     "metadata": {},
     "output_type": "display_data"
    },
    {
     "data": {
      "text/html": [
       "<style>.output_area { max-width:100% !important; }</style>"
      ],
      "text/plain": [
       "<IPython.core.display.HTML object>"
      ]
     },
     "metadata": {},
     "output_type": "display_data"
    },
    {
     "data": {
      "text/html": [
       "<style>.input_area { max-width:100% !important; }</style>"
      ],
      "text/plain": [
       "<IPython.core.display.HTML object>"
      ]
     },
     "metadata": {},
     "output_type": "display_data"
    }
   ],
   "source": [
    "from IPython.core.display import display, HTML\n",
    "display(HTML(\"<style>.container { max-width:100% !important; }</style>\"))\n",
    "display(HTML(\"<style>.output_result { max-width:100% !important; }</style>\"))\n",
    "display(HTML(\"<style>.output_area { max-width:100% !important; }</style>\"))\n",
    "display(HTML(\"<style>.input_area { max-width:100% !important; }</style>\"))\n",
    "style = {'description_width': 'initial'}"
   ]
  },
  {
   "cell_type": "markdown",
   "metadata": {},
   "source": [
    "# Topic Model Visualization\n",
    "Steps to follow -\n",
    "1. Select the number of topics, minimum number of documents and document weight as required from dropdowns.\n",
    "2. Visualization would be displayed including the Top 10 Most Sailent Terms\n",
    "3. Choose the topic from the \"Topic\" dropdown to see the related Keywords, Weight and Document\n",
    "\n",
    "More information about the visualization interface can be found <a href=\" https://globalsers.org/visualization-interface-info/\" target=\"_blank\">here</a>"
   ]
  },
  {
   "cell_type": "code",
   "execution_count": 10,
   "metadata": {
    "scrolled": true
   },
   "outputs": [
    {
     "data": {
      "application/vnd.jupyter.widget-view+json": {
       "model_id": "dda0f744df08430fab34916775b1c419",
       "version_major": 2,
       "version_minor": 0
      },
      "text/plain": [
       "interactive(children=(Dropdown(description='Number of Topics:', index=13, options=(2, 3, 4, 5, 6, 7, 8, 9, 10,…"
      ]
     },
     "metadata": {},
     "output_type": "display_data"
    }
   ],
   "source": [
    "from ipywidgets import interact, fixed\n",
    "import ipywidgets as widgets\n",
    "\n",
    "a_list = list(range(2, 51))\n",
    "Topics = widgets.Dropdown(\n",
    "    options=a_list,\n",
    "    value=15,\n",
    "    style=style,\n",
    "    description='Number of Topics:',\n",
    "    disabled=False,\n",
    ")\n",
    "\n",
    "MinimumDocumentList = list(range(0, 11))\n",
    "MinimumDocument = widgets.Dropdown(\n",
    "    options=MinimumDocumentList,\n",
    "    value=3,\n",
    "    style=style,\n",
    "    description='Select minimum number of documents:',\n",
    "    disabled=False,\n",
    ")\n",
    "\n",
    "import decimal\n",
    "\n",
    "def float_range(start, stop, step):\n",
    "  while start < stop:\n",
    "    yield float(start)\n",
    "    start += decimal.Decimal(step)\n",
    "\n",
    "float_range_list= (list(float_range(0, 1, '0.1')))\n",
    "\n",
    "percent_dropdown = widgets.Dropdown(\n",
    "    options=float_range_list,\n",
    "    value=0.6,\n",
    "    style=style,\n",
    "    description='Select minimum document weight:',\n",
    "    disabled=False,\n",
    ")\n",
    "\n",
    "@interact(Number=Topics,Percentage=percent_dropdown, Minimum_Document=MinimumDocument)\n",
    "def my_function(Number, Percentage,Minimum_Document):\n",
    "    lda_model = gensim.models.ldamodel.LdaModel(corpus=corpus, num_topics=Number, id2word=id2word,random_state=100,\n",
    "                                           update_every=1,\n",
    "                                           chunksize=100,\n",
    "                                           passes=10,\n",
    "                                           alpha='auto',\n",
    "                                           per_word_topics=True)\n",
    "    pyLDAvis.enable_notebook()\n",
    "    p = pyLDAvis.gensim.prepare(lda_model, corpus, id2word,R=10, sort_topics=False, mds='mmds')\n",
    "    display(p)\n",
    "    def format_topics_sentences(ldamodel=None, corpus=corpus, texts=list_of_sentence):\n",
    "    # Init output\n",
    "        sent_topics_df = pd.DataFrame()\n",
    "        pd.set_option('max_colwidth',None)\n",
    "\n",
    "\n",
    "        # Get main topic in each document\n",
    "        for i, row_list in enumerate(ldamodel[corpus]):\n",
    "            row = row_list[0] if ldamodel.per_word_topics else row_list            \n",
    "            # print(row)\n",
    "            row = sorted(row, key=lambda x: (x[1]), reverse=True)\n",
    "            # Get the Dominant topic, Perc Contribution and Keywords for each document\n",
    "            for j, (topic_num, prop_topic) in enumerate(row):\n",
    "                if ((j == 0)):  # => dominant topic\n",
    "                    wp = ldamodel.show_topic(topic_num)\n",
    "                    topic_keywords = \", \".join([word for word, prop in wp])\n",
    "                    sent_topics_df = sent_topics_df.append(pd.Series([int(topic_num), round(prop_topic,4), topic_keywords]), ignore_index=True)\n",
    "                else:\n",
    "                    break\n",
    "        sent_topics_df.columns = ['Dominant_Topic', 'Perc_Contribution', 'Topic_Keywords']\n",
    "\n",
    "        # Add original text to the end of the output\n",
    "        contents = pd.Series(texts)\n",
    "        sent_topics_df = pd.concat([sent_topics_df, contents], axis=1)\n",
    "        return(sent_topics_df)\n",
    "\n",
    "\n",
    "    df_topic_sents_keywords = format_topics_sentences(ldamodel=lda_model, corpus=corpus, texts=list_of_sentence)\n",
    "\n",
    "    # Format\n",
    "    df_dominant_topic = df_topic_sents_keywords.reset_index()\n",
    "    df_dominant_topic.columns = ['Document_No', 'Dominant_Topic', 'Weight', 'Keywords', 'Document']\n",
    "    df_dominant_topic['Dominant_Topic'] = df_dominant_topic['Dominant_Topic'] + 1\n",
    "\n",
    "    def edit_download_html(htmlWidget, filename, title = \"Click here to download: \"):\n",
    "\n",
    "    # Change widget html temperarily to a font-awesome spinner\n",
    "        htmlWidget.value = \"<i class=\\\"fa fa-spinner fa-spin fa-2x fa-fw\\\"></i><span class=\\\"sr-only\\\">Loading...</span>\"\n",
    "\n",
    "        # Process raw data\n",
    "        data = open(filename, \"rb\").read()\n",
    "        b64 = base64.b64encode(data)\n",
    "        payload = b64.decode()\n",
    "\n",
    "        # Create and assign html to widget\n",
    "        html = '<a download=\"{filename}\" href=\"data:text/csv;base64,{payload}\" target=\"_blank\">{title}</a>'\n",
    "        htmlWidget.value = html.format(payload = payload, title = title+filename, filename = filename)\n",
    "\n",
    "    #ALL = 'ALL'\n",
    "   \n",
    "    def unique_sorted_values_plus_ALL(array):\n",
    "        colvalue = array.unique().tolist()\n",
    "        colvalue.sort()\n",
    "        #colvalue.insert(0, ALL)\n",
    "        return colvalue\n",
    "    \n",
    "    dominant_topics =(df_dominant_topic[df_dominant_topic.Weight > percent_dropdown.value])\n",
    "    dominant_list =unique_sorted_values_plus_ALL(dominant_topics['Dominant_Topic'].value_counts().loc[lambda x : x>MinimumDocument.value].reset_index()['index'])\n",
    "    if not dominant_list: \n",
    "        display('No dominant topic found')\n",
    "    else:\n",
    "        dominant_list = widgets.Dropdown(\n",
    "        style=style,\n",
    "        options = dominant_list,\n",
    "        description='Topic:',\n",
    "        disabled=False,\n",
    "        )\n",
    "        @interact(DominantTopic=dominant_list)\n",
    "        def my_function(DominantTopic):\n",
    "            df_dominant = (df_dominant_topic[df_dominant_topic['Dominant_Topic'] == DominantTopic])\n",
    "            df_pecentage = df_dominant[df_dominant.Weight > percent_dropdown.value]\n",
    "            df_topic = df_pecentage.sort_values(by=['Weight'],ascending=False)\n",
    "            download = (df_topic[['Keywords', 'Weight','Document']])\n",
    "    #       display(download)\n",
    "            download['Keywords'] = download['Keywords'].mask(download['Keywords'].ne(download['Keywords'].shift()).cumsum().duplicated(), '')\n",
    "            StyleDownload = download.style.hide_index()\n",
    "            displayDF = StyleDownload.set_properties(**{'text-align': 'left'}).set_properties(subset=['Keywords'], **{'width': '300px'})\n",
    "            display(displayDF.set_table_styles([dict(selector='th', props=[('text-align', 'left')])]))\n",
    "            download.to_csv(\"output.csv\", index=False)\n",
    "            htmlWidget = widgets.HTML(value = '')\n",
    "            display(htmlWidget)\n",
    "            filename = r\"output.csv\"\n",
    "            title = \"Click here to download: \"\n",
    "            edit_download_html(htmlWidget, filename, title = title)\n",
    "         "
   ]
  },
  {
   "cell_type": "code",
   "execution_count": null,
   "metadata": {},
   "outputs": [],
   "source": [
    "import matplotlib.pyplot as plt\n",
    "def compute_coherence_values(dictionary, corpus, texts, limit, start=2, step=3):\n",
    "    \"\"\"\n",
    "    Compute c_v coherence for various number of topics\n",
    "\n",
    "    Parameters:\n",
    "    ----------\n",
    "    dictionary : Gensim dictionary\n",
    "    corpus : Gensim corpus\n",
    "    texts : List of input texts\n",
    "    limit : Max num of topics\n",
    "\n",
    "    Returns:\n",
    "    -------\n",
    "    model_list : List of LDA topic models\n",
    "    coherence_values : Coherence values corresponding to the LDA model with respective number of topics\n",
    "    \"\"\"\n",
    "    coherence_values = []\n",
    "    model_list = []\n",
    "    for num_topics in range(start, limit, step):\n",
    "        #model = gensim.models.wrappers.LdaMallet(mallet_path, corpus=corpus, num_topics=num_topics, id2word=id2word)\n",
    "        model = gensim.models.ldamodel.LdaModel(corpus=corpus, num_topics=num_topics, id2word=id2word,random_state=100,\n",
    "                                           update_every=1,\n",
    "                                           chunksize=100,\n",
    "                                           passes=10,\n",
    "                                           alpha='auto',\n",
    "                                           per_word_topics=True)\n",
    "        model_list.append(model)\n",
    "        coherencemodel = CoherenceModel(model=model, texts=texts, dictionary=dictionary, coherence='c_v')\n",
    "        coherence_values.append(coherencemodel.get_coherence())\n",
    "\n",
    "    return model_list, coherence_values\n",
    "# Can take a long time to run.\n",
    "model_list, coherence_values = compute_coherence_values(dictionary=id2word, corpus=corpus, texts=data_lemmatized, start=2, limit=50, step=1)\n",
    "# Show graph\n",
    "limit=50; start=2; step=1;\n",
    "x = range(start, limit, step)\n",
    "plt.plot(x, coherence_values)\n",
    "plt.xlabel(\"Num Topics\")\n",
    "plt.ylabel(\"Coherence score\")\n",
    "plt.legend((\"coherence_values\"), loc='best')\n",
    "plt.show()\n"
   ]
  },
  {
   "cell_type": "code",
   "execution_count": null,
   "metadata": {},
   "outputs": [],
   "source": []
  }
 ],
 "metadata": {
  "kernelspec": {
   "display_name": "Python 3",
   "language": "python",
   "name": "python3"
  },
  "language_info": {
   "codemirror_mode": {
    "name": "ipython",
    "version": 3
   },
   "file_extension": ".py",
   "mimetype": "text/x-python",
   "name": "python",
   "nbconvert_exporter": "python",
   "pygments_lexer": "ipython3",
   "version": "3.8.3"
  },
  "widgets": {
   "application/vnd.jupyter.widget-state+json": {
    "state": {
     "002bbbc8469247e9907b339378f4dc53": {
      "model_module": "@jupyter-widgets/base",
      "model_module_version": "1.2.0",
      "model_name": "LayoutModel",
      "state": {}
     },
     "0204e7542a894d329838c46e2d8e70c5": {
      "model_module": "@jupyter-widgets/base",
      "model_module_version": "1.2.0",
      "model_name": "LayoutModel",
      "state": {}
     },
     "029244cb138e450681ec8fffd2b19b20": {
      "model_module": "@jupyter-widgets/base",
      "model_module_version": "1.2.0",
      "model_name": "LayoutModel",
      "state": {}
     },
     "02f4b6a6401a477f9c83e32e04b4260e": {
      "model_module": "@jupyter-widgets/output",
      "model_module_version": "1.0.0",
      "model_name": "OutputModel",
      "state": {
       "layout": "IPY_MODEL_6ffbfd2597494cdeb500c387acde483a",
       "outputs": [
        {
         "data": {
          "text/html": "<div>\n<style scoped>\n    .dataframe tbody tr th:only-of-type {\n        vertical-align: middle;\n    }\n\n    .dataframe tbody tr th {\n        vertical-align: top;\n    }\n\n    .dataframe thead th {\n        text-align: right;\n    }\n</style>\n<table border=\"1\" class=\"dataframe\">\n  <thead>\n    <tr style=\"text-align: right;\">\n      <th></th>\n      <th>Document_No</th>\n      <th>Dominant_Topic</th>\n      <th>Topic_Perc_Contrib</th>\n      <th>Keywords</th>\n      <th>Text</th>\n    </tr>\n  </thead>\n  <tbody>\n    <tr>\n      <th>0</th>\n      <td>0</td>\n      <td>2.0</td>\n      <td>0.6150</td>\n      <td>problem, mindset, abstraction, solution, deal, technology, thing, application, datum, governance</td>\n      <td>Ecosystem mindset is key to competitiveness but note that the competition is ecosystem vs ecosystem and not company vs company</td>\n    </tr>\n    <tr>\n      <th>1</th>\n      <td>1</td>\n      <td>3.0</td>\n      <td>0.7299</td>\n      <td>ecosystem, innovation, customer, type, platform, product, rule, community, player, service</td>\n      <td>There are three types of ecosystems 1) Business 2) Innovation 3) Platform, we need to find position in an ecosystem that creates value and to create value we need to use the right mindset</td>\n    </tr>\n    <tr>\n      <th>2</th>\n      <td>2</td>\n      <td>1.0</td>\n      <td>0.7256</td>\n      <td>opportunity, machine, help, city, traditional, hypothesis, sensor, competitor, case, capability</td>\n      <td>Companies in ecosystems create significant value, companies with traditional mindsets using old business models do not</td>\n    </tr>\n    <tr>\n      <th>3</th>\n      <td>3</td>\n      <td>2.0</td>\n      <td>0.6263</td>\n      <td>problem, mindset, abstraction, solution, deal, technology, thing, application, datum, governance</td>\n      <td>One should invest in those assets and capabilities that are rare, valuable, and hard for competitors to imitate</td>\n    </tr>\n    <tr>\n      <th>4</th>\n      <td>4</td>\n      <td>2.0</td>\n      <td>0.6198</td>\n      <td>problem, mindset, abstraction, solution, deal, technology, thing, application, datum, governance</td>\n      <td>For an organization which is ready for human-machine collaboration 1) leadership is critical 2) building trust in artificial intelligence systems and insights 3) reskilling the workforce to ensure complementarity and 4) address employee's concerns,</td>\n    </tr>\n    <tr>\n      <th>...</th>\n      <td>...</td>\n      <td>...</td>\n      <td>...</td>\n      <td>...</td>\n      <td>...</td>\n    </tr>\n    <tr>\n      <th>499</th>\n      <td>499</td>\n      <td>2.0</td>\n      <td>0.6198</td>\n      <td>problem, mindset, abstraction, solution, deal, technology, thing, application, datum, governance</td>\n      <td>Creating value in the era of the Fourth Industrial Revolution is facilitated by the ecosystem mindset and it is the right mindset to have these days.</td>\n    </tr>\n    <tr>\n      <th>500</th>\n      <td>500</td>\n      <td>3.0</td>\n      <td>0.6895</td>\n      <td>ecosystem, innovation, customer, type, platform, product, rule, community, player, service</td>\n      <td>The rules of engagement are the mindset change in an ecosystem, and they are established by a keystone or lead firm.</td>\n    </tr>\n    <tr>\n      <th>501</th>\n      <td>501</td>\n      <td>3.0</td>\n      <td>0.6895</td>\n      <td>ecosystem, innovation, customer, type, platform, product, rule, community, player, service</td>\n      <td>The coordination mechanism in an ecosystem is characterized by agreements on power, differentiated roles, and flows.</td>\n    </tr>\n    <tr>\n      <th>502</th>\n      <td>502</td>\n      <td>4.0</td>\n      <td>0.7342</td>\n      <td>model, flow, skill, stakeholder, hierarchy, cooperation, environment, government, proposition, role</td>\n      <td>The three types of ecosystems are business, innovation, and platform ecosystems.</td>\n    </tr>\n    <tr>\n      <th>503</th>\n      <td>503</td>\n      <td>3.0</td>\n      <td>0.6895</td>\n      <td>ecosystem, innovation, customer, type, platform, product, rule, community, player, service</td>\n      <td>We must participate or build ecosystems to achieve significant results.</td>\n    </tr>\n  </tbody>\n</table>\n<p>504 rows × 5 columns</p>\n</div>",
          "text/plain": "     Document_No  Dominant_Topic  Topic_Perc_Contrib  \\\n0              0             2.0              0.6150   \n1              1             3.0              0.7299   \n2              2             1.0              0.7256   \n3              3             2.0              0.6263   \n4              4             2.0              0.6198   \n..           ...             ...                 ...   \n499          499             2.0              0.6198   \n500          500             3.0              0.6895   \n501          501             3.0              0.6895   \n502          502             4.0              0.7342   \n503          503             3.0              0.6895   \n\n                                                                                                Keywords  \\\n0       problem, mindset, abstraction, solution, deal, technology, thing, application, datum, governance   \n1             ecosystem, innovation, customer, type, platform, product, rule, community, player, service   \n2        opportunity, machine, help, city, traditional, hypothesis, sensor, competitor, case, capability   \n3       problem, mindset, abstraction, solution, deal, technology, thing, application, datum, governance   \n4       problem, mindset, abstraction, solution, deal, technology, thing, application, datum, governance   \n..                                                                                                   ...   \n499     problem, mindset, abstraction, solution, deal, technology, thing, application, datum, governance   \n500           ecosystem, innovation, customer, type, platform, product, rule, community, player, service   \n501           ecosystem, innovation, customer, type, platform, product, rule, community, player, service   \n502  model, flow, skill, stakeholder, hierarchy, cooperation, environment, government, proposition, role   \n503           ecosystem, innovation, customer, type, platform, product, rule, community, player, service   \n\n                                                                                                                                                                                                                                                         Text  \n0                                                                                                                              Ecosystem mindset is key to competitiveness but note that the competition is ecosystem vs ecosystem and not company vs company  \n1                                                                 There are three types of ecosystems 1) Business 2) Innovation 3) Platform, we need to find position in an ecosystem that creates value and to create value we need to use the right mindset  \n2                                                                                                                                      Companies in ecosystems create significant value, companies with traditional mindsets using old business models do not  \n3                                                                                                                                             One should invest in those assets and capabilities that are rare, valuable, and hard for competitors to imitate  \n4    For an organization which is ready for human-machine collaboration 1) leadership is critical 2) building trust in artificial intelligence systems and insights 3) reskilling the workforce to ensure complementarity and 4) address employee's concerns,  \n..                                                                                                                                                                                                                                                        ...  \n499                                                                                                     Creating value in the era of the Fourth Industrial Revolution is facilitated by the ecosystem mindset and it is the right mindset to have these days.  \n500                                                                                                                                      The rules of engagement are the mindset change in an ecosystem, and they are established by a keystone or lead firm.  \n501                                                                                                                                      The coordination mechanism in an ecosystem is characterized by agreements on power, differentiated roles, and flows.  \n502                                                                                                                                                                          The three types of ecosystems are business, innovation, and platform ecosystems.  \n503                                                                                                                                                                                   We must participate or build ecosystems to achieve significant results.  \n\n[504 rows x 5 columns]"
         },
         "metadata": {},
         "output_type": "display_data"
        }
       ]
      }
     },
     "0441981bb22d425eac188aee48e9d41d": {
      "model_module": "@jupyter-widgets/controls",
      "model_module_version": "1.5.0",
      "model_name": "DescriptionStyleModel",
      "state": {
       "description_width": ""
      }
     },
     "07f5633746834bc7a6c08b7c2359522e": {
      "model_module": "@jupyter-widgets/base",
      "model_module_version": "1.2.0",
      "model_name": "LayoutModel",
      "state": {}
     },
     "0c9d64e839024aad8ae20504c8c6c53f": {
      "model_module": "@jupyter-widgets/base",
      "model_module_version": "1.2.0",
      "model_name": "LayoutModel",
      "state": {}
     },
     "0cd689962f4340aba8db47867d873e6f": {
      "model_module": "@jupyter-widgets/controls",
      "model_module_version": "1.5.0",
      "model_name": "VBoxModel",
      "state": {
       "_dom_classes": [
        "widget-interact"
       ],
       "children": [
        "IPY_MODEL_3c42e5d6134b4dbab41f8f195bcbed01",
        "IPY_MODEL_ac5df4ecb7044834b925e43826ad6d79"
       ],
       "layout": "IPY_MODEL_1aeab09042af4fe6ac0ad4b62755d245"
      }
     },
     "0cec0ec0a2c843b18dedc71bf906be20": {
      "model_module": "@jupyter-widgets/controls",
      "model_module_version": "1.5.0",
      "model_name": "DescriptionStyleModel",
      "state": {
       "description_width": ""
      }
     },
     "0e6933a2c2d9437faec32a612f1bbc2e": {
      "model_module": "@jupyter-widgets/controls",
      "model_module_version": "1.5.0",
      "model_name": "DropdownModel",
      "state": {
       "_options_labels": [
        "ALL",
        "12.0",
        "36.0",
        "40.0",
        "41.0"
       ],
       "description": "Topic",
       "index": 0,
       "layout": "IPY_MODEL_ca149d4185bc40a2ad2394422f11b4b0",
       "style": "IPY_MODEL_1e68314ce89c4eaa94cf297e80e7accc"
      }
     },
     "0ecc929521254207b80655b607d41b4f": {
      "model_module": "@jupyter-widgets/base",
      "model_module_version": "1.2.0",
      "model_name": "LayoutModel",
      "state": {}
     },
     "10213dd003b44958a7506122333debf9": {
      "model_module": "@jupyter-widgets/controls",
      "model_module_version": "1.5.0",
      "model_name": "DropdownModel",
      "state": {
       "_options_labels": [
        "ALL",
        "1.0",
        "2.0",
        "3.0",
        "4.0",
        "5.0"
       ],
       "description": "Topic",
       "index": 0,
       "layout": "IPY_MODEL_2f37b4b8b8d74945a228b60bdf7bdf7e",
       "style": "IPY_MODEL_ce26fed8e1074f15a2a73b37f30aaef8"
      }
     },
     "11619916daee4a9f9dc96ab2e05e24ef": {
      "model_module": "@jupyter-widgets/base",
      "model_module_version": "1.2.0",
      "model_name": "LayoutModel",
      "state": {}
     },
     "13c39b08c45640ac8ecafe5f0d4ee841": {
      "model_module": "@jupyter-widgets/base",
      "model_module_version": "1.2.0",
      "model_name": "LayoutModel",
      "state": {}
     },
     "16e292a925a242078e0796210605124e": {
      "model_module": "@jupyter-widgets/controls",
      "model_module_version": "1.5.0",
      "model_name": "DropdownModel",
      "state": {
       "_options_labels": [
        "ALL",
        "1.0",
        "3.0",
        "6.0",
        "8.0",
        "9.0",
        "10.0",
        "12.0",
        "13.0",
        "16.0"
       ],
       "description": "Topic",
       "index": 0,
       "layout": "IPY_MODEL_c09d72abd38241e7b95f28f67eb69617",
       "style": "IPY_MODEL_bfb04268a5334da1b19eed666215c004"
      }
     },
     "16fcc8673f944c069cc6d2ad294aa54a": {
      "model_module": "@jupyter-widgets/base",
      "model_module_version": "1.2.0",
      "model_name": "LayoutModel",
      "state": {}
     },
     "1aeab09042af4fe6ac0ad4b62755d245": {
      "model_module": "@jupyter-widgets/base",
      "model_module_version": "1.2.0",
      "model_name": "LayoutModel",
      "state": {}
     },
     "1c504c6d976442a1a7ecaf5fa5556929": {
      "model_module": "@jupyter-widgets/controls",
      "model_module_version": "1.5.0",
      "model_name": "DropdownModel",
      "state": {
       "_options_labels": [
        "ALL",
        "1.0",
        "2.0"
       ],
       "description": "Topic",
       "index": 0,
       "layout": "IPY_MODEL_dba403f049e1410da880df5c5ccb4b84",
       "style": "IPY_MODEL_0441981bb22d425eac188aee48e9d41d"
      }
     },
     "1c7c0d140a1a4009ab24ef3a68f0b58c": {
      "model_module": "@jupyter-widgets/base",
      "model_module_version": "1.2.0",
      "model_name": "LayoutModel",
      "state": {}
     },
     "1dfdaac4830a41e5a8d2efe298549998": {
      "model_module": "@jupyter-widgets/base",
      "model_module_version": "1.2.0",
      "model_name": "LayoutModel",
      "state": {}
     },
     "1e68314ce89c4eaa94cf297e80e7accc": {
      "model_module": "@jupyter-widgets/controls",
      "model_module_version": "1.5.0",
      "model_name": "DescriptionStyleModel",
      "state": {
       "description_width": ""
      }
     },
     "1f2a1638159446dfa39b2198c358c3c1": {
      "model_module": "@jupyter-widgets/base",
      "model_module_version": "1.2.0",
      "model_name": "LayoutModel",
      "state": {}
     },
     "2596c39f29bc4535be41e4cfeb25c77d": {
      "model_module": "@jupyter-widgets/base",
      "model_module_version": "1.2.0",
      "model_name": "LayoutModel",
      "state": {}
     },
     "28176c66432f4dd0a37c8d9002bcb1d8": {
      "model_module": "@jupyter-widgets/base",
      "model_module_version": "1.2.0",
      "model_name": "LayoutModel",
      "state": {}
     },
     "298e824438f0443f99bd60b1ca97e497": {
      "model_module": "@jupyter-widgets/base",
      "model_module_version": "1.2.0",
      "model_name": "LayoutModel",
      "state": {}
     },
     "299ac2d1c5ec43ad9cf036ba7aebcdaa": {
      "model_module": "@jupyter-widgets/controls",
      "model_module_version": "1.5.0",
      "model_name": "DescriptionStyleModel",
      "state": {
       "description_width": ""
      }
     },
     "2e07f91c6676437f949c9469c04db8d9": {
      "model_module": "@jupyter-widgets/base",
      "model_module_version": "1.2.0",
      "model_name": "LayoutModel",
      "state": {}
     },
     "2f37b4b8b8d74945a228b60bdf7bdf7e": {
      "model_module": "@jupyter-widgets/base",
      "model_module_version": "1.2.0",
      "model_name": "LayoutModel",
      "state": {}
     },
     "2fdd1d706d1041db8d9b7f0c90097bc5": {
      "model_module": "@jupyter-widgets/controls",
      "model_module_version": "1.5.0",
      "model_name": "VBoxModel",
      "state": {
       "_dom_classes": [
        "widget-interact"
       ],
       "children": [
        "IPY_MODEL_6dbc58936e024742b44c4a568706e97b",
        "IPY_MODEL_beb21b5f54c24c82b9a670e5d129aad1"
       ],
       "layout": "IPY_MODEL_cb90b94b974a4a46956980ec13e9b968"
      }
     },
     "34437737224e41c9a9cfc7676a352938": {
      "model_module": "@jupyter-widgets/base",
      "model_module_version": "1.2.0",
      "model_name": "LayoutModel",
      "state": {}
     },
     "38ce07fdfc5a413fba767a133e93bc07": {
      "model_module": "@jupyter-widgets/controls",
      "model_module_version": "1.5.0",
      "model_name": "DropdownModel",
      "state": {
       "_options_labels": [
        "ALL",
        "12.0",
        "13.0",
        "20.0",
        "21.0"
       ],
       "description": "Topic",
       "index": 0,
       "layout": "IPY_MODEL_801e925c5db643c6bf1545ef77dbcb4c",
       "style": "IPY_MODEL_d3010007feab4d688593696e7eb23bd2"
      }
     },
     "3a7c206ae389443fb10388c2d4274169": {
      "model_module": "@jupyter-widgets/controls",
      "model_module_version": "1.5.0",
      "model_name": "DescriptionStyleModel",
      "state": {
       "description_width": ""
      }
     },
     "3ae935873ee041ca8fdb6102cbc79cab": {
      "model_module": "@jupyter-widgets/controls",
      "model_module_version": "1.5.0",
      "model_name": "DropdownModel",
      "state": {
       "_options_labels": [
        "ALL",
        "1.0",
        "2.0",
        "3.0",
        "4.0",
        "5.0",
        "6.0",
        "7.0",
        "8.0",
        "9.0",
        "10.0",
        "11.0"
       ],
       "description": "Topic",
       "index": 0,
       "layout": "IPY_MODEL_b1d31c82b83345a69cedc6846942bd64",
       "style": "IPY_MODEL_71b45ce26d0e4bdb912faf37cefe9dc1"
      }
     },
     "3c42e5d6134b4dbab41f8f195bcbed01": {
      "model_module": "@jupyter-widgets/controls",
      "model_module_version": "1.5.0",
      "model_name": "DropdownModel",
      "state": {
       "_options_labels": [
        "ALL",
        "1.0",
        "2.0",
        "3.0",
        "4.0",
        "5.0",
        "6.0",
        "7.0",
        "8.0",
        "9.0",
        "10.0",
        "11.0",
        "12.0"
       ],
       "description": "Topic",
       "index": 0,
       "layout": "IPY_MODEL_852fc44b789c410fa78dd19950aa6ffb",
       "style": "IPY_MODEL_d1ed3693fbec48f59db58c1a915f2bad"
      }
     },
     "43552361903344a0b2d7d0809b6b6a8e": {
      "model_module": "@jupyter-widgets/controls",
      "model_module_version": "1.5.0",
      "model_name": "VBoxModel",
      "state": {
       "_dom_classes": [
        "widget-interact"
       ],
       "children": [
        "IPY_MODEL_c8e0ce302c04469797b79250beaa9a95",
        "IPY_MODEL_641214bca22b4a25a9d05e5b5647bd90"
       ],
       "layout": "IPY_MODEL_71c6af2fefc643ff8c66f57c29f7c386"
      }
     },
     "456de9c14d474d22a18e4a03f608d227": {
      "model_module": "@jupyter-widgets/base",
      "model_module_version": "1.2.0",
      "model_name": "LayoutModel",
      "state": {}
     },
     "45f4aaebdb93459faa3f404b6da18b09": {
      "model_module": "@jupyter-widgets/base",
      "model_module_version": "1.2.0",
      "model_name": "LayoutModel",
      "state": {}
     },
     "47342c970fd64903b0d603151587a731": {
      "model_module": "@jupyter-widgets/controls",
      "model_module_version": "1.5.0",
      "model_name": "DropdownModel",
      "state": {
       "_options_labels": [
        "ALL",
        "1.0",
        "2.0",
        "3.0",
        "4.0"
       ],
       "description": "Topic",
       "index": 0,
       "layout": "IPY_MODEL_70d749e6be38461eb6c642998de8c48d",
       "style": "IPY_MODEL_a2cd7cad7959486a8faf32dd19520747"
      }
     },
     "4852971e7f854d439d1df2dfcfb003ec": {
      "model_module": "@jupyter-widgets/base",
      "model_module_version": "1.2.0",
      "model_name": "LayoutModel",
      "state": {}
     },
     "4b073d25cc404be8aad4de6bf513905f": {
      "model_module": "@jupyter-widgets/base",
      "model_module_version": "1.2.0",
      "model_name": "LayoutModel",
      "state": {}
     },
     "4e0c47491a724f11ae6be4cb2221c7a0": {
      "model_module": "@jupyter-widgets/controls",
      "model_module_version": "1.5.0",
      "model_name": "VBoxModel",
      "state": {
       "_dom_classes": [
        "widget-interact"
       ],
       "children": [
        "IPY_MODEL_a9b77898272b48d9a52987577161cbc0",
        "IPY_MODEL_b469f2458ee4453fa60c8d08c3db45e0"
       ],
       "layout": "IPY_MODEL_029244cb138e450681ec8fffd2b19b20"
      }
     },
     "5375ba3c9ca245aaa5041b4b46b403fb": {
      "model_module": "@jupyter-widgets/controls",
      "model_module_version": "1.5.0",
      "model_name": "DropdownModel",
      "state": {
       "_options_labels": [
        "2",
        "3",
        "4",
        "5",
        "6",
        "7",
        "8",
        "9",
        "10",
        "11",
        "12",
        "13",
        "14",
        "15",
        "16",
        "17",
        "18",
        "19",
        "20",
        "21",
        "22",
        "23",
        "24",
        "25",
        "26",
        "27",
        "28",
        "29",
        "30",
        "31",
        "32",
        "33",
        "34",
        "35",
        "36",
        "37",
        "38",
        "39",
        "40",
        "41",
        "42",
        "43",
        "44",
        "45",
        "46",
        "47",
        "48",
        "49",
        "50"
       ],
       "description": "x",
       "index": 23,
       "layout": "IPY_MODEL_6eb33f3844b741179d396bea17ba3853",
       "style": "IPY_MODEL_7b20c9eb923c4ff9977880ad341292ef"
      }
     },
     "53f517fe074945ce95bc1569081b6bfd": {
      "model_module": "@jupyter-widgets/base",
      "model_module_version": "1.2.0",
      "model_name": "LayoutModel",
      "state": {}
     },
     "567404be882c4a83bea87a6e29e82c20": {
      "model_module": "@jupyter-widgets/base",
      "model_module_version": "1.2.0",
      "model_name": "LayoutModel",
      "state": {}
     },
     "5879968b9f644307a5b2a608b466609f": {
      "model_module": "@jupyter-widgets/base",
      "model_module_version": "1.2.0",
      "model_name": "LayoutModel",
      "state": {}
     },
     "5e840bac6a344c3687fef8148b831c76": {
      "model_module": "@jupyter-widgets/base",
      "model_module_version": "1.2.0",
      "model_name": "LayoutModel",
      "state": {}
     },
     "60e51789fd184c048d542e56f211f9e9": {
      "model_module": "@jupyter-widgets/controls",
      "model_module_version": "1.5.0",
      "model_name": "VBoxModel",
      "state": {
       "_dom_classes": [
        "widget-interact"
       ],
       "children": [
        "IPY_MODEL_3ae935873ee041ca8fdb6102cbc79cab",
        "IPY_MODEL_e02b31e8d9d04b819278970d03505e95"
       ],
       "layout": "IPY_MODEL_88ef6bcdb42d470abd703ae5b8c2c604"
      }
     },
     "61588569b0964032a40ab53ab619b6ba": {
      "model_module": "@jupyter-widgets/controls",
      "model_module_version": "1.5.0",
      "model_name": "DescriptionStyleModel",
      "state": {
       "description_width": ""
      }
     },
     "6225d77e8dfe404c8e07dd90801cad72": {
      "model_module": "@jupyter-widgets/controls",
      "model_module_version": "1.5.0",
      "model_name": "DropdownModel",
      "state": {
       "_options_labels": [
        "ALL",
        "2.0",
        "28.0",
        "37.0",
        "39.0",
        "45.0"
       ],
       "description": "Topic",
       "index": 1,
       "layout": "IPY_MODEL_9c1d3faa9fd143219c4292d36c8c3236",
       "style": "IPY_MODEL_61588569b0964032a40ab53ab619b6ba"
      }
     },
     "632936e472b4486eab59301041f6e351": {
      "model_module": "@jupyter-widgets/controls",
      "model_module_version": "1.5.0",
      "model_name": "DropdownModel",
      "state": {
       "_options_labels": [
        "ALL",
        "1.0",
        "2.0",
        "3.0",
        "4.0",
        "5.0",
        "6.0",
        "8.0",
        "9.0",
        "11.0",
        "12.0",
        "14.0"
       ],
       "description": "Topic",
       "index": 0,
       "layout": "IPY_MODEL_e6c02003bd3547b4b15b8b72fb519a73",
       "style": "IPY_MODEL_fae3cce41e2541eaa29ff6abcae63696"
      }
     },
     "63f0e5bd8f2e4d42bdfcdeaa7dadd7ae": {
      "model_module": "@jupyter-widgets/controls",
      "model_module_version": "1.5.0",
      "model_name": "VBoxModel",
      "state": {
       "_dom_classes": [
        "widget-interact"
       ],
       "children": [
        "IPY_MODEL_f39996c7f5b84326b53b6c806f7117db",
        "IPY_MODEL_aeaa94899ac242bb9a635c001d2a2f16"
       ],
       "layout": "IPY_MODEL_ce8864ffb7624a279b82c09befc5a34e"
      }
     },
     "641214bca22b4a25a9d05e5b5647bd90": {
      "model_module": "@jupyter-widgets/output",
      "model_module_version": "1.0.0",
      "model_name": "OutputModel",
      "state": {
       "layout": "IPY_MODEL_dfa5b24384b44312b7c3d162b6b9a78a",
       "outputs": [
        {
         "name": "stdout",
         "output_type": "stream",
         "text": "[(0,\n  '0.074*\"opportunity\" + 0.054*\"machine\" + 0.049*\"help\" + 0.036*\"traditional\" '\n  '+ 0.024*\"mindset\" + 0.023*\"case\" + 0.019*\"capability\" + 0.018*\"shift\" + '\n  '0.015*\"year\" + 0.009*\"single\"'),\n (1,\n  '0.176*\"problem\" + 0.097*\"mindset\" + 0.059*\"abstraction\" + 0.042*\"solution\" '\n  '+ 0.033*\"city\" + 0.033*\"deal\" + 0.027*\"application\" + 0.022*\"stakeholder\" + '\n  '0.021*\"datum\" + 0.020*\"cooperation\"'),\n (2,\n  '0.301*\"ecosystem\" + 0.072*\"innovation\" + 0.067*\"model\" + 0.061*\"type\" + '\n  '0.059*\"platform\" + 0.031*\"community\" + 0.021*\"local\" + 0.020*\"today\" + '\n  '0.018*\"standard\" + 0.015*\"price\"'),\n (3,\n  '0.053*\"rule\" + 0.046*\"player\" + 0.041*\"flow\" + 0.030*\"skill\" + '\n  '0.025*\"hierarchy\" + 0.023*\"government\" + 0.023*\"proposition\" + 0.023*\"role\" '\n  '+ 0.023*\"part\" + 0.020*\"challenge\"'),\n (4,\n  '0.088*\"customer\" + 0.038*\"service\" + 0.036*\"product\" + 0.032*\"technology\" + '\n  '0.032*\"thing\" + 0.020*\"environment\" + 0.018*\"hypothesis\" + 0.018*\"sensor\" + '\n  '0.013*\"benefit\" + 0.012*\"idea\"')]\n"
        },
        {
         "data": {
          "text/html": "<div>\n<style scoped>\n    .dataframe tbody tr th:only-of-type {\n        vertical-align: middle;\n    }\n\n    .dataframe tbody tr th {\n        vertical-align: top;\n    }\n\n    .dataframe thead th {\n        text-align: right;\n    }\n</style>\n<table border=\"1\" class=\"dataframe\">\n  <thead>\n    <tr style=\"text-align: right;\">\n      <th></th>\n      <th>Term</th>\n      <th>Freq</th>\n      <th>Total</th>\n      <th>Category</th>\n      <th>logprob</th>\n      <th>loglift</th>\n    </tr>\n  </thead>\n  <tbody>\n    <tr>\n      <th>1</th>\n      <td>ecosystem</td>\n      <td>212.000000</td>\n      <td>212.000000</td>\n      <td>Default</td>\n      <td>5.0000</td>\n      <td>5.0000</td>\n    </tr>\n    <tr>\n      <th>17</th>\n      <td>problem</td>\n      <td>84.000000</td>\n      <td>84.000000</td>\n      <td>Default</td>\n      <td>4.0000</td>\n      <td>4.0000</td>\n    </tr>\n    <tr>\n      <th>20</th>\n      <td>customer</td>\n      <td>42.000000</td>\n      <td>42.000000</td>\n      <td>Default</td>\n      <td>3.0000</td>\n      <td>3.0000</td>\n    </tr>\n    <tr>\n      <th>3</th>\n      <td>mindset</td>\n      <td>54.000000</td>\n      <td>54.000000</td>\n      <td>Default</td>\n      <td>2.0000</td>\n      <td>2.0000</td>\n    </tr>\n    <tr>\n      <th>2</th>\n      <td>innovation</td>\n      <td>51.000000</td>\n      <td>51.000000</td>\n      <td>Default</td>\n      <td>1.0000</td>\n      <td>1.0000</td>\n    </tr>\n    <tr>\n      <th>35</th>\n      <td>opportunity</td>\n      <td>24.063369</td>\n      <td>24.701820</td>\n      <td>Topic1</td>\n      <td>-2.6042</td>\n      <td>1.9689</td>\n    </tr>\n    <tr>\n      <th>12</th>\n      <td>machine</td>\n      <td>17.606795</td>\n      <td>18.242748</td>\n      <td>Topic1</td>\n      <td>-2.9166</td>\n      <td>1.9596</td>\n    </tr>\n    <tr>\n      <th>37</th>\n      <td>help</td>\n      <td>15.790930</td>\n      <td>16.433256</td>\n      <td>Topic1</td>\n      <td>-3.0254</td>\n      <td>1.9552</td>\n    </tr>\n    <tr>\n      <th>7</th>\n      <td>traditional</td>\n      <td>11.614836</td>\n      <td>12.260411</td>\n      <td>Topic1</td>\n      <td>-3.3326</td>\n      <td>1.9409</td>\n    </tr>\n    <tr>\n      <th>160</th>\n      <td>case</td>\n      <td>7.540067</td>\n      <td>8.182664</td>\n      <td>Topic1</td>\n      <td>-3.7646</td>\n      <td>1.9133</td>\n    </tr>\n    <tr>\n      <th>3</th>\n      <td>mindset</td>\n      <td>7.654634</td>\n      <td>54.268247</td>\n      <td>Topic1</td>\n      <td>-3.7495</td>\n      <td>0.0364</td>\n    </tr>\n    <tr>\n      <th>17</th>\n      <td>problem</td>\n      <td>83.541799</td>\n      <td>84.170512</td>\n      <td>Topic2</td>\n      <td>-1.7376</td>\n      <td>1.6095</td>\n    </tr>\n    <tr>\n      <th>38</th>\n      <td>abstraction</td>\n      <td>28.097567</td>\n      <td>28.727734</td>\n      <td>Topic2</td>\n      <td>-2.8272</td>\n      <td>1.5948</td>\n    </tr>\n    <tr>\n      <th>18</th>\n      <td>solution</td>\n      <td>19.862912</td>\n      <td>20.491225</td>\n      <td>Topic2</td>\n      <td>-3.1741</td>\n      <td>1.5858</td>\n    </tr>\n    <tr>\n      <th>49</th>\n      <td>deal</td>\n      <td>15.477863</td>\n      <td>16.108387</td>\n      <td>Topic2</td>\n      <td>-3.4235</td>\n      <td>1.5770</td>\n    </tr>\n    <tr>\n      <th>155</th>\n      <td>city</td>\n      <td>15.522510</td>\n      <td>16.158344</td>\n      <td>Topic2</td>\n      <td>-3.4206</td>\n      <td>1.5768</td>\n    </tr>\n    <tr>\n      <th>3</th>\n      <td>mindset</td>\n      <td>46.129230</td>\n      <td>54.268247</td>\n      <td>Topic2</td>\n      <td>-2.3315</td>\n      <td>1.4545</td>\n    </tr>\n    <tr>\n      <th>1</th>\n      <td>ecosystem</td>\n      <td>212.017213</td>\n      <td>212.633521</td>\n      <td>Topic3</td>\n      <td>-1.1995</td>\n      <td>1.2208</td>\n    </tr>\n    <tr>\n      <th>2</th>\n      <td>innovation</td>\n      <td>50.722291</td>\n      <td>51.338633</td>\n      <td>Topic3</td>\n      <td>-2.6298</td>\n      <td>1.2117</td>\n    </tr>\n    <tr>\n      <th>6</th>\n      <td>model</td>\n      <td>46.817689</td>\n      <td>47.437669</td>\n      <td>Topic3</td>\n      <td>-2.7099</td>\n      <td>1.2106</td>\n    </tr>\n    <tr>\n      <th>5</th>\n      <td>type</td>\n      <td>43.153723</td>\n      <td>43.773868</td>\n      <td>Topic3</td>\n      <td>-2.7914</td>\n      <td>1.2095</td>\n    </tr>\n    <tr>\n      <th>4</th>\n      <td>platform</td>\n      <td>41.326346</td>\n      <td>41.943901</td>\n      <td>Topic3</td>\n      <td>-2.8346</td>\n      <td>1.2089</td>\n    </tr>\n    <tr>\n      <th>65</th>\n      <td>rule</td>\n      <td>21.989290</td>\n      <td>22.617245</td>\n      <td>Topic4</td>\n      <td>-2.9298</td>\n      <td>1.7313</td>\n    </tr>\n    <tr>\n      <th>44</th>\n      <td>player</td>\n      <td>19.016894</td>\n      <td>19.641460</td>\n      <td>Topic4</td>\n      <td>-3.0751</td>\n      <td>1.7272</td>\n    </tr>\n    <tr>\n      <th>162</th>\n      <td>flow</td>\n      <td>16.727676</td>\n      <td>17.348436</td>\n      <td>Topic4</td>\n      <td>-3.2033</td>\n      <td>1.7231</td>\n    </tr>\n    <tr>\n      <th>134</th>\n      <td>skill</td>\n      <td>12.161196</td>\n      <td>12.790899</td>\n      <td>Topic4</td>\n      <td>-3.5221</td>\n      <td>1.7090</td>\n    </tr>\n    <tr>\n      <th>297</th>\n      <td>hierarchy</td>\n      <td>10.175564</td>\n      <td>10.800344</td>\n      <td>Topic4</td>\n      <td>-3.7004</td>\n      <td>1.6999</td>\n    </tr>\n    <tr>\n      <th>20</th>\n      <td>customer</td>\n      <td>41.855041</td>\n      <td>42.491815</td>\n      <td>Topic5</td>\n      <td>-2.4324</td>\n      <td>1.5982</td>\n    </tr>\n    <tr>\n      <th>27</th>\n      <td>service</td>\n      <td>18.202622</td>\n      <td>18.834023</td>\n      <td>Topic5</td>\n      <td>-3.2650</td>\n      <td>1.5792</td>\n    </tr>\n    <tr>\n      <th>101</th>\n      <td>thing</td>\n      <td>15.180134</td>\n      <td>15.815586</td>\n      <td>Topic5</td>\n      <td>-3.4466</td>\n      <td>1.5723</td>\n    </tr>\n    <tr>\n      <th>30</th>\n      <td>technology</td>\n      <td>15.285703</td>\n      <td>15.938032</td>\n      <td>Topic5</td>\n      <td>-3.4397</td>\n      <td>1.5715</td>\n    </tr>\n    <tr>\n      <th>282</th>\n      <td>environment</td>\n      <td>9.410357</td>\n      <td>10.042924</td>\n      <td>Topic5</td>\n      <td>-3.9248</td>\n      <td>1.5482</td>\n    </tr>\n    <tr>\n      <th>26</th>\n      <td>product</td>\n      <td>17.017233</td>\n      <td>25.543991</td>\n      <td>Topic5</td>\n      <td>-3.3324</td>\n      <td>1.2071</td>\n    </tr>\n  </tbody>\n</table>\n</div>",
          "text/plain": "            Term        Freq       Total Category  logprob  loglift\n1      ecosystem  212.000000  212.000000  Default   5.0000   5.0000\n17       problem   84.000000   84.000000  Default   4.0000   4.0000\n20      customer   42.000000   42.000000  Default   3.0000   3.0000\n3        mindset   54.000000   54.000000  Default   2.0000   2.0000\n2     innovation   51.000000   51.000000  Default   1.0000   1.0000\n35   opportunity   24.063369   24.701820   Topic1  -2.6042   1.9689\n12       machine   17.606795   18.242748   Topic1  -2.9166   1.9596\n37          help   15.790930   16.433256   Topic1  -3.0254   1.9552\n7    traditional   11.614836   12.260411   Topic1  -3.3326   1.9409\n160         case    7.540067    8.182664   Topic1  -3.7646   1.9133\n3        mindset    7.654634   54.268247   Topic1  -3.7495   0.0364\n17       problem   83.541799   84.170512   Topic2  -1.7376   1.6095\n38   abstraction   28.097567   28.727734   Topic2  -2.8272   1.5948\n18      solution   19.862912   20.491225   Topic2  -3.1741   1.5858\n49          deal   15.477863   16.108387   Topic2  -3.4235   1.5770\n155         city   15.522510   16.158344   Topic2  -3.4206   1.5768\n3        mindset   46.129230   54.268247   Topic2  -2.3315   1.4545\n1      ecosystem  212.017213  212.633521   Topic3  -1.1995   1.2208\n2     innovation   50.722291   51.338633   Topic3  -2.6298   1.2117\n6          model   46.817689   47.437669   Topic3  -2.7099   1.2106\n5           type   43.153723   43.773868   Topic3  -2.7914   1.2095\n4       platform   41.326346   41.943901   Topic3  -2.8346   1.2089\n65          rule   21.989290   22.617245   Topic4  -2.9298   1.7313\n44        player   19.016894   19.641460   Topic4  -3.0751   1.7272\n162         flow   16.727676   17.348436   Topic4  -3.2033   1.7231\n134        skill   12.161196   12.790899   Topic4  -3.5221   1.7090\n297    hierarchy   10.175564   10.800344   Topic4  -3.7004   1.6999\n20      customer   41.855041   42.491815   Topic5  -2.4324   1.5982\n27       service   18.202622   18.834023   Topic5  -3.2650   1.5792\n101        thing   15.180134   15.815586   Topic5  -3.4466   1.5723\n30    technology   15.285703   15.938032   Topic5  -3.4397   1.5715\n282  environment    9.410357   10.042924   Topic5  -3.9248   1.5482\n26       product   17.017233   25.543991   Topic5  -3.3324   1.2071"
         },
         "metadata": {},
         "output_type": "display_data"
        },
        {
         "data": {
          "text/html": "\n<link rel=\"stylesheet\" type=\"text/css\" href=\"https://cdn.rawgit.com/bmabey/pyLDAvis/files/ldavis.v1.0.0.css\">\n\n\n<div id=\"ldavis_el1602822445401932482238058041\"></div>\n<script type=\"text/javascript\">\n\nvar ldavis_el1602822445401932482238058041_data = {\"mdsDat\": {\"x\": [150.22215270996094, 51.16336441040039, -73.1445541381836, -66.4101333618164, 54.41732406616211], \"y\": [-72.2695541381836, -159.968017578125, 21.523815155029297, -110.60643768310547, 12.44344425201416], \"topics\": [1, 2, 3, 4, 5], \"cluster\": [1, 1, 1, 1, 1], \"Freq\": [13.60085336432707, 19.850135442022207, 29.41251635432905, 17.213185678753554, 19.92330916056812]}, \"tinfo\": {\"Term\": [\"ecosystem\", \"problem\", \"customer\", \"mindset\", \"innovation\", \"opportunity\", \"machine\", \"help\", \"traditional\", \"case\", \"mindset\", \"problem\", \"abstraction\", \"solution\", \"deal\", \"city\", \"mindset\", \"ecosystem\", \"innovation\", \"model\", \"type\", \"platform\", \"rule\", \"player\", \"flow\", \"skill\", \"hierarchy\", \"customer\", \"service\", \"thing\", \"technology\", \"environment\", \"product\"], \"Freq\": [212.0, 84.0, 42.0, 54.0, 51.0, 24.063368885679445, 17.606795223090103, 15.790929934878788, 11.614836445742277, 7.540067466701348, 7.654634432415792, 83.54179859503675, 28.097566672841978, 19.862911598718107, 15.477862728378783, 15.522509630362885, 46.1292300721218, 212.01721305576683, 50.722290687844186, 46.81768857404405, 43.15372345089252, 41.326345842728756, 21.98929015563146, 19.01689364735927, 16.727676462744554, 12.161196144145615, 10.175564449617562, 41.85504118596748, 18.202621601787232, 15.180133948461293, 15.285703066093506, 9.410356652257535, 17.01723259335455], \"Total\": [212.0, 84.0, 42.0, 54.0, 51.0, 24.701819622455005, 18.242748117964286, 16.433255985191543, 12.260411377412263, 8.182663911269291, 54.26824728551643, 84.1705124659823, 28.72773402868963, 20.49122529362513, 16.108386773954145, 16.158343594633866, 54.26824728551643, 212.63352115769356, 51.33863254896066, 47.43766882600843, 43.773867724829586, 41.943900659987484, 22.617244539784267, 19.641460157475592, 17.348436249416604, 12.790899073297577, 10.800344149018969, 42.491815336359984, 18.834022755017905, 15.815585525220852, 15.938031716095967, 10.042924337934728, 25.543990893763013], \"Category\": [\"Default\", \"Default\", \"Default\", \"Default\", \"Default\", \"Topic1\", \"Topic1\", \"Topic1\", \"Topic1\", \"Topic1\", \"Topic1\", \"Topic2\", \"Topic2\", \"Topic2\", \"Topic2\", \"Topic2\", \"Topic2\", \"Topic3\", \"Topic3\", \"Topic3\", \"Topic3\", \"Topic3\", \"Topic4\", \"Topic4\", \"Topic4\", \"Topic4\", \"Topic4\", \"Topic5\", \"Topic5\", \"Topic5\", \"Topic5\", \"Topic5\", \"Topic5\"], \"logprob\": [5.0, 4.0, 3.0, 2.0, 1.0, -2.6041998863220215, -2.916599988937378, -3.025399923324585, -3.3326001167297363, -3.7646000385284424, -3.749500036239624, -1.7375999689102173, -2.827199935913086, -3.174099922180176, -3.4235000610351562, -3.420599937438965, -2.3315000534057617, -1.1994999647140503, -2.6298000812530518, -2.70989990234375, -2.7913999557495117, -2.8345999717712402, -2.929800033569336, -3.0750999450683594, -3.2032999992370605, -3.5220999717712402, -3.7004001140594482, -2.4323999881744385, -3.265000104904175, -3.4465999603271484, -3.43969988822937, -3.924799919128418, -3.33240008354187], \"loglift\": [5.0, 4.0, 3.0, 2.0, 1.0, 1.9689, 1.9596, 1.9552, 1.9409, 1.9133, 0.0364, 1.6095, 1.5948, 1.5858, 1.577, 1.5768, 1.4545, 1.2208, 1.2117, 1.2106, 1.2095, 1.2089, 1.7313, 1.7272, 1.7231, 1.709, 1.6999, 1.5982, 1.5792, 1.5723, 1.5715, 1.5482, 1.2071]}, \"token.table\": {\"Topic\": [2, 1, 2, 5, 2, 3, 5, 4, 1, 4, 3, 1, 1, 2, 3, 1, 3, 4, 2, 3, 5, 4, 5, 4, 2, 5, 5, 1, 3], \"Freq\": [0.9746678931250596, 0.9776767183340228, 0.9902005057816414, 0.9884256454456738, 0.9311919443263984, 0.9970205960271723, 0.8961533211999484, 0.9799154088352878, 0.973635414334082, 0.9258964216347063, 0.9934039429539204, 0.9866934457245922, 0.14741585365582846, 0.8476411585210136, 0.9907738125240997, 0.9715883431592618, 0.9774961163569624, 0.9673415238819987, 0.997974201879177, 0.31318520403768746, 0.6655185585800859, 0.9727091185357032, 0.9557172269638626, 0.9381670460563115, 0.9760275295114756, 0.9411450715618391, 0.948431531420683, 0.9787599804446997, 0.982321239473417], \"Term\": [\"abstraction\", \"case\", \"city\", \"customer\", \"deal\", \"ecosystem\", \"environment\", \"flow\", \"help\", \"hierarchy\", \"innovation\", \"machine\", \"mindset\", \"mindset\", \"model\", \"opportunity\", \"platform\", \"player\", \"problem\", \"product\", \"product\", \"rule\", \"service\", \"skill\", \"solution\", \"technology\", \"thing\", \"traditional\", \"type\"]}, \"R\": 5, \"lambda.step\": 0.01, \"plot.opts\": {\"xlab\": \"PC1\", \"ylab\": \"PC2\"}, \"topic.order\": [1, 2, 3, 4, 5]};\n\nfunction LDAvis_load_lib(url, callback){\n  var s = document.createElement('script');\n  s.src = url;\n  s.async = true;\n  s.onreadystatechange = s.onload = callback;\n  s.onerror = function(){console.warn(\"failed to load library \" + url);};\n  document.getElementsByTagName(\"head\")[0].appendChild(s);\n}\n\nif(typeof(LDAvis) !== \"undefined\"){\n   // already loaded: just create the visualization\n   !function(LDAvis){\n       new LDAvis(\"#\" + \"ldavis_el1602822445401932482238058041\", ldavis_el1602822445401932482238058041_data);\n   }(LDAvis);\n}else if(typeof define === \"function\" && define.amd){\n   // require.js is available: use it to load d3/LDAvis\n   require.config({paths: {d3: \"https://cdnjs.cloudflare.com/ajax/libs/d3/3.5.5/d3.min\"}});\n   require([\"d3\"], function(d3){\n      window.d3 = d3;\n      LDAvis_load_lib(\"https://cdn.rawgit.com/bmabey/pyLDAvis/files/ldavis.v1.0.0.js\", function(){\n        new LDAvis(\"#\" + \"ldavis_el1602822445401932482238058041\", ldavis_el1602822445401932482238058041_data);\n      });\n    });\n}else{\n    // require.js not available: dynamically load d3 & LDAvis\n    LDAvis_load_lib(\"https://cdnjs.cloudflare.com/ajax/libs/d3/3.5.5/d3.min.js\", function(){\n         LDAvis_load_lib(\"https://cdn.rawgit.com/bmabey/pyLDAvis/files/ldavis.v1.0.0.js\", function(){\n                 new LDAvis(\"#\" + \"ldavis_el1602822445401932482238058041\", ldavis_el1602822445401932482238058041_data);\n            })\n         });\n}\n</script>",
          "text/plain": "PreparedData(topic_coordinates=                x           y  topics  cluster       Freq\ntopic                                                    \n0      150.222153  -72.269554       1        1  13.600853\n1       51.163364 -159.968018       2        1  19.850135\n2      -73.144554   21.523815       3        1  29.412516\n3      -66.410133 -110.606438       4        1  17.213186\n4       54.417324   12.443444       5        1  19.923309, topic_info=            Term        Freq       Total Category  logprob  loglift\n1      ecosystem  212.000000  212.000000  Default   5.0000   5.0000\n17       problem   84.000000   84.000000  Default   4.0000   4.0000\n20      customer   42.000000   42.000000  Default   3.0000   3.0000\n3        mindset   54.000000   54.000000  Default   2.0000   2.0000\n2     innovation   51.000000   51.000000  Default   1.0000   1.0000\n35   opportunity   24.063369   24.701820   Topic1  -2.6042   1.9689\n12       machine   17.606795   18.242748   Topic1  -2.9166   1.9596\n37          help   15.790930   16.433256   Topic1  -3.0254   1.9552\n7    traditional   11.614836   12.260411   Topic1  -3.3326   1.9409\n160         case    7.540067    8.182664   Topic1  -3.7646   1.9133\n3        mindset    7.654634   54.268247   Topic1  -3.7495   0.0364\n17       problem   83.541799   84.170512   Topic2  -1.7376   1.6095\n38   abstraction   28.097567   28.727734   Topic2  -2.8272   1.5948\n18      solution   19.862912   20.491225   Topic2  -3.1741   1.5858\n49          deal   15.477863   16.108387   Topic2  -3.4235   1.5770\n155         city   15.522510   16.158344   Topic2  -3.4206   1.5768\n3        mindset   46.129230   54.268247   Topic2  -2.3315   1.4545\n1      ecosystem  212.017213  212.633521   Topic3  -1.1995   1.2208\n2     innovation   50.722291   51.338633   Topic3  -2.6298   1.2117\n6          model   46.817689   47.437669   Topic3  -2.7099   1.2106\n5           type   43.153723   43.773868   Topic3  -2.7914   1.2095\n4       platform   41.326346   41.943901   Topic3  -2.8346   1.2089\n65          rule   21.989290   22.617245   Topic4  -2.9298   1.7313\n44        player   19.016894   19.641460   Topic4  -3.0751   1.7272\n162         flow   16.727676   17.348436   Topic4  -3.2033   1.7231\n134        skill   12.161196   12.790899   Topic4  -3.5221   1.7090\n297    hierarchy   10.175564   10.800344   Topic4  -3.7004   1.6999\n20      customer   41.855041   42.491815   Topic5  -2.4324   1.5982\n27       service   18.202622   18.834023   Topic5  -3.2650   1.5792\n101        thing   15.180134   15.815586   Topic5  -3.4466   1.5723\n30    technology   15.285703   15.938032   Topic5  -3.4397   1.5715\n282  environment    9.410357   10.042924   Topic5  -3.9248   1.5482\n26       product   17.017233   25.543991   Topic5  -3.3324   1.2071, token_table=      Topic      Freq         Term\nterm                              \n38        2  0.974668  abstraction\n160       1  0.977677         case\n155       2  0.990201         city\n20        5  0.988426     customer\n49        2  0.931192         deal\n1         3  0.997021    ecosystem\n282       5  0.896153  environment\n162       4  0.979915         flow\n37        1  0.973635         help\n297       4  0.925896    hierarchy\n2         3  0.993404   innovation\n12        1  0.986693      machine\n3         1  0.147416      mindset\n3         2  0.847641      mindset\n6         3  0.990774        model\n35        1  0.971588  opportunity\n4         3  0.977496     platform\n44        4  0.967342       player\n17        2  0.997974      problem\n26        3  0.313185      product\n26        5  0.665519      product\n65        4  0.972709         rule\n27        5  0.955717      service\n134       4  0.938167        skill\n18        2  0.976028     solution\n30        5  0.941145   technology\n101       5  0.948432        thing\n7         1  0.978760  traditional\n5         3  0.982321         type, R=5, lambda_step=0.01, plot_opts={'xlab': 'PC1', 'ylab': 'PC2'}, topic_order=[1, 2, 3, 4, 5])"
         },
         "metadata": {},
         "output_type": "display_data"
        },
        {
         "data": {
          "application/vnd.jupyter.widget-view+json": {
           "model_id": "c1adc1ef43b244fbad343342b460722b",
           "version_major": 2,
           "version_minor": 0
          },
          "text/plain": "interactive(children=(Dropdown(description='Topic', options=('ALL', 1.0, 2.0, 3.0, 4.0, 5.0), value='ALL'), Ou…"
         },
         "metadata": {},
         "output_type": "display_data"
        },
        {
         "data": {
          "text/plain": "<gensim.models.ldamodel.LdaModel at 0x20a98fd2760>"
         },
         "metadata": {},
         "output_type": "display_data"
        }
       ]
      }
     },
     "66948b323e3f447cabb15497126f2e8d": {
      "model_module": "@jupyter-widgets/controls",
      "model_module_version": "1.5.0",
      "model_name": "VBoxModel",
      "state": {
       "_dom_classes": [
        "widget-interact"
       ],
       "children": [
        "IPY_MODEL_47342c970fd64903b0d603151587a731",
        "IPY_MODEL_02f4b6a6401a477f9c83e32e04b4260e"
       ],
       "layout": "IPY_MODEL_ec219cef97ef4123af16c342886b2556"
      }
     },
     "66dde81078df48fea610188897309b5e": {
      "model_module": "@jupyter-widgets/base",
      "model_module_version": "1.2.0",
      "model_name": "LayoutModel",
      "state": {}
     },
     "67d0753a8e374668a18356b28e52d78f": {
      "model_module": "@jupyter-widgets/controls",
      "model_module_version": "1.5.0",
      "model_name": "DropdownModel",
      "state": {
       "_options_labels": [
        "2",
        "3",
        "4",
        "5",
        "6",
        "7",
        "8",
        "9",
        "10",
        "11",
        "12",
        "13",
        "14",
        "15",
        "16",
        "17",
        "18",
        "19",
        "20",
        "21",
        "22",
        "23",
        "24",
        "25",
        "26",
        "27",
        "28",
        "29",
        "30",
        "31",
        "32",
        "33",
        "34",
        "35",
        "36",
        "37",
        "38",
        "39",
        "40",
        "41",
        "42",
        "43",
        "44",
        "45",
        "46",
        "47",
        "48",
        "49",
        "50"
       ],
       "description": "x",
       "index": 48,
       "layout": "IPY_MODEL_4852971e7f854d439d1df2dfcfb003ec",
       "style": "IPY_MODEL_8225bdfc2aa640e4bfb1422f7d27a23f"
      }
     },
     "687d2529d8cb41cabfcdb06bbd3148bd": {
      "model_module": "@jupyter-widgets/controls",
      "model_module_version": "1.5.0",
      "model_name": "VBoxModel",
      "state": {
       "_dom_classes": [
        "widget-interact"
       ],
       "children": [
        "IPY_MODEL_8123f47d26df454a8745f2536ada2aaa",
        "IPY_MODEL_dae89b91f6364d82badefb8ab26f5291"
       ],
       "layout": "IPY_MODEL_e1ea88f8b32c4a3cba0646ea0d59002d"
      }
     },
     "6998f9fb60ef44d2bd0667929a0ec90d": {
      "model_module": "@jupyter-widgets/base",
      "model_module_version": "1.2.0",
      "model_name": "LayoutModel",
      "state": {}
     },
     "6ca944d0e49a4363a855b2ad3c7f57e6": {
      "model_module": "@jupyter-widgets/controls",
      "model_module_version": "1.5.0",
      "model_name": "VBoxModel",
      "state": {
       "_dom_classes": [
        "widget-interact"
       ],
       "children": [
        "IPY_MODEL_f1ca2b56c3a241a492675ed45ae7d5b8",
        "IPY_MODEL_d82d446838de434c995e91951e3257d3"
       ],
       "layout": "IPY_MODEL_456de9c14d474d22a18e4a03f608d227"
      }
     },
     "6dbc58936e024742b44c4a568706e97b": {
      "model_module": "@jupyter-widgets/controls",
      "model_module_version": "1.5.0",
      "model_name": "DropdownModel",
      "state": {
       "_options_labels": [
        "ALL",
        "6.0",
        "13.0",
        "18.0",
        "32.0"
       ],
       "description": "Topic",
       "index": 0,
       "layout": "IPY_MODEL_2596c39f29bc4535be41e4cfeb25c77d",
       "style": "IPY_MODEL_299ac2d1c5ec43ad9cf036ba7aebcdaa"
      }
     },
     "6eb33f3844b741179d396bea17ba3853": {
      "model_module": "@jupyter-widgets/base",
      "model_module_version": "1.2.0",
      "model_name": "LayoutModel",
      "state": {}
     },
     "6ffbfd2597494cdeb500c387acde483a": {
      "model_module": "@jupyter-widgets/base",
      "model_module_version": "1.2.0",
      "model_name": "LayoutModel",
      "state": {}
     },
     "70d749e6be38461eb6c642998de8c48d": {
      "model_module": "@jupyter-widgets/base",
      "model_module_version": "1.2.0",
      "model_name": "LayoutModel",
      "state": {}
     },
     "71b45ce26d0e4bdb912faf37cefe9dc1": {
      "model_module": "@jupyter-widgets/controls",
      "model_module_version": "1.5.0",
      "model_name": "DescriptionStyleModel",
      "state": {
       "description_width": ""
      }
     },
     "71c6af2fefc643ff8c66f57c29f7c386": {
      "model_module": "@jupyter-widgets/base",
      "model_module_version": "1.2.0",
      "model_name": "LayoutModel",
      "state": {}
     },
     "7328169f439d42a6883ddd718e5aff63": {
      "model_module": "@jupyter-widgets/base",
      "model_module_version": "1.2.0",
      "model_name": "LayoutModel",
      "state": {}
     },
     "77b6ffa889b24e12996bda0c30d2d5b3": {
      "model_module": "@jupyter-widgets/controls",
      "model_module_version": "1.5.0",
      "model_name": "VBoxModel",
      "state": {
       "_dom_classes": [
        "widget-interact"
       ],
       "children": [
        "IPY_MODEL_67d0753a8e374668a18356b28e52d78f",
        "IPY_MODEL_e2ac6ea6108f4b67897799b44a909ba8"
       ],
       "layout": "IPY_MODEL_0204e7542a894d329838c46e2d8e70c5"
      }
     },
     "78cbde922f5849aeada6e45e4a6cf69d": {
      "model_module": "@jupyter-widgets/output",
      "model_module_version": "1.0.0",
      "model_name": "OutputModel",
      "state": {
       "layout": "IPY_MODEL_07f5633746834bc7a6c08b7c2359522e",
       "outputs": [
        {
         "data": {
          "text/html": "<div>\n<style scoped>\n    .dataframe tbody tr th:only-of-type {\n        vertical-align: middle;\n    }\n\n    .dataframe tbody tr th {\n        vertical-align: top;\n    }\n\n    .dataframe thead th {\n        text-align: right;\n    }\n</style>\n<table border=\"1\" class=\"dataframe\">\n  <thead>\n    <tr style=\"text-align: right;\">\n      <th></th>\n      <th>Document_No</th>\n      <th>Dominant_Topic</th>\n      <th>Topic_Perc_Contrib</th>\n      <th>Keywords</th>\n      <th>Text</th>\n    </tr>\n  </thead>\n  <tbody>\n    <tr>\n      <th>0</th>\n      <td>0</td>\n      <td>1.0</td>\n      <td>0.7028</td>\n      <td>ecosystem, mindset, innovation, model, customer, type, platform, opportunity, rule, community</td>\n      <td>Ecosystem mindset is key to competitiveness but note that the competition is ecosystem vs ecosystem and not company vs company</td>\n    </tr>\n    <tr>\n      <th>1</th>\n      <td>1</td>\n      <td>1.0</td>\n      <td>0.9112</td>\n      <td>ecosystem, mindset, innovation, model, customer, type, platform, opportunity, rule, community</td>\n      <td>There are three types of ecosystems 1) Business 2) Innovation 3) Platform, we need to find position in an ecosystem that creates value and to create value we need to use the right mindset</td>\n    </tr>\n    <tr>\n      <th>2</th>\n      <td>2</td>\n      <td>1.0</td>\n      <td>0.8951</td>\n      <td>ecosystem, mindset, innovation, model, customer, type, platform, opportunity, rule, community</td>\n      <td>Companies in ecosystems create significant value, companies with traditional mindsets using old business models do not</td>\n    </tr>\n    <tr>\n      <th>3</th>\n      <td>3</td>\n      <td>1.0</td>\n      <td>0.8355</td>\n      <td>ecosystem, mindset, innovation, model, customer, type, platform, opportunity, rule, community</td>\n      <td>One should invest in those assets and capabilities that are rare, valuable, and hard for competitors to imitate</td>\n    </tr>\n    <tr>\n      <th>4</th>\n      <td>4</td>\n      <td>1.0</td>\n      <td>0.8815</td>\n      <td>ecosystem, mindset, innovation, model, customer, type, platform, opportunity, rule, community</td>\n      <td>For an organization which is ready for human-machine collaboration 1) leadership is critical 2) building trust in artificial intelligence systems and insights 3) reskilling the workforce to ensure complementarity and 4) address employee's concerns,</td>\n    </tr>\n    <tr>\n      <th>...</th>\n      <td>...</td>\n      <td>...</td>\n      <td>...</td>\n      <td>...</td>\n      <td>...</td>\n    </tr>\n    <tr>\n      <th>846</th>\n      <td>846</td>\n      <td>1.0</td>\n      <td>0.7721</td>\n      <td>ecosystem, mindset, innovation, model, customer, type, platform, opportunity, rule, community</td>\n      <td>With artificial intelligence taking over everything, smart homes, smart cities etc. what is the security implication because, we are yet to combat the security flaws of the IoT. security threat landscape is evolving at a rapid pace.</td>\n    </tr>\n    <tr>\n      <th>847</th>\n      <td>847</td>\n      <td>1.0</td>\n      <td>0.9109</td>\n      <td>ecosystem, mindset, innovation, model, customer, type, platform, opportunity, rule, community</td>\n      <td>Imagine the problem we might encounter when a whole city is being taken over, the security doesn\\'t really matter, machine cant work without human intervention, so human error is always a threat which gives room for social engineering exploits, if your home is being hacked for example, technically all your gadget have been taken over, if the victims is a worker of a company which allows BYOD, then imagine the endless possibilities risk in this scenario</td>\n    </tr>\n    <tr>\n      <th>848</th>\n      <td>848</td>\n      <td>2.0</td>\n      <td>0.7174</td>\n      <td>problem, abstraction, solution, service, product, flow, deal, technology, thing, application</td>\n      <td>As the world begins to fully adopt artificial intelligence, we need to put security measures in place right from the development stage as so much depends on it. The way we live and do things are being replaced or rather done by machine.</td>\n    </tr>\n    <tr>\n      <th>849</th>\n      <td>849</td>\n      <td>1.0</td>\n      <td>0.6283</td>\n      <td>ecosystem, mindset, innovation, model, customer, type, platform, opportunity, rule, community</td>\n      <td>We need to narrow the usage of artificial intelligence in our personal life in order to be on a safer side, by adopting all technological inventions, our privacy is being compromised and our way of live and the way we think is being defined by the technologies and the inventors. We expose all our day to day activities by using smart devices, as the manufacturer often spy on users</td>\n    </tr>\n    <tr>\n      <th>850</th>\n      <td>850</td>\n      <td>1.0</td>\n      <td>0.7731</td>\n      <td>ecosystem, mindset, innovation, model, customer, type, platform, opportunity, rule, community</td>\n      <td>Ecosystem mindset, the key to competitiveness of artificial intelligence companies is very essential in solving complex problems and it provides values to the construction companies so we need to put measures in place to integrate into artificial intelligence that would be Ecosystems friendly</td>\n    </tr>\n  </tbody>\n</table>\n<p>851 rows × 5 columns</p>\n</div>",
          "text/plain": "     Document_No  Dominant_Topic  Topic_Perc_Contrib  \\\n0              0             1.0              0.7028   \n1              1             1.0              0.9112   \n2              2             1.0              0.8951   \n3              3             1.0              0.8355   \n4              4             1.0              0.8815   \n..           ...             ...                 ...   \n846          846             1.0              0.7721   \n847          847             1.0              0.9109   \n848          848             2.0              0.7174   \n849          849             1.0              0.6283   \n850          850             1.0              0.7731   \n\n                                                                                          Keywords  \\\n0    ecosystem, mindset, innovation, model, customer, type, platform, opportunity, rule, community   \n1    ecosystem, mindset, innovation, model, customer, type, platform, opportunity, rule, community   \n2    ecosystem, mindset, innovation, model, customer, type, platform, opportunity, rule, community   \n3    ecosystem, mindset, innovation, model, customer, type, platform, opportunity, rule, community   \n4    ecosystem, mindset, innovation, model, customer, type, platform, opportunity, rule, community   \n..                                                                                             ...   \n846  ecosystem, mindset, innovation, model, customer, type, platform, opportunity, rule, community   \n847  ecosystem, mindset, innovation, model, customer, type, platform, opportunity, rule, community   \n848   problem, abstraction, solution, service, product, flow, deal, technology, thing, application   \n849  ecosystem, mindset, innovation, model, customer, type, platform, opportunity, rule, community   \n850  ecosystem, mindset, innovation, model, customer, type, platform, opportunity, rule, community   \n\n                                                                                                                                                                                                                                                                                                                                                                                                                                                                         Text  \n0                                                                                                                                                                                                                                                                                                                                              Ecosystem mindset is key to competitiveness but note that the competition is ecosystem vs ecosystem and not company vs company  \n1                                                                                                                                                                                                                                                                                 There are three types of ecosystems 1) Business 2) Innovation 3) Platform, we need to find position in an ecosystem that creates value and to create value we need to use the right mindset  \n2                                                                                                                                                                                                                                                                                                                                                      Companies in ecosystems create significant value, companies with traditional mindsets using old business models do not  \n3                                                                                                                                                                                                                                                                                                                                                             One should invest in those assets and capabilities that are rare, valuable, and hard for competitors to imitate  \n4                                                                                                                                                                                                                    For an organization which is ready for human-machine collaboration 1) leadership is critical 2) building trust in artificial intelligence systems and insights 3) reskilling the workforce to ensure complementarity and 4) address employee's concerns,  \n..                                                                                                                                                                                                                                                                                                                                                                                                                                                                        ...  \n846                                                                                                                                                                                                                                  With artificial intelligence taking over everything, smart homes, smart cities etc. what is the security implication because, we are yet to combat the security flaws of the IoT. security threat landscape is evolving at a rapid pace.  \n847  Imagine the problem we might encounter when a whole city is being taken over, the security doesn\\'t really matter, machine cant work without human intervention, so human error is always a threat which gives room for social engineering exploits, if your home is being hacked for example, technically all your gadget have been taken over, if the victims is a worker of a company which allows BYOD, then imagine the endless possibilities risk in this scenario  \n848                                                                                                                                                                                                                              As the world begins to fully adopt artificial intelligence, we need to put security measures in place right from the development stage as so much depends on it. The way we live and do things are being replaced or rather done by machine.  \n849                                                                            We need to narrow the usage of artificial intelligence in our personal life in order to be on a safer side, by adopting all technological inventions, our privacy is being compromised and our way of live and the way we think is being defined by the technologies and the inventors. We expose all our day to day activities by using smart devices, as the manufacturer often spy on users  \n850                                                                                                                                                                     Ecosystem mindset, the key to competitiveness of artificial intelligence companies is very essential in solving complex problems and it provides values to the construction companies so we need to put measures in place to integrate into artificial intelligence that would be Ecosystems friendly  \n\n[851 rows x 5 columns]"
         },
         "metadata": {},
         "output_type": "display_data"
        }
       ]
      }
     },
     "7b20c9eb923c4ff9977880ad341292ef": {
      "model_module": "@jupyter-widgets/controls",
      "model_module_version": "1.5.0",
      "model_name": "DescriptionStyleModel",
      "state": {
       "description_width": ""
      }
     },
     "7ba86285adbb41d58a8b5f1978daf4d2": {
      "model_module": "@jupyter-widgets/controls",
      "model_module_version": "1.5.0",
      "model_name": "VBoxModel",
      "state": {
       "_dom_classes": [
        "widget-interact"
       ],
       "children": [
        "IPY_MODEL_0e6933a2c2d9437faec32a612f1bbc2e",
        "IPY_MODEL_a9ce817cc74e4dfe8386d09eae6c6e7e"
       ],
       "layout": "IPY_MODEL_951a5d80823942c0bf507bfc62ae2da1"
      }
     },
     "7c22ed0f80e0441782b320ca872b02cf": {
      "model_module": "@jupyter-widgets/base",
      "model_module_version": "1.2.0",
      "model_name": "LayoutModel",
      "state": {}
     },
     "7f8ec5756b5e4229b680b2f65b42343d": {
      "model_module": "@jupyter-widgets/controls",
      "model_module_version": "1.5.0",
      "model_name": "DescriptionStyleModel",
      "state": {
       "description_width": ""
      }
     },
     "801e925c5db643c6bf1545ef77dbcb4c": {
      "model_module": "@jupyter-widgets/base",
      "model_module_version": "1.2.0",
      "model_name": "LayoutModel",
      "state": {}
     },
     "803842481fcb459f83eac3bbe5d2a794": {
      "model_module": "@jupyter-widgets/base",
      "model_module_version": "1.2.0",
      "model_name": "LayoutModel",
      "state": {}
     },
     "8123f47d26df454a8745f2536ada2aaa": {
      "model_module": "@jupyter-widgets/controls",
      "model_module_version": "1.5.0",
      "model_name": "DropdownModel",
      "state": {
       "_options_labels": [
        "ALL",
        "1.0",
        "2.0",
        "3.0"
       ],
       "description": "Topic",
       "index": 0,
       "layout": "IPY_MODEL_7c22ed0f80e0441782b320ca872b02cf",
       "style": "IPY_MODEL_a1c93606efeb44a6b611933a56e8e7f9"
      }
     },
     "81c2580bc14142cf815c17aa4fe7e7f5": {
      "model_module": "@jupyter-widgets/controls",
      "model_module_version": "1.5.0",
      "model_name": "VBoxModel",
      "state": {
       "_dom_classes": [
        "widget-interact"
       ],
       "children": [
        "IPY_MODEL_5375ba3c9ca245aaa5041b4b46b403fb",
        "IPY_MODEL_efb31861762e4cbe91e7101bc709cf00"
       ],
       "layout": "IPY_MODEL_6998f9fb60ef44d2bd0667929a0ec90d"
      }
     },
     "8225bdfc2aa640e4bfb1422f7d27a23f": {
      "model_module": "@jupyter-widgets/controls",
      "model_module_version": "1.5.0",
      "model_name": "DescriptionStyleModel",
      "state": {
       "description_width": ""
      }
     },
     "822c88c28d804cbab8321207b43ea7fd": {
      "model_module": "@jupyter-widgets/controls",
      "model_module_version": "1.5.0",
      "model_name": "DescriptionStyleModel",
      "state": {
       "description_width": ""
      }
     },
     "82d6ab9d3b19471a98abc92b00fb9c76": {
      "model_module": "@jupyter-widgets/output",
      "model_module_version": "1.0.0",
      "model_name": "OutputModel",
      "state": {
       "layout": "IPY_MODEL_ac05bb66dfbf4f3295963a527b84339d",
       "outputs": [
        {
         "data": {
          "text/html": "<div>\n<style scoped>\n    .dataframe tbody tr th:only-of-type {\n        vertical-align: middle;\n    }\n\n    .dataframe tbody tr th {\n        vertical-align: top;\n    }\n\n    .dataframe thead th {\n        text-align: right;\n    }\n</style>\n<table border=\"1\" class=\"dataframe\">\n  <thead>\n    <tr style=\"text-align: right;\">\n      <th></th>\n      <th>Document_No</th>\n      <th>Dominant_Topic</th>\n      <th>Topic_Perc_Contrib</th>\n      <th>Keywords</th>\n      <th>Text</th>\n    </tr>\n  </thead>\n  <tbody>\n    <tr>\n      <th>0</th>\n      <td>0</td>\n      <td>3.0</td>\n      <td>0.6343</td>\n      <td>innovation, type, platform, ecosystem, standard, price, improvement, chain, merchandise, setting</td>\n      <td>Ecosystem mindset is key to competitiveness but note that the competition is ecosystem vs ecosystem and not company vs company</td>\n    </tr>\n    <tr>\n      <th>1</th>\n      <td>1</td>\n      <td>12.0</td>\n      <td>0.6117</td>\n      <td>problem, solution, help, complexity, mentality, notion, space, parameter, local, abstract</td>\n      <td>There are three types of ecosystems 1) Business 2) Innovation 3) Platform, we need to find position in an ecosystem that creates value and to create value we need to use the right mindset</td>\n    </tr>\n    <tr>\n      <th>2</th>\n      <td>2</td>\n      <td>4.0</td>\n      <td>0.6712</td>\n      <td>cooperation, proposition, establish, compete, flow, main, requirement, hierarchy, parameter, node</td>\n      <td>Companies in ecosystems create significant value, companies with traditional mindsets using old business models do not</td>\n    </tr>\n    <tr>\n      <th>3</th>\n      <td>3</td>\n      <td>3.0</td>\n      <td>0.6124</td>\n      <td>innovation, type, platform, ecosystem, standard, price, improvement, chain, merchandise, setting</td>\n      <td>One should invest in those assets and capabilities that are rare, valuable, and hard for competitors to imitate</td>\n    </tr>\n    <tr>\n      <th>4</th>\n      <td>4</td>\n      <td>21.0</td>\n      <td>0.7156</td>\n      <td>ecosystem, participant, independently, agent, university, blueprint, construct, supplier, part, environment</td>\n      <td>For an organization which is ready for human-machine collaboration 1) leadership is critical 2) building trust in artificial intelligence systems and insights 3) reskilling the workforce to ensure complementarity and 4) address employee's concerns,</td>\n    </tr>\n    <tr>\n      <th>5</th>\n      <td>5</td>\n      <td>3.0</td>\n      <td>0.6161</td>\n      <td>innovation, type, platform, ecosystem, standard, price, improvement, chain, merchandise, setting</td>\n      <td>Ability to mimic human intelligence is what makes artificial intelligence applications useful</td>\n    </tr>\n    <tr>\n      <th>6</th>\n      <td>6</td>\n      <td>21.0</td>\n      <td>0.6348</td>\n      <td>ecosystem, participant, independently, agent, university, blueprint, construct, supplier, part, environment</td>\n      <td>It is not possible to create value without the right mindset</td>\n    </tr>\n    <tr>\n      <th>7</th>\n      <td>7</td>\n      <td>3.0</td>\n      <td>0.6160</td>\n      <td>innovation, type, platform, ecosystem, standard, price, improvement, chain, merchandise, setting</td>\n      <td>The world now is interdependent</td>\n    </tr>\n    <tr>\n      <th>8</th>\n      <td>8</td>\n      <td>2.0</td>\n      <td>0.6680</td>\n      <td>device, location, cloud, point, storage, thousand, mile, close, voice, utility</td>\n      <td>Old hierarchy-based business models do not work (even if the business schools are still teaching them)</td>\n    </tr>\n    <tr>\n      <th>9</th>\n      <td>9</td>\n      <td>15.0</td>\n      <td>0.6291</td>\n      <td>community, machine, datum, government, edge, policy, critical, agency, tech, rely</td>\n      <td>Competition now is about ecosystems</td>\n    </tr>\n    <tr>\n      <th>10</th>\n      <td>10</td>\n      <td>3.0</td>\n      <td>0.7500</td>\n      <td>innovation, type, platform, ecosystem, standard, price, improvement, chain, merchandise, setting</td>\n      <td>Complex problems require complex solutions, is not possible to solve them with lazy thinking</td>\n    </tr>\n    <tr>\n      <th>11</th>\n      <td>11</td>\n      <td>12.0</td>\n      <td>0.6117</td>\n      <td>problem, solution, help, complexity, mentality, notion, space, parameter, local, abstract</td>\n      <td>Artificial intelligence business applications can be viewed as an ecosystem</td>\n    </tr>\n    <tr>\n      <th>12</th>\n      <td>12</td>\n      <td>3.0</td>\n      <td>0.6160</td>\n      <td>innovation, type, platform, ecosystem, standard, price, improvement, chain, merchandise, setting</td>\n      <td>Artificial intelligence specific open platforms are also critical ecosystem components</td>\n    </tr>\n    <tr>\n      <th>13</th>\n      <td>13</td>\n      <td>12.0</td>\n      <td>0.6975</td>\n      <td>problem, solution, help, complexity, mentality, notion, space, parameter, local, abstract</td>\n      <td>Ecosystem management relates to customer interaction and understanding customer needs</td>\n    </tr>\n    <tr>\n      <th>14</th>\n      <td>14</td>\n      <td>3.0</td>\n      <td>0.6124</td>\n      <td>innovation, type, platform, ecosystem, standard, price, improvement, chain, merchandise, setting</td>\n      <td>Using the artificial intelligence tools well and building the ecosystem can help firms understand customer pain points and provide profound solutions</td>\n    </tr>\n    <tr>\n      <th>15</th>\n      <td>15</td>\n      <td>12.0</td>\n      <td>0.6117</td>\n      <td>problem, solution, help, complexity, mentality, notion, space, parameter, local, abstract</td>\n      <td>Awareness of the implications of transitioning from existing system to a new AI-based system is necessary for management</td>\n    </tr>\n    <tr>\n      <th>16</th>\n      <td>16</td>\n      <td>3.0</td>\n      <td>0.7491</td>\n      <td>innovation, type, platform, ecosystem, standard, price, improvement, chain, merchandise, setting</td>\n      <td>The growth is not always internal, companies are acquiring startups in artificial intelligence field</td>\n    </tr>\n    <tr>\n      <th>17</th>\n      <td>17</td>\n      <td>3.0</td>\n      <td>0.6121</td>\n      <td>innovation, type, platform, ecosystem, standard, price, improvement, chain, merchandise, setting</td>\n      <td>To create value that is significant, you need to be part of the ecosystem</td>\n    </tr>\n    <tr>\n      <th>18</th>\n      <td>18</td>\n      <td>3.0</td>\n      <td>0.6160</td>\n      <td>innovation, type, platform, ecosystem, standard, price, improvement, chain, merchandise, setting</td>\n      <td>Ecosystem provides standard or ground requirement for autonomous organisations to produce complex interdependent products or services</td>\n    </tr>\n    <tr>\n      <th>19</th>\n      <td>19</td>\n      <td>12.0</td>\n      <td>0.6975</td>\n      <td>problem, solution, help, complexity, mentality, notion, space, parameter, local, abstract</td>\n      <td>Ecosystem harness creativity and innovation to allow members to reach customers and lower cost of productions by identifying talented personnel to design, develop, deploy, and train Artificial Intelligence technologies</td>\n    </tr>\n    <tr>\n      <th>20</th>\n      <td>20</td>\n      <td>3.0</td>\n      <td>0.7500</td>\n      <td>innovation, type, platform, ecosystem, standard, price, improvement, chain, merchandise, setting</td>\n      <td>Business ecosystem involves the construction technologies to design, develop, deploy, and scale artificial intelligence applications</td>\n    </tr>\n    <tr>\n      <th>21</th>\n      <td>21</td>\n      <td>1.0</td>\n      <td>0.6743</td>\n      <td>product, service, traditional, shift, single, organisation, vacuum, city, final, requirement</td>\n      <td>Innovation ecosystem supports leverage networks by promoting collaboration between industry, government, academia, nationality, regionally and globally</td>\n    </tr>\n    <tr>\n      <th>22</th>\n      <td>22</td>\n      <td>3.0</td>\n      <td>0.6160</td>\n      <td>innovation, type, platform, ecosystem, standard, price, improvement, chain, merchandise, setting</td>\n      <td>Artificial Intelligence transformation involves building a business case for source of values which match technological solutions to real problems to validate the source of value is good artificial intelligence opportunity</td>\n    </tr>\n    <tr>\n      <th>23</th>\n      <td>23</td>\n      <td>3.0</td>\n      <td>0.6871</td>\n      <td>innovation, type, platform, ecosystem, standard, price, improvement, chain, merchandise, setting</td>\n      <td>Artificial intelligence is the present, its no longer the future</td>\n    </tr>\n    <tr>\n      <th>24</th>\n      <td>24</td>\n      <td>3.0</td>\n      <td>0.6123</td>\n      <td>innovation, type, platform, ecosystem, standard, price, improvement, chain, merchandise, setting</td>\n      <td>You must build your ecosystem if you want to lead in artificial intelligence</td>\n    </tr>\n    <tr>\n      <th>25</th>\n      <td>25</td>\n      <td>1.0</td>\n      <td>0.6794</td>\n      <td>product, service, traditional, shift, single, organisation, vacuum, city, final, requirement</td>\n      <td>Doing something to add value, you must work with others not alone</td>\n    </tr>\n    <tr>\n      <th>26</th>\n      <td>26</td>\n      <td>12.0</td>\n      <td>0.6117</td>\n      <td>problem, solution, help, complexity, mentality, notion, space, parameter, local, abstract</td>\n      <td>Mindset is essential to work in artificial intelligence</td>\n    </tr>\n    <tr>\n      <th>27</th>\n      <td>27</td>\n      <td>21.0</td>\n      <td>0.6348</td>\n      <td>ecosystem, participant, independently, agent, university, blueprint, construct, supplier, part, environment</td>\n      <td>Artificial intelligence helps us to learn faster than we can ever imagine possible</td>\n    </tr>\n    <tr>\n      <th>28</th>\n      <td>28</td>\n      <td>3.0</td>\n      <td>0.6872</td>\n      <td>innovation, type, platform, ecosystem, standard, price, improvement, chain, merchandise, setting</td>\n      <td>In artificial intelligence ecosystems, solutions to complex problems are achieved through layers of abstractions with the right mindsets</td>\n    </tr>\n    <tr>\n      <th>29</th>\n      <td>29</td>\n      <td>12.0</td>\n      <td>0.6117</td>\n      <td>problem, solution, help, complexity, mentality, notion, space, parameter, local, abstract</td>\n      <td>There is shift in paradigm of artificial intelligence from company versus company to an ecosystem versus ecosystem</td>\n    </tr>\n    <tr>\n      <th>30</th>\n      <td>30</td>\n      <td>3.0</td>\n      <td>0.6115</td>\n      <td>innovation, type, platform, ecosystem, standard, price, improvement, chain, merchandise, setting</td>\n      <td>A good ecosystem model is one that entails multiple players with greater diversity and strength leading to mind dependence</td>\n    </tr>\n    <tr>\n      <th>31</th>\n      <td>31</td>\n      <td>12.0</td>\n      <td>0.6117</td>\n      <td>problem, solution, help, complexity, mentality, notion, space, parameter, local, abstract</td>\n      <td>Innovation ecosystem gives opportunities for Universities, Research Institutes, and Industries to work together to innovate</td>\n    </tr>\n    <tr>\n      <th>32</th>\n      <td>32</td>\n      <td>12.0</td>\n      <td>0.6117</td>\n      <td>problem, solution, help, complexity, mentality, notion, space, parameter, local, abstract</td>\n      <td>Ecosystems can be categorised into business, innovation, and platform ecosystems</td>\n    </tr>\n    <tr>\n      <th>33</th>\n      <td>33</td>\n      <td>12.0</td>\n      <td>0.6117</td>\n      <td>problem, solution, help, complexity, mentality, notion, space, parameter, local, abstract</td>\n      <td>People in a micro organisation are expected to earn power, differentiate roles and be part of the merchandise, financial, information, value, and risk dimensions</td>\n    </tr>\n    <tr>\n      <th>34</th>\n      <td>34</td>\n      <td>3.0</td>\n      <td>0.6125</td>\n      <td>innovation, type, platform, ecosystem, standard, price, improvement, chain, merchandise, setting</td>\n      <td>A right mindset is what we need to create value</td>\n    </tr>\n    <tr>\n      <th>35</th>\n      <td>35</td>\n      <td>1.0</td>\n      <td>0.6794</td>\n      <td>product, service, traditional, shift, single, organisation, vacuum, city, final, requirement</td>\n      <td>Companies in ecosystems create significant value</td>\n    </tr>\n    <tr>\n      <th>36</th>\n      <td>36</td>\n      <td>3.0</td>\n      <td>0.7897</td>\n      <td>innovation, type, platform, ecosystem, standard, price, improvement, chain, merchandise, setting</td>\n      <td>Ecosystem gives an organisation freedom of operations</td>\n    </tr>\n    <tr>\n      <th>37</th>\n      <td>37</td>\n      <td>12.0</td>\n      <td>0.6117</td>\n      <td>problem, solution, help, complexity, mentality, notion, space, parameter, local, abstract</td>\n      <td>A company needs the three types of ecosystem (Business, innovation, and platform ecosystems) to create value.</td>\n    </tr>\n    <tr>\n      <th>38</th>\n      <td>38</td>\n      <td>3.0</td>\n      <td>0.7492</td>\n      <td>innovation, type, platform, ecosystem, standard, price, improvement, chain, merchandise, setting</td>\n      <td>A good ecosystem brings to the company's door better customers,</td>\n    </tr>\n    <tr>\n      <th>39</th>\n      <td>39</td>\n      <td>3.0</td>\n      <td>0.6160</td>\n      <td>innovation, type, platform, ecosystem, standard, price, improvement, chain, merchandise, setting</td>\n      <td>The promise of artificial intelligence is beyond just creating an algorithm. It deals with complex problems to create value for an organization.</td>\n    </tr>\n    <tr>\n      <th>40</th>\n      <td>40</td>\n      <td>3.0</td>\n      <td>0.7491</td>\n      <td>innovation, type, platform, ecosystem, standard, price, improvement, chain, merchandise, setting</td>\n      <td>Meaningful and important value is created in an organization or community by artificial intelligence through Ecosystem.</td>\n    </tr>\n    <tr>\n      <th>41</th>\n      <td>41</td>\n      <td>3.0</td>\n      <td>0.6871</td>\n      <td>innovation, type, platform, ecosystem, standard, price, improvement, chain, merchandise, setting</td>\n      <td>Artificial intelligence and Ecosystem models bring global paradigm shift in creating value of a company.</td>\n    </tr>\n    <tr>\n      <th>42</th>\n      <td>42</td>\n      <td>3.0</td>\n      <td>0.7499</td>\n      <td>innovation, type, platform, ecosystem, standard, price, improvement, chain, merchandise, setting</td>\n      <td>To improve the economy, we need to pass artificial intelligence and the ecosystem mindset to the youth</td>\n    </tr>\n    <tr>\n      <th>43</th>\n      <td>43</td>\n      <td>3.0</td>\n      <td>0.6874</td>\n      <td>innovation, type, platform, ecosystem, standard, price, improvement, chain, merchandise, setting</td>\n      <td>Creating and utilizing models that have significant number of players is necessary in Ecosystem</td>\n    </tr>\n    <tr>\n      <th>44</th>\n      <td>44</td>\n      <td>3.0</td>\n      <td>0.7491</td>\n      <td>innovation, type, platform, ecosystem, standard, price, improvement, chain, merchandise, setting</td>\n      <td>Individuals from network of organizations that creates rules of engagement in ecosystem are called keystones</td>\n    </tr>\n  </tbody>\n</table>\n</div>",
          "text/plain": "    Document_No  Dominant_Topic  Topic_Perc_Contrib  \\\n0             0             3.0              0.6343   \n1             1            12.0              0.6117   \n2             2             4.0              0.6712   \n3             3             3.0              0.6124   \n4             4            21.0              0.7156   \n5             5             3.0              0.6161   \n6             6            21.0              0.6348   \n7             7             3.0              0.6160   \n8             8             2.0              0.6680   \n9             9            15.0              0.6291   \n10           10             3.0              0.7500   \n11           11            12.0              0.6117   \n12           12             3.0              0.6160   \n13           13            12.0              0.6975   \n14           14             3.0              0.6124   \n15           15            12.0              0.6117   \n16           16             3.0              0.7491   \n17           17             3.0              0.6121   \n18           18             3.0              0.6160   \n19           19            12.0              0.6975   \n20           20             3.0              0.7500   \n21           21             1.0              0.6743   \n22           22             3.0              0.6160   \n23           23             3.0              0.6871   \n24           24             3.0              0.6123   \n25           25             1.0              0.6794   \n26           26            12.0              0.6117   \n27           27            21.0              0.6348   \n28           28             3.0              0.6872   \n29           29            12.0              0.6117   \n30           30             3.0              0.6115   \n31           31            12.0              0.6117   \n32           32            12.0              0.6117   \n33           33            12.0              0.6117   \n34           34             3.0              0.6125   \n35           35             1.0              0.6794   \n36           36             3.0              0.7897   \n37           37            12.0              0.6117   \n38           38             3.0              0.7492   \n39           39             3.0              0.6160   \n40           40             3.0              0.7491   \n41           41             3.0              0.6871   \n42           42             3.0              0.7499   \n43           43             3.0              0.6874   \n44           44             3.0              0.7491   \n\n                                                                                                       Keywords  \\\n0              innovation, type, platform, ecosystem, standard, price, improvement, chain, merchandise, setting   \n1                     problem, solution, help, complexity, mentality, notion, space, parameter, local, abstract   \n2             cooperation, proposition, establish, compete, flow, main, requirement, hierarchy, parameter, node   \n3              innovation, type, platform, ecosystem, standard, price, improvement, chain, merchandise, setting   \n4   ecosystem, participant, independently, agent, university, blueprint, construct, supplier, part, environment   \n5              innovation, type, platform, ecosystem, standard, price, improvement, chain, merchandise, setting   \n6   ecosystem, participant, independently, agent, university, blueprint, construct, supplier, part, environment   \n7              innovation, type, platform, ecosystem, standard, price, improvement, chain, merchandise, setting   \n8                                device, location, cloud, point, storage, thousand, mile, close, voice, utility   \n9                             community, machine, datum, government, edge, policy, critical, agency, tech, rely   \n10             innovation, type, platform, ecosystem, standard, price, improvement, chain, merchandise, setting   \n11                    problem, solution, help, complexity, mentality, notion, space, parameter, local, abstract   \n12             innovation, type, platform, ecosystem, standard, price, improvement, chain, merchandise, setting   \n13                    problem, solution, help, complexity, mentality, notion, space, parameter, local, abstract   \n14             innovation, type, platform, ecosystem, standard, price, improvement, chain, merchandise, setting   \n15                    problem, solution, help, complexity, mentality, notion, space, parameter, local, abstract   \n16             innovation, type, platform, ecosystem, standard, price, improvement, chain, merchandise, setting   \n17             innovation, type, platform, ecosystem, standard, price, improvement, chain, merchandise, setting   \n18             innovation, type, platform, ecosystem, standard, price, improvement, chain, merchandise, setting   \n19                    problem, solution, help, complexity, mentality, notion, space, parameter, local, abstract   \n20             innovation, type, platform, ecosystem, standard, price, improvement, chain, merchandise, setting   \n21                 product, service, traditional, shift, single, organisation, vacuum, city, final, requirement   \n22             innovation, type, platform, ecosystem, standard, price, improvement, chain, merchandise, setting   \n23             innovation, type, platform, ecosystem, standard, price, improvement, chain, merchandise, setting   \n24             innovation, type, platform, ecosystem, standard, price, improvement, chain, merchandise, setting   \n25                 product, service, traditional, shift, single, organisation, vacuum, city, final, requirement   \n26                    problem, solution, help, complexity, mentality, notion, space, parameter, local, abstract   \n27  ecosystem, participant, independently, agent, university, blueprint, construct, supplier, part, environment   \n28             innovation, type, platform, ecosystem, standard, price, improvement, chain, merchandise, setting   \n29                    problem, solution, help, complexity, mentality, notion, space, parameter, local, abstract   \n30             innovation, type, platform, ecosystem, standard, price, improvement, chain, merchandise, setting   \n31                    problem, solution, help, complexity, mentality, notion, space, parameter, local, abstract   \n32                    problem, solution, help, complexity, mentality, notion, space, parameter, local, abstract   \n33                    problem, solution, help, complexity, mentality, notion, space, parameter, local, abstract   \n34             innovation, type, platform, ecosystem, standard, price, improvement, chain, merchandise, setting   \n35                 product, service, traditional, shift, single, organisation, vacuum, city, final, requirement   \n36             innovation, type, platform, ecosystem, standard, price, improvement, chain, merchandise, setting   \n37                    problem, solution, help, complexity, mentality, notion, space, parameter, local, abstract   \n38             innovation, type, platform, ecosystem, standard, price, improvement, chain, merchandise, setting   \n39             innovation, type, platform, ecosystem, standard, price, improvement, chain, merchandise, setting   \n40             innovation, type, platform, ecosystem, standard, price, improvement, chain, merchandise, setting   \n41             innovation, type, platform, ecosystem, standard, price, improvement, chain, merchandise, setting   \n42             innovation, type, platform, ecosystem, standard, price, improvement, chain, merchandise, setting   \n43             innovation, type, platform, ecosystem, standard, price, improvement, chain, merchandise, setting   \n44             innovation, type, platform, ecosystem, standard, price, improvement, chain, merchandise, setting   \n\n                                                                                                                                                                                                                                                        Text  \n0                                                                                                                             Ecosystem mindset is key to competitiveness but note that the competition is ecosystem vs ecosystem and not company vs company  \n1                                                                There are three types of ecosystems 1) Business 2) Innovation 3) Platform, we need to find position in an ecosystem that creates value and to create value we need to use the right mindset  \n2                                                                                                                                     Companies in ecosystems create significant value, companies with traditional mindsets using old business models do not  \n3                                                                                                                                            One should invest in those assets and capabilities that are rare, valuable, and hard for competitors to imitate  \n4   For an organization which is ready for human-machine collaboration 1) leadership is critical 2) building trust in artificial intelligence systems and insights 3) reskilling the workforce to ensure complementarity and 4) address employee's concerns,  \n5                                                                                                                                                              Ability to mimic human intelligence is what makes artificial intelligence applications useful  \n6                                                                                                                                                                                               It is not possible to create value without the right mindset  \n7                                                                                                                                                                                                                            The world now is interdependent  \n8                                                                                                                                                     Old hierarchy-based business models do not work (even if the business schools are still teaching them)  \n9                                                                                                                                                                                                                        Competition now is about ecosystems  \n10                                                                                                                                                              Complex problems require complex solutions, is not possible to solve them with lazy thinking  \n11                                                                                                                                                                               Artificial intelligence business applications can be viewed as an ecosystem  \n12                                                                                                                                                                    Artificial intelligence specific open platforms are also critical ecosystem components  \n13                                                                                                                                                                     Ecosystem management relates to customer interaction and understanding customer needs  \n14                                                                                                     Using the artificial intelligence tools well and building the ecosystem can help firms understand customer pain points and provide profound solutions  \n15                                                                                                                                  Awareness of the implications of transitioning from existing system to a new AI-based system is necessary for management  \n16                                                                                                                                                      The growth is not always internal, companies are acquiring startups in artificial intelligence field  \n17                                                                                                                                                                                 To create value that is significant, you need to be part of the ecosystem  \n18                                                                                                                     Ecosystem provides standard or ground requirement for autonomous organisations to produce complex interdependent products or services  \n19                                Ecosystem harness creativity and innovation to allow members to reach customers and lower cost of productions by identifying talented personnel to design, develop, deploy, and train Artificial Intelligence technologies  \n20                                                                                                                      Business ecosystem involves the construction technologies to design, develop, deploy, and scale artificial intelligence applications  \n21                                                                                                   Innovation ecosystem supports leverage networks by promoting collaboration between industry, government, academia, nationality, regionally and globally  \n22                            Artificial Intelligence transformation involves building a business case for source of values which match technological solutions to real problems to validate the source of value is good artificial intelligence opportunity  \n23                                                                                                                                                                                          Artificial intelligence is the present, its no longer the future  \n24                                                                                                                                                                              You must build your ecosystem if you want to lead in artificial intelligence  \n25                                                                                                                                                                                         Doing something to add value, you must work with others not alone  \n26                                                                                                                                                                                                   Mindset is essential to work in artificial intelligence  \n27                                                                                                                                                                        Artificial intelligence helps us to learn faster than we can ever imagine possible  \n28                                                                                                                  In artificial intelligence ecosystems, solutions to complex problems are achieved through layers of abstractions with the right mindsets  \n29                                                                                                                                        There is shift in paradigm of artificial intelligence from company versus company to an ecosystem versus ecosystem  \n30                                                                                                                                A good ecosystem model is one that entails multiple players with greater diversity and strength leading to mind dependence  \n31                                                                                                                               Innovation ecosystem gives opportunities for Universities, Research Institutes, and Industries to work together to innovate  \n32                                                                                                                                                                          Ecosystems can be categorised into business, innovation, and platform ecosystems  \n33                                                                                         People in a micro organisation are expected to earn power, differentiate roles and be part of the merchandise, financial, information, value, and risk dimensions  \n34                                                                                                                                                                                                           A right mindset is what we need to create value  \n35                                                                                                                                                                                                          Companies in ecosystems create significant value  \n36                                                                                                                                                                                                     Ecosystem gives an organisation freedom of operations  \n37                                                                                                                                             A company needs the three types of ecosystem (Business, innovation, and platform ecosystems) to create value.  \n38                                                                                                                                                                                           A good ecosystem brings to the company's door better customers,  \n39                                                                                                          The promise of artificial intelligence is beyond just creating an algorithm. It deals with complex problems to create value for an organization.  \n40                                                                                                                                   Meaningful and important value is created in an organization or community by artificial intelligence through Ecosystem.  \n41                                                                                                                                                  Artificial intelligence and Ecosystem models bring global paradigm shift in creating value of a company.  \n42                                                                                                                                                    To improve the economy, we need to pass artificial intelligence and the ecosystem mindset to the youth  \n43                                                                                                                                                           Creating and utilizing models that have significant number of players is necessary in Ecosystem  \n44                                                                                                                                              Individuals from network of organizations that creates rules of engagement in ecosystem are called keystones  "
         },
         "metadata": {},
         "output_type": "display_data"
        }
       ]
      }
     },
     "852fc44b789c410fa78dd19950aa6ffb": {
      "model_module": "@jupyter-widgets/base",
      "model_module_version": "1.2.0",
      "model_name": "LayoutModel",
      "state": {}
     },
     "87d82695cac645f8861b39d765b3c0c5": {
      "model_module": "@jupyter-widgets/base",
      "model_module_version": "1.2.0",
      "model_name": "LayoutModel",
      "state": {}
     },
     "88db34d37b054d4c87ad286504c19b65": {
      "model_module": "@jupyter-widgets/base",
      "model_module_version": "1.2.0",
      "model_name": "LayoutModel",
      "state": {}
     },
     "88ef6bcdb42d470abd703ae5b8c2c604": {
      "model_module": "@jupyter-widgets/base",
      "model_module_version": "1.2.0",
      "model_name": "LayoutModel",
      "state": {}
     },
     "88f47014083245738bf3a18440457e1f": {
      "model_module": "@jupyter-widgets/output",
      "model_module_version": "1.0.0",
      "model_name": "OutputModel",
      "state": {
       "layout": "IPY_MODEL_1f2a1638159446dfa39b2198c358c3c1",
       "outputs": [
        {
         "data": {
          "text/html": "<div>\n<style scoped>\n    .dataframe tbody tr th:only-of-type {\n        vertical-align: middle;\n    }\n\n    .dataframe tbody tr th {\n        vertical-align: top;\n    }\n\n    .dataframe thead th {\n        text-align: right;\n    }\n</style>\n<table border=\"1\" class=\"dataframe\">\n  <thead>\n    <tr style=\"text-align: right;\">\n      <th></th>\n      <th>Document_No</th>\n      <th>Dominant_Topic</th>\n      <th>Topic_Perc_Contrib</th>\n      <th>Keywords</th>\n      <th>Text</th>\n    </tr>\n  </thead>\n  <tbody>\n    <tr>\n      <th>0</th>\n      <td>0</td>\n      <td>3.0</td>\n      <td>0.7129</td>\n      <td>ecosystem, innovation, model, type, platform, community, local, today, standard, price</td>\n      <td>Ecosystem mindset is key to competitiveness but note that the competition is ecosystem vs ecosystem and not company vs company</td>\n    </tr>\n    <tr>\n      <th>1</th>\n      <td>1</td>\n      <td>1.0</td>\n      <td>0.6165</td>\n      <td>opportunity, machine, help, traditional, mindset, case, capability, shift, year, single</td>\n      <td>There are three types of ecosystems 1) Business 2) Innovation 3) Platform, we need to find position in an ecosystem that creates value and to create value we need to use the right mindset</td>\n    </tr>\n    <tr>\n      <th>2</th>\n      <td>2</td>\n      <td>3.0</td>\n      <td>0.6420</td>\n      <td>ecosystem, innovation, model, type, platform, community, local, today, standard, price</td>\n      <td>Companies in ecosystems create significant value, companies with traditional mindsets using old business models do not</td>\n    </tr>\n    <tr>\n      <th>3</th>\n      <td>3</td>\n      <td>2.0</td>\n      <td>0.7237</td>\n      <td>problem, mindset, abstraction, solution, city, deal, application, stakeholder, datum, cooperation</td>\n      <td>One should invest in those assets and capabilities that are rare, valuable, and hard for competitors to imitate</td>\n    </tr>\n    <tr>\n      <th>4</th>\n      <td>4</td>\n      <td>5.0</td>\n      <td>0.6974</td>\n      <td>customer, service, product, technology, thing, environment, hypothesis, sensor, benefit, idea</td>\n      <td>For an organization which is ready for human-machine collaboration 1) leadership is critical 2) building trust in artificial intelligence systems and insights 3) reskilling the workforce to ensure complementarity and 4) address employee's concerns,</td>\n    </tr>\n    <tr>\n      <th>...</th>\n      <td>...</td>\n      <td>...</td>\n      <td>...</td>\n      <td>...</td>\n      <td>...</td>\n    </tr>\n    <tr>\n      <th>376</th>\n      <td>376</td>\n      <td>3.0</td>\n      <td>0.8769</td>\n      <td>ecosystem, innovation, model, type, platform, community, local, today, standard, price</td>\n      <td>The value is usually more important than the algorithm or its design.</td>\n    </tr>\n    <tr>\n      <th>377</th>\n      <td>377</td>\n      <td>2.0</td>\n      <td>0.6360</td>\n      <td>problem, mindset, abstraction, solution, city, deal, application, stakeholder, datum, cooperation</td>\n      <td>The organizational structure is responsible for job loss and not the AI</td>\n    </tr>\n    <tr>\n      <th>378</th>\n      <td>378</td>\n      <td>3.0</td>\n      <td>0.6420</td>\n      <td>ecosystem, innovation, model, type, platform, community, local, today, standard, price</td>\n      <td>Artificial intelligence is very important, however, if you cannot create value from an artificial intelligence application, then you have nothing.</td>\n    </tr>\n    <tr>\n      <th>379</th>\n      <td>379</td>\n      <td>4.0</td>\n      <td>0.7092</td>\n      <td>rule, player, flow, skill, hierarchy, government, proposition, role, part, challenge</td>\n      <td>Complex problems require several levels of abstraction to be solved</td>\n    </tr>\n    <tr>\n      <th>380</th>\n      <td>380</td>\n      <td>3.0</td>\n      <td>0.6420</td>\n      <td>ecosystem, innovation, model, type, platform, community, local, today, standard, price</td>\n      <td>Autonomous, independent decisions can be made in an ecosystem</td>\n    </tr>\n  </tbody>\n</table>\n<p>381 rows × 5 columns</p>\n</div>",
          "text/plain": "     Document_No  Dominant_Topic  Topic_Perc_Contrib  \\\n0              0             3.0              0.7129   \n1              1             1.0              0.6165   \n2              2             3.0              0.6420   \n3              3             2.0              0.7237   \n4              4             5.0              0.6974   \n..           ...             ...                 ...   \n376          376             3.0              0.8769   \n377          377             2.0              0.6360   \n378          378             3.0              0.6420   \n379          379             4.0              0.7092   \n380          380             3.0              0.6420   \n\n                                                                                              Keywords  \\\n0               ecosystem, innovation, model, type, platform, community, local, today, standard, price   \n1              opportunity, machine, help, traditional, mindset, case, capability, shift, year, single   \n2               ecosystem, innovation, model, type, platform, community, local, today, standard, price   \n3    problem, mindset, abstraction, solution, city, deal, application, stakeholder, datum, cooperation   \n4        customer, service, product, technology, thing, environment, hypothesis, sensor, benefit, idea   \n..                                                                                                 ...   \n376             ecosystem, innovation, model, type, platform, community, local, today, standard, price   \n377  problem, mindset, abstraction, solution, city, deal, application, stakeholder, datum, cooperation   \n378             ecosystem, innovation, model, type, platform, community, local, today, standard, price   \n379               rule, player, flow, skill, hierarchy, government, proposition, role, part, challenge   \n380             ecosystem, innovation, model, type, platform, community, local, today, standard, price   \n\n                                                                                                                                                                                                                                                         Text  \n0                                                                                                                              Ecosystem mindset is key to competitiveness but note that the competition is ecosystem vs ecosystem and not company vs company  \n1                                                                 There are three types of ecosystems 1) Business 2) Innovation 3) Platform, we need to find position in an ecosystem that creates value and to create value we need to use the right mindset  \n2                                                                                                                                      Companies in ecosystems create significant value, companies with traditional mindsets using old business models do not  \n3                                                                                                                                             One should invest in those assets and capabilities that are rare, valuable, and hard for competitors to imitate  \n4    For an organization which is ready for human-machine collaboration 1) leadership is critical 2) building trust in artificial intelligence systems and insights 3) reskilling the workforce to ensure complementarity and 4) address employee's concerns,  \n..                                                                                                                                                                                                                                                        ...  \n376                                                                                                                                                                                     The value is usually more important than the algorithm or its design.  \n377                                                                                                                                                                                   The organizational structure is responsible for job loss and not the AI  \n378                                                                                                        Artificial intelligence is very important, however, if you cannot create value from an artificial intelligence application, then you have nothing.  \n379                                                                                                                                                                                       Complex problems require several levels of abstraction to be solved  \n380                                                                                                                                                                                             Autonomous, independent decisions can be made in an ecosystem  \n\n[381 rows x 5 columns]"
         },
         "metadata": {},
         "output_type": "display_data"
        }
       ]
      }
     },
     "8af7cb1f7e1c42df98f8555ffab15937": {
      "model_module": "@jupyter-widgets/output",
      "model_module_version": "1.0.0",
      "model_name": "OutputModel",
      "state": {
       "layout": "IPY_MODEL_567404be882c4a83bea87a6e29e82c20",
       "outputs": [
        {
         "data": {
          "text/html": "<div>\n<style scoped>\n    .dataframe tbody tr th:only-of-type {\n        vertical-align: middle;\n    }\n\n    .dataframe tbody tr th {\n        vertical-align: top;\n    }\n\n    .dataframe thead th {\n        text-align: right;\n    }\n</style>\n<table border=\"1\" class=\"dataframe\">\n  <thead>\n    <tr style=\"text-align: right;\">\n      <th></th>\n      <th>Document_No</th>\n      <th>Dominant_Topic</th>\n      <th>Topic_Perc_Contrib</th>\n      <th>Keywords</th>\n      <th>Text</th>\n    </tr>\n  </thead>\n  <tbody>\n    <tr>\n      <th>0</th>\n      <td>0</td>\n      <td>8.0</td>\n      <td>0.6805</td>\n      <td>ecosystem, innovation, type, platform, community, local, agent, benefit, university, major</td>\n      <td>Ecosystem mindset is key to competitiveness but note that the competition is ecosystem vs ecosystem and not company vs company</td>\n    </tr>\n    <tr>\n      <th>1</th>\n      <td>1</td>\n      <td>6.0</td>\n      <td>0.6151</td>\n      <td>customer, part, hypothesis, competitor, capability, supplier, rationale, offer, military, enthusiasm</td>\n      <td>There are three types of ecosystems 1) Business 2) Innovation 3) Platform, we need to find position in an ecosystem that creates value and to create value we need to use the right mindset</td>\n    </tr>\n    <tr>\n      <th>2</th>\n      <td>2</td>\n      <td>9.0</td>\n      <td>0.7052</td>\n      <td>model, product, service, stakeholder, requirement, final, delivery, unnecessary, centre, infrastructure</td>\n      <td>Companies in ecosystems create significant value, companies with traditional mindsets using old business models do not</td>\n    </tr>\n    <tr>\n      <th>3</th>\n      <td>3</td>\n      <td>12.0</td>\n      <td>0.6388</td>\n      <td>problem, solution, help, city, price, cooperation, transformation, complexity, mentality, improvement</td>\n      <td>One should invest in those assets and capabilities that are rare, valuable, and hard for competitors to imitate</td>\n    </tr>\n    <tr>\n      <th>4</th>\n      <td>4</td>\n      <td>6.0</td>\n      <td>0.6151</td>\n      <td>customer, part, hypothesis, competitor, capability, supplier, rationale, offer, military, enthusiasm</td>\n      <td>For an organization which is ready for human-machine collaboration 1) leadership is critical 2) building trust in artificial intelligence systems and insights 3) reskilling the workforce to ensure complementarity and 4) address employee's concerns,</td>\n    </tr>\n    <tr>\n      <th>...</th>\n      <td>...</td>\n      <td>...</td>\n      <td>...</td>\n      <td>...</td>\n      <td>...</td>\n    </tr>\n    <tr>\n      <th>209</th>\n      <td>209</td>\n      <td>8.0</td>\n      <td>0.6927</td>\n      <td>ecosystem, innovation, type, platform, community, local, agent, benefit, university, major</td>\n      <td>To gain competitive advantage companies need to utilize and be part of the ecosystem.</td>\n    </tr>\n    <tr>\n      <th>210</th>\n      <td>210</td>\n      <td>8.0</td>\n      <td>0.7629</td>\n      <td>ecosystem, innovation, type, platform, community, local, agent, benefit, university, major</td>\n      <td>An ecosystem provides freedom to make significant decision enabling creative innovations.</td>\n    </tr>\n    <tr>\n      <th>211</th>\n      <td>211</td>\n      <td>8.0</td>\n      <td>0.8069</td>\n      <td>ecosystem, innovation, type, platform, community, local, agent, benefit, university, major</td>\n      <td>For artificial intelligence to make change, the company need to harness its power, role played and the flows to achieve the goals.</td>\n    </tr>\n    <tr>\n      <th>212</th>\n      <td>212</td>\n      <td>8.0</td>\n      <td>0.8372</td>\n      <td>ecosystem, innovation, type, platform, community, local, agent, benefit, university, major</td>\n      <td>Companies need to have a good ecosystem to be able to scale early and rapidly.</td>\n    </tr>\n    <tr>\n      <th>213</th>\n      <td>213</td>\n      <td>3.0</td>\n      <td>0.6352</td>\n      <td>rule, player, flow, today, standard, hierarchy, role, idea, barrier, resource</td>\n      <td>The ecosystem helps to boost learning experiences as it allows the company to gain knowledge from wider network.</td>\n    </tr>\n  </tbody>\n</table>\n<p>214 rows × 5 columns</p>\n</div>",
          "text/plain": "     Document_No  Dominant_Topic  Topic_Perc_Contrib  \\\n0              0             8.0              0.6805   \n1              1             6.0              0.6151   \n2              2             9.0              0.7052   \n3              3            12.0              0.6388   \n4              4             6.0              0.6151   \n..           ...             ...                 ...   \n209          209             8.0              0.6927   \n210          210             8.0              0.7629   \n211          211             8.0              0.8069   \n212          212             8.0              0.8372   \n213          213             3.0              0.6352   \n\n                                                                                                    Keywords  \\\n0                 ecosystem, innovation, type, platform, community, local, agent, benefit, university, major   \n1       customer, part, hypothesis, competitor, capability, supplier, rationale, offer, military, enthusiasm   \n2    model, product, service, stakeholder, requirement, final, delivery, unnecessary, centre, infrastructure   \n3      problem, solution, help, city, price, cooperation, transformation, complexity, mentality, improvement   \n4       customer, part, hypothesis, competitor, capability, supplier, rationale, offer, military, enthusiasm   \n..                                                                                                       ...   \n209               ecosystem, innovation, type, platform, community, local, agent, benefit, university, major   \n210               ecosystem, innovation, type, platform, community, local, agent, benefit, university, major   \n211               ecosystem, innovation, type, platform, community, local, agent, benefit, university, major   \n212               ecosystem, innovation, type, platform, community, local, agent, benefit, university, major   \n213                            rule, player, flow, today, standard, hierarchy, role, idea, barrier, resource   \n\n                                                                                                                                                                                                                                                         Text  \n0                                                                                                                              Ecosystem mindset is key to competitiveness but note that the competition is ecosystem vs ecosystem and not company vs company  \n1                                                                 There are three types of ecosystems 1) Business 2) Innovation 3) Platform, we need to find position in an ecosystem that creates value and to create value we need to use the right mindset  \n2                                                                                                                                      Companies in ecosystems create significant value, companies with traditional mindsets using old business models do not  \n3                                                                                                                                             One should invest in those assets and capabilities that are rare, valuable, and hard for competitors to imitate  \n4    For an organization which is ready for human-machine collaboration 1) leadership is critical 2) building trust in artificial intelligence systems and insights 3) reskilling the workforce to ensure complementarity and 4) address employee's concerns,  \n..                                                                                                                                                                                                                                                        ...  \n209                                                                                                                                                                     To gain competitive advantage companies need to utilize and be part of the ecosystem.  \n210                                                                                                                                                                 An ecosystem provides freedom to make significant decision enabling creative innovations.  \n211                                                                                                                        For artificial intelligence to make change, the company need to harness its power, role played and the flows to achieve the goals.  \n212                                                                                                                                                                            Companies need to have a good ecosystem to be able to scale early and rapidly.  \n213                                                                                                                                          The ecosystem helps to boost learning experiences as it allows the company to gain knowledge from wider network.  \n\n[214 rows x 5 columns]"
         },
         "metadata": {},
         "output_type": "display_data"
        }
       ]
      }
     },
     "8c5c045e79c24b6bb01907c5e01eec57": {
      "model_module": "@jupyter-widgets/output",
      "model_module_version": "1.0.0",
      "model_name": "OutputModel",
      "state": {
       "layout": "IPY_MODEL_1dfdaac4830a41e5a8d2efe298549998",
       "outputs": [
        {
         "data": {
          "text/html": "<div>\n<style scoped>\n    .dataframe tbody tr th:only-of-type {\n        vertical-align: middle;\n    }\n\n    .dataframe tbody tr th {\n        vertical-align: top;\n    }\n\n    .dataframe thead th {\n        text-align: right;\n    }\n</style>\n<table border=\"1\" class=\"dataframe\">\n  <thead>\n    <tr style=\"text-align: right;\">\n      <th></th>\n      <th>Document_No</th>\n      <th>Dominant_Topic</th>\n      <th>Topic_Perc_Contrib</th>\n      <th>Keywords</th>\n      <th>Text</th>\n    </tr>\n  </thead>\n  <tbody>\n    <tr>\n      <th>0</th>\n      <td>0</td>\n      <td>21.0</td>\n      <td>0.6515</td>\n      <td>ecosystem, innovation, type, platform, datum, leader, device, barrier, resource, location</td>\n      <td>Ecosystem mindset is key to competitiveness but note that the competition is ecosystem vs ecosystem and not company vs company</td>\n    </tr>\n    <tr>\n      <th>1</th>\n      <td>1</td>\n      <td>12.0</td>\n      <td>0.6027</td>\n      <td>solution, problem, cooperation, transformation, establish, space, natural, wrong, unsustainable, worth</td>\n      <td>There are three types of ecosystems 1) Business 2) Innovation 3) Platform, we need to find position in an ecosystem that creates value and to create value we need to use the right mindset</td>\n    </tr>\n    <tr>\n      <th>2</th>\n      <td>2</td>\n      <td>13.0</td>\n      <td>0.6467</td>\n      <td>ecosystem, application, critical, university, blueprint, construct, supplier, part, environment, case</td>\n      <td>Companies in ecosystems create significant value, companies with traditional mindsets using old business models do not</td>\n    </tr>\n    <tr>\n      <th>3</th>\n      <td>3</td>\n      <td>1.0</td>\n      <td>0.6075</td>\n      <td>customer, thing, proposition, stakeholder, bit, delivery, final, design, compete, case</td>\n      <td>One should invest in those assets and capabilities that are rare, valuable, and hard for competitors to imitate</td>\n    </tr>\n    <tr>\n      <th>4</th>\n      <td>4</td>\n      <td>20.0</td>\n      <td>0.6043</td>\n      <td>product, service, idea, lead, partner, easy, manner, effect, keystone, final</td>\n      <td>For an organization which is ready for human-machine collaboration 1) leadership is critical 2) building trust in artificial intelligence systems and insights 3) reskilling the workforce to ensure complementarity and 4) address employee's concerns,</td>\n    </tr>\n    <tr>\n      <th>...</th>\n      <td>...</td>\n      <td>...</td>\n      <td>...</td>\n      <td>...</td>\n      <td>...</td>\n    </tr>\n    <tr>\n      <th>63</th>\n      <td>63</td>\n      <td>21.0</td>\n      <td>0.7197</td>\n      <td>ecosystem, innovation, type, platform, datum, leader, device, barrier, resource, location</td>\n      <td>Each ecosystem needs good coordination mechanism setting proper participation criteria, standards, and rules, and differentiating roles of members.</td>\n    </tr>\n    <tr>\n      <th>64</th>\n      <td>64</td>\n      <td>21.0</td>\n      <td>0.7719</td>\n      <td>ecosystem, innovation, type, platform, datum, leader, device, barrier, resource, location</td>\n      <td>The ecosystem provides for a more stable and resilient supply chain and structure.</td>\n    </tr>\n    <tr>\n      <th>65</th>\n      <td>65</td>\n      <td>21.0</td>\n      <td>0.6342</td>\n      <td>ecosystem, innovation, type, platform, datum, leader, device, barrier, resource, location</td>\n      <td>Ecosystem-enhanced value proposition requires the identification of different types of complementors towards a successful collaborative innovation.</td>\n    </tr>\n    <tr>\n      <th>66</th>\n      <td>66</td>\n      <td>21.0</td>\n      <td>0.7191</td>\n      <td>ecosystem, innovation, type, platform, datum, leader, device, barrier, resource, location</td>\n      <td>Creating value collectively leads to ecosystem relationships strengthening the network effects, which - as a result - increases the partners\\' ability to acquire value.</td>\n    </tr>\n    <tr>\n      <th>67</th>\n      <td>67</td>\n      <td>21.0</td>\n      <td>0.7718</td>\n      <td>ecosystem, innovation, type, platform, datum, leader, device, barrier, resource, location</td>\n      <td>A good opportunity involves problems that are complex, not related to just one but interdependent areas, and not able to solve with the traditional business model we have nowadays.</td>\n    </tr>\n  </tbody>\n</table>\n<p>68 rows × 5 columns</p>\n</div>",
          "text/plain": "    Document_No  Dominant_Topic  Topic_Perc_Contrib  \\\n0             0            21.0              0.6515   \n1             1            12.0              0.6027   \n2             2            13.0              0.6467   \n3             3             1.0              0.6075   \n4             4            20.0              0.6043   \n..          ...             ...                 ...   \n63           63            21.0              0.7197   \n64           64            21.0              0.7719   \n65           65            21.0              0.6342   \n66           66            21.0              0.7191   \n67           67            21.0              0.7718   \n\n                                                                                                  Keywords  \\\n0                ecosystem, innovation, type, platform, datum, leader, device, barrier, resource, location   \n1   solution, problem, cooperation, transformation, establish, space, natural, wrong, unsustainable, worth   \n2    ecosystem, application, critical, university, blueprint, construct, supplier, part, environment, case   \n3                   customer, thing, proposition, stakeholder, bit, delivery, final, design, compete, case   \n4                             product, service, idea, lead, partner, easy, manner, effect, keystone, final   \n..                                                                                                     ...   \n63               ecosystem, innovation, type, platform, datum, leader, device, barrier, resource, location   \n64               ecosystem, innovation, type, platform, datum, leader, device, barrier, resource, location   \n65               ecosystem, innovation, type, platform, datum, leader, device, barrier, resource, location   \n66               ecosystem, innovation, type, platform, datum, leader, device, barrier, resource, location   \n67               ecosystem, innovation, type, platform, datum, leader, device, barrier, resource, location   \n\n                                                                                                                                                                                                                                                        Text  \n0                                                                                                                             Ecosystem mindset is key to competitiveness but note that the competition is ecosystem vs ecosystem and not company vs company  \n1                                                                There are three types of ecosystems 1) Business 2) Innovation 3) Platform, we need to find position in an ecosystem that creates value and to create value we need to use the right mindset  \n2                                                                                                                                     Companies in ecosystems create significant value, companies with traditional mindsets using old business models do not  \n3                                                                                                                                            One should invest in those assets and capabilities that are rare, valuable, and hard for competitors to imitate  \n4   For an organization which is ready for human-machine collaboration 1) leadership is critical 2) building trust in artificial intelligence systems and insights 3) reskilling the workforce to ensure complementarity and 4) address employee's concerns,  \n..                                                                                                                                                                                                                                                       ...  \n63                                                                                                       Each ecosystem needs good coordination mechanism setting proper participation criteria, standards, and rules, and differentiating roles of members.  \n64                                                                                                                                                                        The ecosystem provides for a more stable and resilient supply chain and structure.  \n65                                                                                                       Ecosystem-enhanced value proposition requires the identification of different types of complementors towards a successful collaborative innovation.  \n66                                                                                  Creating value collectively leads to ecosystem relationships strengthening the network effects, which - as a result - increases the partners\\' ability to acquire value.  \n67                                                                      A good opportunity involves problems that are complex, not related to just one but interdependent areas, and not able to solve with the traditional business model we have nowadays.  \n\n[68 rows x 5 columns]"
         },
         "metadata": {},
         "output_type": "display_data"
        }
       ]
      }
     },
     "8e32a861fc3249ba8366275a7ba186ce": {
      "model_module": "@jupyter-widgets/controls",
      "model_module_version": "1.5.0",
      "model_name": "VBoxModel",
      "state": {
       "_dom_classes": [
        "widget-interact"
       ],
       "children": [
        "IPY_MODEL_632936e472b4486eab59301041f6e351",
        "IPY_MODEL_8af7cb1f7e1c42df98f8555ffab15937"
       ],
       "layout": "IPY_MODEL_ab64950cb1634806beaaffdb16009c96"
      }
     },
     "8f760ca83ba144bd94b72d08906de288": {
      "model_module": "@jupyter-widgets/output",
      "model_module_version": "1.0.0",
      "model_name": "OutputModel",
      "state": {
       "layout": "IPY_MODEL_b6bd0d65612340d584c77c6058aab9e5",
       "outputs": [
        {
         "data": {
          "text/html": "<div>\n<style scoped>\n    .dataframe tbody tr th:only-of-type {\n        vertical-align: middle;\n    }\n\n    .dataframe tbody tr th {\n        vertical-align: top;\n    }\n\n    .dataframe thead th {\n        text-align: right;\n    }\n</style>\n<table border=\"1\" class=\"dataframe\">\n  <thead>\n    <tr style=\"text-align: right;\">\n      <th></th>\n      <th>Document_No</th>\n      <th>Dominant_Topic</th>\n      <th>Topic_Perc_Contrib</th>\n      <th>Keywords</th>\n      <th>Text</th>\n    </tr>\n  </thead>\n  <tbody>\n    <tr>\n      <th>2</th>\n      <td>2</td>\n      <td>2.0</td>\n      <td>0.6559</td>\n      <td>ecosystem, application, angle, codevelop, pursue, final, push, stay, tune, feed</td>\n      <td>Companies in ecosystems create significant value, companies with traditional mindsets using old business models do not</td>\n    </tr>\n    <tr>\n      <th>15</th>\n      <td>15</td>\n      <td>2.0</td>\n      <td>0.6559</td>\n      <td>ecosystem, application, angle, codevelop, pursue, final, push, stay, tune, feed</td>\n      <td>Awareness of the implications of transitioning from existing system to a new AI-based system is necessary for management</td>\n    </tr>\n    <tr>\n      <th>42</th>\n      <td>42</td>\n      <td>2.0</td>\n      <td>0.6559</td>\n      <td>ecosystem, application, angle, codevelop, pursue, final, push, stay, tune, feed</td>\n      <td>To improve the economy, we need to pass artificial intelligence and the ecosystem mindset to the youth</td>\n    </tr>\n    <tr>\n      <th>62</th>\n      <td>62</td>\n      <td>2.0</td>\n      <td>0.7350</td>\n      <td>ecosystem, application, angle, codevelop, pursue, final, push, stay, tune, feed</td>\n      <td>The business setup has changed from organizational to ecosystem mindset.</td>\n    </tr>\n    <tr>\n      <th>72</th>\n      <td>72</td>\n      <td>2.0</td>\n      <td>0.7350</td>\n      <td>ecosystem, application, angle, codevelop, pursue, final, push, stay, tune, feed</td>\n      <td>To achieve significant results, we should participate in or build ecosystems</td>\n    </tr>\n  </tbody>\n</table>\n</div>",
          "text/plain": "    Document_No  Dominant_Topic  Topic_Perc_Contrib  \\\n2             2             2.0              0.6559   \n15           15             2.0              0.6559   \n42           42             2.0              0.6559   \n62           62             2.0              0.7350   \n72           72             2.0              0.7350   \n\n                                                                           Keywords  \\\n2   ecosystem, application, angle, codevelop, pursue, final, push, stay, tune, feed   \n15  ecosystem, application, angle, codevelop, pursue, final, push, stay, tune, feed   \n42  ecosystem, application, angle, codevelop, pursue, final, push, stay, tune, feed   \n62  ecosystem, application, angle, codevelop, pursue, final, push, stay, tune, feed   \n72  ecosystem, application, angle, codevelop, pursue, final, push, stay, tune, feed   \n\n                                                                                                                        Text  \n2     Companies in ecosystems create significant value, companies with traditional mindsets using old business models do not  \n15  Awareness of the implications of transitioning from existing system to a new AI-based system is necessary for management  \n42                    To improve the economy, we need to pass artificial intelligence and the ecosystem mindset to the youth  \n62                                                  The business setup has changed from organizational to ecosystem mindset.  \n72                                              To achieve significant results, we should participate in or build ecosystems  "
         },
         "metadata": {},
         "output_type": "display_data"
        }
       ]
      }
     },
     "8fcb57be247a478a91bda2e9a9cf622d": {
      "model_module": "@jupyter-widgets/output",
      "model_module_version": "1.0.0",
      "model_name": "OutputModel",
      "state": {
       "layout": "IPY_MODEL_45f4aaebdb93459faa3f404b6da18b09",
       "outputs": [
        {
         "data": {
          "text/html": "<div>\n<style scoped>\n    .dataframe tbody tr th:only-of-type {\n        vertical-align: middle;\n    }\n\n    .dataframe tbody tr th {\n        vertical-align: top;\n    }\n\n    .dataframe thead th {\n        text-align: right;\n    }\n</style>\n<table border=\"1\" class=\"dataframe\">\n  <thead>\n    <tr style=\"text-align: right;\">\n      <th></th>\n      <th>Document_No</th>\n      <th>Dominant_Topic</th>\n      <th>Topic_Perc_Contrib</th>\n      <th>Keywords</th>\n      <th>Text</th>\n    </tr>\n  </thead>\n  <tbody>\n    <tr>\n      <th>0</th>\n      <td>0</td>\n      <td>1.0</td>\n      <td>0.7028</td>\n      <td>ecosystem, mindset, innovation, model, customer, type, platform, opportunity, rule, community</td>\n      <td>Ecosystem mindset is key to competitiveness but note that the competition is ecosystem vs ecosystem and not company vs company</td>\n    </tr>\n    <tr>\n      <th>1</th>\n      <td>1</td>\n      <td>1.0</td>\n      <td>0.9112</td>\n      <td>ecosystem, mindset, innovation, model, customer, type, platform, opportunity, rule, community</td>\n      <td>There are three types of ecosystems 1) Business 2) Innovation 3) Platform, we need to find position in an ecosystem that creates value and to create value we need to use the right mindset</td>\n    </tr>\n    <tr>\n      <th>2</th>\n      <td>2</td>\n      <td>1.0</td>\n      <td>0.8951</td>\n      <td>ecosystem, mindset, innovation, model, customer, type, platform, opportunity, rule, community</td>\n      <td>Companies in ecosystems create significant value, companies with traditional mindsets using old business models do not</td>\n    </tr>\n    <tr>\n      <th>3</th>\n      <td>3</td>\n      <td>1.0</td>\n      <td>0.8355</td>\n      <td>ecosystem, mindset, innovation, model, customer, type, platform, opportunity, rule, community</td>\n      <td>One should invest in those assets and capabilities that are rare, valuable, and hard for competitors to imitate</td>\n    </tr>\n    <tr>\n      <th>4</th>\n      <td>4</td>\n      <td>1.0</td>\n      <td>0.8815</td>\n      <td>ecosystem, mindset, innovation, model, customer, type, platform, opportunity, rule, community</td>\n      <td>For an organization which is ready for human-machine collaboration 1) leadership is critical 2) building trust in artificial intelligence systems and insights 3) reskilling the workforce to ensure complementarity and 4) address employee's concerns,</td>\n    </tr>\n    <tr>\n      <th>...</th>\n      <td>...</td>\n      <td>...</td>\n      <td>...</td>\n      <td>...</td>\n      <td>...</td>\n    </tr>\n    <tr>\n      <th>846</th>\n      <td>846</td>\n      <td>1.0</td>\n      <td>0.7721</td>\n      <td>ecosystem, mindset, innovation, model, customer, type, platform, opportunity, rule, community</td>\n      <td>With artificial intelligence taking over everything, smart homes, smart cities etc. what is the security implication because, we are yet to combat the security flaws of the IoT. security threat landscape is evolving at a rapid pace.</td>\n    </tr>\n    <tr>\n      <th>847</th>\n      <td>847</td>\n      <td>1.0</td>\n      <td>0.9109</td>\n      <td>ecosystem, mindset, innovation, model, customer, type, platform, opportunity, rule, community</td>\n      <td>Imagine the problem we might encounter when a whole city is being taken over, the security doesn\\'t really matter, machine cant work without human intervention, so human error is always a threat which gives room for social engineering exploits, if your home is being hacked for example, technically all your gadget have been taken over, if the victims is a worker of a company which allows BYOD, then imagine the endless possibilities risk in this scenario</td>\n    </tr>\n    <tr>\n      <th>848</th>\n      <td>848</td>\n      <td>2.0</td>\n      <td>0.7174</td>\n      <td>problem, abstraction, solution, service, product, flow, deal, technology, thing, application</td>\n      <td>As the world begins to fully adopt artificial intelligence, we need to put security measures in place right from the development stage as so much depends on it. The way we live and do things are being replaced or rather done by machine.</td>\n    </tr>\n    <tr>\n      <th>849</th>\n      <td>849</td>\n      <td>1.0</td>\n      <td>0.6283</td>\n      <td>ecosystem, mindset, innovation, model, customer, type, platform, opportunity, rule, community</td>\n      <td>We need to narrow the usage of artificial intelligence in our personal life in order to be on a safer side, by adopting all technological inventions, our privacy is being compromised and our way of live and the way we think is being defined by the technologies and the inventors. We expose all our day to day activities by using smart devices, as the manufacturer often spy on users</td>\n    </tr>\n    <tr>\n      <th>850</th>\n      <td>850</td>\n      <td>1.0</td>\n      <td>0.7731</td>\n      <td>ecosystem, mindset, innovation, model, customer, type, platform, opportunity, rule, community</td>\n      <td>Ecosystem mindset, the key to competitiveness of artificial intelligence companies is very essential in solving complex problems and it provides values to the construction companies so we need to put measures in place to integrate into artificial intelligence that would be Ecosystems friendly</td>\n    </tr>\n  </tbody>\n</table>\n<p>851 rows × 5 columns</p>\n</div>",
          "text/plain": "     Document_No  Dominant_Topic  Topic_Perc_Contrib  \\\n0              0             1.0              0.7028   \n1              1             1.0              0.9112   \n2              2             1.0              0.8951   \n3              3             1.0              0.8355   \n4              4             1.0              0.8815   \n..           ...             ...                 ...   \n846          846             1.0              0.7721   \n847          847             1.0              0.9109   \n848          848             2.0              0.7174   \n849          849             1.0              0.6283   \n850          850             1.0              0.7731   \n\n                                                                                          Keywords  \\\n0    ecosystem, mindset, innovation, model, customer, type, platform, opportunity, rule, community   \n1    ecosystem, mindset, innovation, model, customer, type, platform, opportunity, rule, community   \n2    ecosystem, mindset, innovation, model, customer, type, platform, opportunity, rule, community   \n3    ecosystem, mindset, innovation, model, customer, type, platform, opportunity, rule, community   \n4    ecosystem, mindset, innovation, model, customer, type, platform, opportunity, rule, community   \n..                                                                                             ...   \n846  ecosystem, mindset, innovation, model, customer, type, platform, opportunity, rule, community   \n847  ecosystem, mindset, innovation, model, customer, type, platform, opportunity, rule, community   \n848   problem, abstraction, solution, service, product, flow, deal, technology, thing, application   \n849  ecosystem, mindset, innovation, model, customer, type, platform, opportunity, rule, community   \n850  ecosystem, mindset, innovation, model, customer, type, platform, opportunity, rule, community   \n\n                                                                                                                                                                                                                                                                                                                                                                                                                                                                         Text  \n0                                                                                                                                                                                                                                                                                                                                              Ecosystem mindset is key to competitiveness but note that the competition is ecosystem vs ecosystem and not company vs company  \n1                                                                                                                                                                                                                                                                                 There are three types of ecosystems 1) Business 2) Innovation 3) Platform, we need to find position in an ecosystem that creates value and to create value we need to use the right mindset  \n2                                                                                                                                                                                                                                                                                                                                                      Companies in ecosystems create significant value, companies with traditional mindsets using old business models do not  \n3                                                                                                                                                                                                                                                                                                                                                             One should invest in those assets and capabilities that are rare, valuable, and hard for competitors to imitate  \n4                                                                                                                                                                                                                    For an organization which is ready for human-machine collaboration 1) leadership is critical 2) building trust in artificial intelligence systems and insights 3) reskilling the workforce to ensure complementarity and 4) address employee's concerns,  \n..                                                                                                                                                                                                                                                                                                                                                                                                                                                                        ...  \n846                                                                                                                                                                                                                                  With artificial intelligence taking over everything, smart homes, smart cities etc. what is the security implication because, we are yet to combat the security flaws of the IoT. security threat landscape is evolving at a rapid pace.  \n847  Imagine the problem we might encounter when a whole city is being taken over, the security doesn\\'t really matter, machine cant work without human intervention, so human error is always a threat which gives room for social engineering exploits, if your home is being hacked for example, technically all your gadget have been taken over, if the victims is a worker of a company which allows BYOD, then imagine the endless possibilities risk in this scenario  \n848                                                                                                                                                                                                                              As the world begins to fully adopt artificial intelligence, we need to put security measures in place right from the development stage as so much depends on it. The way we live and do things are being replaced or rather done by machine.  \n849                                                                            We need to narrow the usage of artificial intelligence in our personal life in order to be on a safer side, by adopting all technological inventions, our privacy is being compromised and our way of live and the way we think is being defined by the technologies and the inventors. We expose all our day to day activities by using smart devices, as the manufacturer often spy on users  \n850                                                                                                                                                                     Ecosystem mindset, the key to competitiveness of artificial intelligence companies is very essential in solving complex problems and it provides values to the construction companies so we need to put measures in place to integrate into artificial intelligence that would be Ecosystems friendly  \n\n[851 rows x 5 columns]"
         },
         "metadata": {},
         "output_type": "display_data"
        }
       ]
      }
     },
     "951a5d80823942c0bf507bfc62ae2da1": {
      "model_module": "@jupyter-widgets/base",
      "model_module_version": "1.2.0",
      "model_name": "LayoutModel",
      "state": {}
     },
     "9c1d3faa9fd143219c4292d36c8c3236": {
      "model_module": "@jupyter-widgets/base",
      "model_module_version": "1.2.0",
      "model_name": "LayoutModel",
      "state": {}
     },
     "9e5e50d473e441ed99c2714c07371726": {
      "model_module": "@jupyter-widgets/controls",
      "model_module_version": "1.5.0",
      "model_name": "DropdownModel",
      "state": {
       "_options_labels": [
        "ALL",
        "1.0",
        "2.0",
        "3.0",
        "4.0",
        "5.0"
       ],
       "description": "Topic",
       "index": 0,
       "layout": "IPY_MODEL_11619916daee4a9f9dc96ab2e05e24ef",
       "style": "IPY_MODEL_a403bc8c80404b8dbe620b5c7a257cb0"
      }
     },
     "a1c93606efeb44a6b611933a56e8e7f9": {
      "model_module": "@jupyter-widgets/controls",
      "model_module_version": "1.5.0",
      "model_name": "DescriptionStyleModel",
      "state": {
       "description_width": ""
      }
     },
     "a2cd7cad7959486a8faf32dd19520747": {
      "model_module": "@jupyter-widgets/controls",
      "model_module_version": "1.5.0",
      "model_name": "DescriptionStyleModel",
      "state": {
       "description_width": ""
      }
     },
     "a356e93aa4f0478ab7a004d39e751016": {
      "model_module": "@jupyter-widgets/output",
      "model_module_version": "1.0.0",
      "model_name": "OutputModel",
      "state": {
       "layout": "IPY_MODEL_88db34d37b054d4c87ad286504c19b65",
       "outputs": [
        {
         "data": {
          "text/html": "<div>\n<style scoped>\n    .dataframe tbody tr th:only-of-type {\n        vertical-align: middle;\n    }\n\n    .dataframe tbody tr th {\n        vertical-align: top;\n    }\n\n    .dataframe thead th {\n        text-align: right;\n    }\n</style>\n<table border=\"1\" class=\"dataframe\">\n  <thead>\n    <tr style=\"text-align: right;\">\n      <th></th>\n      <th>Document_No</th>\n      <th>Dominant_Topic</th>\n      <th>Topic_Perc_Contrib</th>\n      <th>Keywords</th>\n      <th>Text</th>\n    </tr>\n  </thead>\n  <tbody>\n    <tr>\n      <th>0</th>\n      <td>0</td>\n      <td>3.0</td>\n      <td>0.7129</td>\n      <td>ecosystem, innovation, model, type, platform, community, local, today, standard, price</td>\n      <td>Ecosystem mindset is key to competitiveness but note that the competition is ecosystem vs ecosystem and not company vs company</td>\n    </tr>\n    <tr>\n      <th>1</th>\n      <td>1</td>\n      <td>1.0</td>\n      <td>0.6165</td>\n      <td>opportunity, machine, help, traditional, mindset, case, capability, shift, year, single</td>\n      <td>There are three types of ecosystems 1) Business 2) Innovation 3) Platform, we need to find position in an ecosystem that creates value and to create value we need to use the right mindset</td>\n    </tr>\n    <tr>\n      <th>2</th>\n      <td>2</td>\n      <td>3.0</td>\n      <td>0.6420</td>\n      <td>ecosystem, innovation, model, type, platform, community, local, today, standard, price</td>\n      <td>Companies in ecosystems create significant value, companies with traditional mindsets using old business models do not</td>\n    </tr>\n    <tr>\n      <th>3</th>\n      <td>3</td>\n      <td>2.0</td>\n      <td>0.7237</td>\n      <td>problem, mindset, abstraction, solution, city, deal, application, stakeholder, datum, cooperation</td>\n      <td>One should invest in those assets and capabilities that are rare, valuable, and hard for competitors to imitate</td>\n    </tr>\n    <tr>\n      <th>4</th>\n      <td>4</td>\n      <td>5.0</td>\n      <td>0.6974</td>\n      <td>customer, service, product, technology, thing, environment, hypothesis, sensor, benefit, idea</td>\n      <td>For an organization which is ready for human-machine collaboration 1) leadership is critical 2) building trust in artificial intelligence systems and insights 3) reskilling the workforce to ensure complementarity and 4) address employee's concerns,</td>\n    </tr>\n    <tr>\n      <th>...</th>\n      <td>...</td>\n      <td>...</td>\n      <td>...</td>\n      <td>...</td>\n      <td>...</td>\n    </tr>\n    <tr>\n      <th>376</th>\n      <td>376</td>\n      <td>3.0</td>\n      <td>0.8769</td>\n      <td>ecosystem, innovation, model, type, platform, community, local, today, standard, price</td>\n      <td>The value is usually more important than the algorithm or its design.</td>\n    </tr>\n    <tr>\n      <th>377</th>\n      <td>377</td>\n      <td>2.0</td>\n      <td>0.6360</td>\n      <td>problem, mindset, abstraction, solution, city, deal, application, stakeholder, datum, cooperation</td>\n      <td>The organizational structure is responsible for job loss and not the AI</td>\n    </tr>\n    <tr>\n      <th>378</th>\n      <td>378</td>\n      <td>3.0</td>\n      <td>0.6420</td>\n      <td>ecosystem, innovation, model, type, platform, community, local, today, standard, price</td>\n      <td>Artificial intelligence is very important, however, if you cannot create value from an artificial intelligence application, then you have nothing.</td>\n    </tr>\n    <tr>\n      <th>379</th>\n      <td>379</td>\n      <td>4.0</td>\n      <td>0.7092</td>\n      <td>rule, player, flow, skill, hierarchy, government, proposition, role, part, challenge</td>\n      <td>Complex problems require several levels of abstraction to be solved</td>\n    </tr>\n    <tr>\n      <th>380</th>\n      <td>380</td>\n      <td>3.0</td>\n      <td>0.6420</td>\n      <td>ecosystem, innovation, model, type, platform, community, local, today, standard, price</td>\n      <td>Autonomous, independent decisions can be made in an ecosystem</td>\n    </tr>\n  </tbody>\n</table>\n<p>381 rows × 5 columns</p>\n</div>",
          "text/plain": "     Document_No  Dominant_Topic  Topic_Perc_Contrib  \\\n0              0             3.0              0.7129   \n1              1             1.0              0.6165   \n2              2             3.0              0.6420   \n3              3             2.0              0.7237   \n4              4             5.0              0.6974   \n..           ...             ...                 ...   \n376          376             3.0              0.8769   \n377          377             2.0              0.6360   \n378          378             3.0              0.6420   \n379          379             4.0              0.7092   \n380          380             3.0              0.6420   \n\n                                                                                              Keywords  \\\n0               ecosystem, innovation, model, type, platform, community, local, today, standard, price   \n1              opportunity, machine, help, traditional, mindset, case, capability, shift, year, single   \n2               ecosystem, innovation, model, type, platform, community, local, today, standard, price   \n3    problem, mindset, abstraction, solution, city, deal, application, stakeholder, datum, cooperation   \n4        customer, service, product, technology, thing, environment, hypothesis, sensor, benefit, idea   \n..                                                                                                 ...   \n376             ecosystem, innovation, model, type, platform, community, local, today, standard, price   \n377  problem, mindset, abstraction, solution, city, deal, application, stakeholder, datum, cooperation   \n378             ecosystem, innovation, model, type, platform, community, local, today, standard, price   \n379               rule, player, flow, skill, hierarchy, government, proposition, role, part, challenge   \n380             ecosystem, innovation, model, type, platform, community, local, today, standard, price   \n\n                                                                                                                                                                                                                                                         Text  \n0                                                                                                                              Ecosystem mindset is key to competitiveness but note that the competition is ecosystem vs ecosystem and not company vs company  \n1                                                                 There are three types of ecosystems 1) Business 2) Innovation 3) Platform, we need to find position in an ecosystem that creates value and to create value we need to use the right mindset  \n2                                                                                                                                      Companies in ecosystems create significant value, companies with traditional mindsets using old business models do not  \n3                                                                                                                                             One should invest in those assets and capabilities that are rare, valuable, and hard for competitors to imitate  \n4    For an organization which is ready for human-machine collaboration 1) leadership is critical 2) building trust in artificial intelligence systems and insights 3) reskilling the workforce to ensure complementarity and 4) address employee's concerns,  \n..                                                                                                                                                                                                                                                        ...  \n376                                                                                                                                                                                     The value is usually more important than the algorithm or its design.  \n377                                                                                                                                                                                   The organizational structure is responsible for job loss and not the AI  \n378                                                                                                        Artificial intelligence is very important, however, if you cannot create value from an artificial intelligence application, then you have nothing.  \n379                                                                                                                                                                                       Complex problems require several levels of abstraction to be solved  \n380                                                                                                                                                                                             Autonomous, independent decisions can be made in an ecosystem  \n\n[381 rows x 5 columns]"
         },
         "metadata": {},
         "output_type": "display_data"
        }
       ]
      }
     },
     "a403bc8c80404b8dbe620b5c7a257cb0": {
      "model_module": "@jupyter-widgets/controls",
      "model_module_version": "1.5.0",
      "model_name": "DescriptionStyleModel",
      "state": {
       "description_width": ""
      }
     },
     "a7dcfcb372484a8f994ff6b656d572eb": {
      "model_module": "@jupyter-widgets/controls",
      "model_module_version": "1.5.0",
      "model_name": "VBoxModel",
      "state": {
       "_dom_classes": [
        "widget-interact"
       ],
       "children": [
        "IPY_MODEL_38ce07fdfc5a413fba767a133e93bc07",
        "IPY_MODEL_8c5c045e79c24b6bb01907c5e01eec57"
       ],
       "layout": "IPY_MODEL_fd68d488325e458fbeafd7e38763452b"
      }
     },
     "a9b77898272b48d9a52987577161cbc0": {
      "model_module": "@jupyter-widgets/controls",
      "model_module_version": "1.5.0",
      "model_name": "DropdownModel",
      "state": {
       "_options_labels": [
        "ALL",
        "1.0",
        "2.0",
        "3.0",
        "4.0",
        "5.0",
        "6.0",
        "7.0",
        "8.0",
        "9.0",
        "10.0"
       ],
       "description": "Topic",
       "index": 0,
       "layout": "IPY_MODEL_87d82695cac645f8861b39d765b3c0c5",
       "style": "IPY_MODEL_c99bf845dcd34eaab65362a9cb505efd"
      }
     },
     "a9ce817cc74e4dfe8386d09eae6c6e7e": {
      "model_module": "@jupyter-widgets/output",
      "model_module_version": "1.0.0",
      "model_name": "OutputModel",
      "state": {
       "layout": "IPY_MODEL_0c9d64e839024aad8ae20504c8c6c53f",
       "outputs": [
        {
         "data": {
          "text/html": "<div>\n<style scoped>\n    .dataframe tbody tr th:only-of-type {\n        vertical-align: middle;\n    }\n\n    .dataframe tbody tr th {\n        vertical-align: top;\n    }\n\n    .dataframe thead th {\n        text-align: right;\n    }\n</style>\n<table border=\"1\" class=\"dataframe\">\n  <thead>\n    <tr style=\"text-align: right;\">\n      <th></th>\n      <th>Document_No</th>\n      <th>Dominant_Topic</th>\n      <th>Topic_Perc_Contrib</th>\n      <th>Keywords</th>\n      <th>Text</th>\n    </tr>\n  </thead>\n  <tbody>\n    <tr>\n      <th>0</th>\n      <td>0</td>\n      <td>40.0</td>\n      <td>0.6447</td>\n      <td>ecosystem, innovation, type, platform, feed, push, eventually, angle, flat, stay</td>\n      <td>Ecosystem mindset is key to competitiveness but note that the competition is ecosystem vs ecosystem and not company vs company</td>\n    </tr>\n    <tr>\n      <th>1</th>\n      <td>1</td>\n      <td>12.0</td>\n      <td>0.6091</td>\n      <td>solution, problem, transformation, angle, feed, node, tune, stay, contingent, push</td>\n      <td>There are three types of ecosystems 1) Business 2) Innovation 3) Platform, we need to find position in an ecosystem that creates value and to create value we need to use the right mindset</td>\n    </tr>\n    <tr>\n      <th>2</th>\n      <td>2</td>\n      <td>20.0</td>\n      <td>0.6096</td>\n      <td>customer, modern, eventually, contingent, final, push, stay, tune, feed, angle</td>\n      <td>Companies in ecosystems create significant value, companies with traditional mindsets using old business models do not</td>\n    </tr>\n    <tr>\n      <th>3</th>\n      <td>3</td>\n      <td>13.0</td>\n      <td>0.6076</td>\n      <td>technology, application, freedom, eventually, node, push, stay, tune, feed, angle</td>\n      <td>One should invest in those assets and capabilities that are rare, valuable, and hard for competitors to imitate</td>\n    </tr>\n    <tr>\n      <th>4</th>\n      <td>4</td>\n      <td>8.0</td>\n      <td>0.6036</td>\n      <td>government, academia, contingent, stay, tune, feed, angle, eventually, node, flat</td>\n      <td>For an organization which is ready for human-machine collaboration 1) leadership is critical 2) building trust in artificial intelligence systems and insights 3) reskilling the workforce to ensure complementarity and 4) address employee's concerns,</td>\n    </tr>\n    <tr>\n      <th>...</th>\n      <td>...</td>\n      <td>...</td>\n      <td>...</td>\n      <td>...</td>\n      <td>...</td>\n    </tr>\n    <tr>\n      <th>68</th>\n      <td>68</td>\n      <td>42.0</td>\n      <td>0.6164</td>\n      <td>mindset, initiative, economy, regional, angle, tune, eventually, final, push, feed</td>\n      <td>To achieve great and right things you need to be part of an ecosystem, have organization relationships network, and create focalized value propositions deliverables.</td>\n    </tr>\n    <tr>\n      <th>69</th>\n      <td>69</td>\n      <td>36.0</td>\n      <td>0.7339</td>\n      <td>ecosystem, angle, codevelop, pursue, final, push, stay, tune, feed, revenue</td>\n      <td>If you want to create an artificial intelligence leader, answer: What is your support network? what value are you going to create? Where are you going to compete/collaborate?</td>\n    </tr>\n    <tr>\n      <th>70</th>\n      <td>70</td>\n      <td>40.0</td>\n      <td>0.6204</td>\n      <td>ecosystem, innovation, type, platform, feed, push, eventually, angle, flat, stay</td>\n      <td>To operate in an ecosystem is important and necessary to enable collaboration of university and industry</td>\n    </tr>\n    <tr>\n      <th>71</th>\n      <td>71</td>\n      <td>40.0</td>\n      <td>0.7107</td>\n      <td>ecosystem, innovation, type, platform, feed, push, eventually, angle, flat, stay</td>\n      <td>Use the right mindset to create value using ecosystem models</td>\n    </tr>\n    <tr>\n      <th>72</th>\n      <td>72</td>\n      <td>40.0</td>\n      <td>0.7653</td>\n      <td>ecosystem, innovation, type, platform, feed, push, eventually, angle, flat, stay</td>\n      <td>To achieve significant results, we should participate in or build ecosystems</td>\n    </tr>\n  </tbody>\n</table>\n<p>73 rows × 5 columns</p>\n</div>",
          "text/plain": "    Document_No  Dominant_Topic  Topic_Perc_Contrib  \\\n0             0            40.0              0.6447   \n1             1            12.0              0.6091   \n2             2            20.0              0.6096   \n3             3            13.0              0.6076   \n4             4             8.0              0.6036   \n..          ...             ...                 ...   \n68           68            42.0              0.6164   \n69           69            36.0              0.7339   \n70           70            40.0              0.6204   \n71           71            40.0              0.7107   \n72           72            40.0              0.7653   \n\n                                                                              Keywords  \\\n0     ecosystem, innovation, type, platform, feed, push, eventually, angle, flat, stay   \n1   solution, problem, transformation, angle, feed, node, tune, stay, contingent, push   \n2       customer, modern, eventually, contingent, final, push, stay, tune, feed, angle   \n3    technology, application, freedom, eventually, node, push, stay, tune, feed, angle   \n4    government, academia, contingent, stay, tune, feed, angle, eventually, node, flat   \n..                                                                                 ...   \n68  mindset, initiative, economy, regional, angle, tune, eventually, final, push, feed   \n69         ecosystem, angle, codevelop, pursue, final, push, stay, tune, feed, revenue   \n70    ecosystem, innovation, type, platform, feed, push, eventually, angle, flat, stay   \n71    ecosystem, innovation, type, platform, feed, push, eventually, angle, flat, stay   \n72    ecosystem, innovation, type, platform, feed, push, eventually, angle, flat, stay   \n\n                                                                                                                                                                                                                                                        Text  \n0                                                                                                                             Ecosystem mindset is key to competitiveness but note that the competition is ecosystem vs ecosystem and not company vs company  \n1                                                                There are three types of ecosystems 1) Business 2) Innovation 3) Platform, we need to find position in an ecosystem that creates value and to create value we need to use the right mindset  \n2                                                                                                                                     Companies in ecosystems create significant value, companies with traditional mindsets using old business models do not  \n3                                                                                                                                            One should invest in those assets and capabilities that are rare, valuable, and hard for competitors to imitate  \n4   For an organization which is ready for human-machine collaboration 1) leadership is critical 2) building trust in artificial intelligence systems and insights 3) reskilling the workforce to ensure complementarity and 4) address employee's concerns,  \n..                                                                                                                                                                                                                                                       ...  \n68                                                                                     To achieve great and right things you need to be part of an ecosystem, have organization relationships network, and create focalized value propositions deliverables.  \n69                                                                            If you want to create an artificial intelligence leader, answer: What is your support network? what value are you going to create? Where are you going to compete/collaborate?  \n70                                                                                                                                                  To operate in an ecosystem is important and necessary to enable collaboration of university and industry  \n71                                                                                                                                                                                              Use the right mindset to create value using ecosystem models  \n72                                                                                                                                                                              To achieve significant results, we should participate in or build ecosystems  \n\n[73 rows x 5 columns]"
         },
         "metadata": {},
         "output_type": "display_data"
        }
       ]
      }
     },
     "ab64950cb1634806beaaffdb16009c96": {
      "model_module": "@jupyter-widgets/base",
      "model_module_version": "1.2.0",
      "model_name": "LayoutModel",
      "state": {}
     },
     "abc8edafa5b3408b96c5617f6b87c092": {
      "model_module": "@jupyter-widgets/controls",
      "model_module_version": "1.5.0",
      "model_name": "VBoxModel",
      "state": {
       "_dom_classes": [
        "widget-interact"
       ],
       "children": [
        "IPY_MODEL_1c504c6d976442a1a7ecaf5fa5556929",
        "IPY_MODEL_8fcb57be247a478a91bda2e9a9cf622d"
       ],
       "layout": "IPY_MODEL_34437737224e41c9a9cfc7676a352938"
      }
     },
     "ac05bb66dfbf4f3295963a527b84339d": {
      "model_module": "@jupyter-widgets/base",
      "model_module_version": "1.2.0",
      "model_name": "LayoutModel",
      "state": {}
     },
     "ac5df4ecb7044834b925e43826ad6d79": {
      "model_module": "@jupyter-widgets/output",
      "model_module_version": "1.0.0",
      "model_name": "OutputModel",
      "state": {
       "layout": "IPY_MODEL_28176c66432f4dd0a37c8d9002bcb1d8",
       "outputs": [
        {
         "data": {
          "text/html": "<div>\n<style scoped>\n    .dataframe tbody tr th:only-of-type {\n        vertical-align: middle;\n    }\n\n    .dataframe tbody tr th {\n        vertical-align: top;\n    }\n\n    .dataframe thead th {\n        text-align: right;\n    }\n</style>\n<table border=\"1\" class=\"dataframe\">\n  <thead>\n    <tr style=\"text-align: right;\">\n      <th></th>\n      <th>Document_No</th>\n      <th>Dominant_Topic</th>\n      <th>Topic_Perc_Contrib</th>\n      <th>Keywords</th>\n      <th>Text</th>\n    </tr>\n  </thead>\n  <tbody>\n    <tr>\n      <th>0</th>\n      <td>0</td>\n      <td>3.0</td>\n      <td>0.6810</td>\n      <td>ecosystem, innovation, type, platform, standard, environment, agent, benefit, university, space</td>\n      <td>Ecosystem mindset is key to competitiveness but note that the competition is ecosystem vs ecosystem and not company vs company</td>\n    </tr>\n    <tr>\n      <th>1</th>\n      <td>1</td>\n      <td>12.0</td>\n      <td>0.6143</td>\n      <td>problem, solution, help, cooperation, matter, parameter, basis, produce, experience, cognitive</td>\n      <td>There are three types of ecosystems 1) Business 2) Innovation 3) Platform, we need to find position in an ecosystem that creates value and to create value we need to use the right mindset</td>\n    </tr>\n    <tr>\n      <th>2</th>\n      <td>2</td>\n      <td>5.0</td>\n      <td>0.6111</td>\n      <td>customer, sensor, supplier, temperature, humidity, user, enthusiasm, speed, air, soil</td>\n      <td>Companies in ecosystems create significant value, companies with traditional mindsets using old business models do not</td>\n    </tr>\n    <tr>\n      <th>3</th>\n      <td>3</td>\n      <td>2.0</td>\n      <td>0.6614</td>\n      <td>mindset, abstraction, product, service, deal, technology, application, leader, governance, idea</td>\n      <td>One should invest in those assets and capabilities that are rare, valuable, and hard for competitors to imitate</td>\n    </tr>\n    <tr>\n      <th>4</th>\n      <td>4</td>\n      <td>2.0</td>\n      <td>0.6009</td>\n      <td>mindset, abstraction, product, service, deal, technology, application, leader, governance, idea</td>\n      <td>For an organization which is ready for human-machine collaboration 1) leadership is critical 2) building trust in artificial intelligence systems and insights 3) reskilling the workforce to ensure complementarity and 4) address employee's concerns,</td>\n    </tr>\n    <tr>\n      <th>...</th>\n      <td>...</td>\n      <td>...</td>\n      <td>...</td>\n      <td>...</td>\n      <td>...</td>\n    </tr>\n    <tr>\n      <th>251</th>\n      <td>251</td>\n      <td>3.0</td>\n      <td>0.6937</td>\n      <td>ecosystem, innovation, type, platform, standard, environment, agent, benefit, university, space</td>\n      <td>Keystone set participation criteria, standards, and rules</td>\n    </tr>\n    <tr>\n      <th>252</th>\n      <td>252</td>\n      <td>3.0</td>\n      <td>0.7638</td>\n      <td>ecosystem, innovation, type, platform, standard, environment, agent, benefit, university, space</td>\n      <td>Keystone ties in complements and make complementors abide by the rules</td>\n    </tr>\n    <tr>\n      <th>253</th>\n      <td>253</td>\n      <td>3.0</td>\n      <td>0.8077</td>\n      <td>ecosystem, innovation, type, platform, standard, environment, agent, benefit, university, space</td>\n      <td>There are three types of ecosystem: Business ecosystem, Innovation ecosystem and Platform ecosystem</td>\n    </tr>\n    <tr>\n      <th>254</th>\n      <td>254</td>\n      <td>3.0</td>\n      <td>0.8379</td>\n      <td>ecosystem, innovation, type, platform, standard, environment, agent, benefit, university, space</td>\n      <td>Innovation ecosystem uses artificial intelligence to leverage assets, leverage networks and overcome domestic challenges</td>\n    </tr>\n    <tr>\n      <th>255</th>\n      <td>255</td>\n      <td>4.0</td>\n      <td>0.6442</td>\n      <td>model, flow, today, traditional, skill, stakeholder, hierarchy, proposition, role, challenge</td>\n      <td>To engage in ecosystem(s), the following is required: Be a part of ecosystems that are good for you; Select mode to operate; Construct value blueprint; Manage complementarities; and use artificial intelligence to create value</td>\n    </tr>\n  </tbody>\n</table>\n<p>256 rows × 5 columns</p>\n</div>",
          "text/plain": "     Document_No  Dominant_Topic  Topic_Perc_Contrib  \\\n0              0             3.0              0.6810   \n1              1            12.0              0.6143   \n2              2             5.0              0.6111   \n3              3             2.0              0.6614   \n4              4             2.0              0.6009   \n..           ...             ...                 ...   \n251          251             3.0              0.6937   \n252          252             3.0              0.7638   \n253          253             3.0              0.8077   \n254          254             3.0              0.8379   \n255          255             4.0              0.6442   \n\n                                                                                            Keywords  \\\n0    ecosystem, innovation, type, platform, standard, environment, agent, benefit, university, space   \n1     problem, solution, help, cooperation, matter, parameter, basis, produce, experience, cognitive   \n2              customer, sensor, supplier, temperature, humidity, user, enthusiasm, speed, air, soil   \n3    mindset, abstraction, product, service, deal, technology, application, leader, governance, idea   \n4    mindset, abstraction, product, service, deal, technology, application, leader, governance, idea   \n..                                                                                               ...   \n251  ecosystem, innovation, type, platform, standard, environment, agent, benefit, university, space   \n252  ecosystem, innovation, type, platform, standard, environment, agent, benefit, university, space   \n253  ecosystem, innovation, type, platform, standard, environment, agent, benefit, university, space   \n254  ecosystem, innovation, type, platform, standard, environment, agent, benefit, university, space   \n255     model, flow, today, traditional, skill, stakeholder, hierarchy, proposition, role, challenge   \n\n                                                                                                                                                                                                                                                         Text  \n0                                                                                                                              Ecosystem mindset is key to competitiveness but note that the competition is ecosystem vs ecosystem and not company vs company  \n1                                                                 There are three types of ecosystems 1) Business 2) Innovation 3) Platform, we need to find position in an ecosystem that creates value and to create value we need to use the right mindset  \n2                                                                                                                                      Companies in ecosystems create significant value, companies with traditional mindsets using old business models do not  \n3                                                                                                                                             One should invest in those assets and capabilities that are rare, valuable, and hard for competitors to imitate  \n4    For an organization which is ready for human-machine collaboration 1) leadership is critical 2) building trust in artificial intelligence systems and insights 3) reskilling the workforce to ensure complementarity and 4) address employee's concerns,  \n..                                                                                                                                                                                                                                                        ...  \n251                                                                                                                                                                                                 Keystone set participation criteria, standards, and rules  \n252                                                                                                                                                                                    Keystone ties in complements and make complementors abide by the rules  \n253                                                                                                                                                       There are three types of ecosystem: Business ecosystem, Innovation ecosystem and Platform ecosystem  \n254                                                                                                                                  Innovation ecosystem uses artificial intelligence to leverage assets, leverage networks and overcome domestic challenges  \n255                         To engage in ecosystem(s), the following is required: Be a part of ecosystems that are good for you; Select mode to operate; Construct value blueprint; Manage complementarities; and use artificial intelligence to create value  \n\n[256 rows x 5 columns]"
         },
         "metadata": {},
         "output_type": "display_data"
        }
       ]
      }
     },
     "aea6727a39f64d2db14e2d610c83677c": {
      "model_module": "@jupyter-widgets/controls",
      "model_module_version": "1.5.0",
      "model_name": "VBoxModel",
      "state": {
       "_dom_classes": [
        "widget-interact"
       ],
       "children": [
        "IPY_MODEL_e6ba0a8d34df4ac88b77e7bff7b1244f",
        "IPY_MODEL_cd919df523f64cfe8ca597e814407794"
       ],
       "layout": "IPY_MODEL_53f517fe074945ce95bc1569081b6bfd"
      }
     },
     "aeaa94899ac242bb9a635c001d2a2f16": {
      "model_module": "@jupyter-widgets/output",
      "model_module_version": "1.0.0",
      "model_name": "OutputModel",
      "state": {
       "layout": "IPY_MODEL_298e824438f0443f99bd60b1ca97e497",
       "outputs": [
        {
         "data": {
          "text/html": "<div>\n<style scoped>\n    .dataframe tbody tr th:only-of-type {\n        vertical-align: middle;\n    }\n\n    .dataframe tbody tr th {\n        vertical-align: top;\n    }\n\n    .dataframe thead th {\n        text-align: right;\n    }\n</style>\n<table border=\"1\" class=\"dataframe\">\n  <thead>\n    <tr style=\"text-align: right;\">\n      <th></th>\n      <th>Document_No</th>\n      <th>Dominant_Topic</th>\n      <th>Topic_Perc_Contrib</th>\n      <th>Keywords</th>\n      <th>Text</th>\n    </tr>\n  </thead>\n  <tbody>\n    <tr>\n      <th>0</th>\n      <td>0</td>\n      <td>3.0</td>\n      <td>0.6730</td>\n      <td>ecosystem, innovation, type, platform, standard, agent, university, resource, major, step</td>\n      <td>Ecosystem mindset is key to competitiveness but note that the competition is ecosystem vs ecosystem and not company vs company</td>\n    </tr>\n    <tr>\n      <th>1</th>\n      <td>1</td>\n      <td>4.0</td>\n      <td>0.7932</td>\n      <td>machine, today, skill, challenge, design, barrier, harness, year, investment, capture</td>\n      <td>There are three types of ecosystems 1) Business 2) Innovation 3) Platform, we need to find position in an ecosystem that creates value and to create value we need to use the right mindset</td>\n    </tr>\n    <tr>\n      <th>2</th>\n      <td>2</td>\n      <td>6.0</td>\n      <td>0.7426</td>\n      <td>model, player, stakeholder, cooperation, hypothesis, sensor, competitor, temperature, collaborator, workplace</td>\n      <td>Companies in ecosystems create significant value, companies with traditional mindsets using old business models do not</td>\n    </tr>\n    <tr>\n      <th>3</th>\n      <td>3</td>\n      <td>7.0</td>\n      <td>0.6878</td>\n      <td>problem, mindset, solution, help, idea, pace, notion, mentality, abstract, matter</td>\n      <td>One should invest in those assets and capabilities that are rare, valuable, and hard for competitors to imitate</td>\n    </tr>\n    <tr>\n      <th>4</th>\n      <td>4</td>\n      <td>5.0</td>\n      <td>0.6733</td>\n      <td>customer, thing, datum, environment, leader, supplier, transformation, space, edge, hierarchical</td>\n      <td>For an organization which is ready for human-machine collaboration 1) leadership is critical 2) building trust in artificial intelligence systems and insights 3) reskilling the workforce to ensure complementarity and 4) address employee's concerns,</td>\n    </tr>\n    <tr>\n      <th>...</th>\n      <td>...</td>\n      <td>...</td>\n      <td>...</td>\n      <td>...</td>\n      <td>...</td>\n    </tr>\n    <tr>\n      <th>274</th>\n      <td>274</td>\n      <td>3.0</td>\n      <td>0.6785</td>\n      <td>ecosystem, innovation, type, platform, standard, agent, university, resource, major, step</td>\n      <td>Today's ecosystem models bring many more advantages than the old business models.,</td>\n    </tr>\n    <tr>\n      <th>275</th>\n      <td>275</td>\n      <td>3.0</td>\n      <td>0.7562</td>\n      <td>ecosystem, innovation, type, platform, standard, agent, university, resource, major, step</td>\n      <td>Having a good data architecture can help you to develop better artificial intelligence solutions.</td>\n    </tr>\n    <tr>\n      <th>276</th>\n      <td>276</td>\n      <td>3.0</td>\n      <td>0.8036</td>\n      <td>ecosystem, innovation, type, platform, standard, agent, university, resource, major, step</td>\n      <td>Being a part of and understanding how you are engaging in an ecosystem will help you take better advantage of its benefits.</td>\n    </tr>\n    <tr>\n      <th>277</th>\n      <td>277</td>\n      <td>3.0</td>\n      <td>0.8353</td>\n      <td>ecosystem, innovation, type, platform, standard, agent, university, resource, major, step</td>\n      <td>You will not be able to create value using artificial intelligence unless you are prepared to solve complex problems.</td>\n    </tr>\n    <tr>\n      <th>278</th>\n      <td>278</td>\n      <td>9.0</td>\n      <td>0.6689</td>\n      <td>product, service, flow, technology, hierarchy, role, proposition, capability, requirement, protection</td>\n      <td>You cannot survive neither achieve significant results if you do not participate in an ecosystem.</td>\n    </tr>\n  </tbody>\n</table>\n<p>279 rows × 5 columns</p>\n</div>",
          "text/plain": "     Document_No  Dominant_Topic  Topic_Perc_Contrib  \\\n0              0             3.0              0.6730   \n1              1             4.0              0.7932   \n2              2             6.0              0.7426   \n3              3             7.0              0.6878   \n4              4             5.0              0.6733   \n..           ...             ...                 ...   \n274          274             3.0              0.6785   \n275          275             3.0              0.7562   \n276          276             3.0              0.8036   \n277          277             3.0              0.8353   \n278          278             9.0              0.6689   \n\n                                                                                                          Keywords  \\\n0                        ecosystem, innovation, type, platform, standard, agent, university, resource, major, step   \n1                            machine, today, skill, challenge, design, barrier, harness, year, investment, capture   \n2    model, player, stakeholder, cooperation, hypothesis, sensor, competitor, temperature, collaborator, workplace   \n3                                problem, mindset, solution, help, idea, pace, notion, mentality, abstract, matter   \n4                 customer, thing, datum, environment, leader, supplier, transformation, space, edge, hierarchical   \n..                                                                                                             ...   \n274                      ecosystem, innovation, type, platform, standard, agent, university, resource, major, step   \n275                      ecosystem, innovation, type, platform, standard, agent, university, resource, major, step   \n276                      ecosystem, innovation, type, platform, standard, agent, university, resource, major, step   \n277                      ecosystem, innovation, type, platform, standard, agent, university, resource, major, step   \n278          product, service, flow, technology, hierarchy, role, proposition, capability, requirement, protection   \n\n                                                                                                                                                                                                                                                         Text  \n0                                                                                                                              Ecosystem mindset is key to competitiveness but note that the competition is ecosystem vs ecosystem and not company vs company  \n1                                                                 There are three types of ecosystems 1) Business 2) Innovation 3) Platform, we need to find position in an ecosystem that creates value and to create value we need to use the right mindset  \n2                                                                                                                                      Companies in ecosystems create significant value, companies with traditional mindsets using old business models do not  \n3                                                                                                                                             One should invest in those assets and capabilities that are rare, valuable, and hard for competitors to imitate  \n4    For an organization which is ready for human-machine collaboration 1) leadership is critical 2) building trust in artificial intelligence systems and insights 3) reskilling the workforce to ensure complementarity and 4) address employee's concerns,  \n..                                                                                                                                                                                                                                                        ...  \n274                                                                                                                                                                        Today's ecosystem models bring many more advantages than the old business models.,  \n275                                                                                                                                                         Having a good data architecture can help you to develop better artificial intelligence solutions.  \n276                                                                                                                               Being a part of and understanding how you are engaging in an ecosystem will help you take better advantage of its benefits.  \n277                                                                                                                                     You will not be able to create value using artificial intelligence unless you are prepared to solve complex problems.  \n278                                                                                                                                                         You cannot survive neither achieve significant results if you do not participate in an ecosystem.  \n\n[279 rows x 5 columns]"
         },
         "metadata": {},
         "output_type": "display_data"
        }
       ]
      }
     },
     "aeb325f14c3e4687a951ee5ad026a74c": {
      "model_module": "@jupyter-widgets/controls",
      "model_module_version": "1.5.0",
      "model_name": "VBoxModel",
      "state": {
       "_dom_classes": [
        "widget-interact"
       ],
       "children": [
        "IPY_MODEL_16e292a925a242078e0796210605124e",
        "IPY_MODEL_b9421a4f022c457192e897a23a128aae"
       ],
       "layout": "IPY_MODEL_afd238ea87ec4c339fc570eedab121ce"
      }
     },
     "afd238ea87ec4c339fc570eedab121ce": {
      "model_module": "@jupyter-widgets/base",
      "model_module_version": "1.2.0",
      "model_name": "LayoutModel",
      "state": {}
     },
     "b08b8400948c4693b55f910b04d81b4d": {
      "model_module": "@jupyter-widgets/controls",
      "model_module_version": "1.5.0",
      "model_name": "VBoxModel",
      "state": {
       "_dom_classes": [
        "widget-interact"
       ],
       "children": [
        "IPY_MODEL_6225d77e8dfe404c8e07dd90801cad72",
        "IPY_MODEL_8f760ca83ba144bd94b72d08906de288"
       ],
       "layout": "IPY_MODEL_803842481fcb459f83eac3bbe5d2a794"
      }
     },
     "b1d31c82b83345a69cedc6846942bd64": {
      "model_module": "@jupyter-widgets/base",
      "model_module_version": "1.2.0",
      "model_name": "LayoutModel",
      "state": {}
     },
     "b4583a1907134272bae7f5c2b5e4297d": {
      "model_module": "@jupyter-widgets/controls",
      "model_module_version": "1.5.0",
      "model_name": "VBoxModel",
      "state": {
       "_dom_classes": [
        "widget-interact"
       ],
       "children": [
        "IPY_MODEL_9e5e50d473e441ed99c2714c07371726",
        "IPY_MODEL_88f47014083245738bf3a18440457e1f"
       ],
       "layout": "IPY_MODEL_0ecc929521254207b80655b607d41b4f"
      }
     },
     "b469f2458ee4453fa60c8d08c3db45e0": {
      "model_module": "@jupyter-widgets/output",
      "model_module_version": "1.0.0",
      "model_name": "OutputModel",
      "state": {
       "layout": "IPY_MODEL_d93ef042a0ed42189056c6c46b039064",
       "outputs": [
        {
         "data": {
          "text/html": "<div>\n<style scoped>\n    .dataframe tbody tr th:only-of-type {\n        vertical-align: middle;\n    }\n\n    .dataframe tbody tr th {\n        vertical-align: top;\n    }\n\n    .dataframe thead th {\n        text-align: right;\n    }\n</style>\n<table border=\"1\" class=\"dataframe\">\n  <thead>\n    <tr style=\"text-align: right;\">\n      <th></th>\n      <th>Document_No</th>\n      <th>Dominant_Topic</th>\n      <th>Topic_Perc_Contrib</th>\n      <th>Keywords</th>\n      <th>Text</th>\n    </tr>\n  </thead>\n  <tbody>\n    <tr>\n      <th>0</th>\n      <td>0</td>\n      <td>3.0</td>\n      <td>0.6730</td>\n      <td>ecosystem, innovation, type, platform, standard, agent, university, resource, major, step</td>\n      <td>Ecosystem mindset is key to competitiveness but note that the competition is ecosystem vs ecosystem and not company vs company</td>\n    </tr>\n    <tr>\n      <th>1</th>\n      <td>1</td>\n      <td>4.0</td>\n      <td>0.7932</td>\n      <td>machine, today, skill, challenge, design, barrier, harness, year, investment, capture</td>\n      <td>There are three types of ecosystems 1) Business 2) Innovation 3) Platform, we need to find position in an ecosystem that creates value and to create value we need to use the right mindset</td>\n    </tr>\n    <tr>\n      <th>2</th>\n      <td>2</td>\n      <td>6.0</td>\n      <td>0.7426</td>\n      <td>model, player, stakeholder, cooperation, hypothesis, sensor, competitor, temperature, collaborator, workplace</td>\n      <td>Companies in ecosystems create significant value, companies with traditional mindsets using old business models do not</td>\n    </tr>\n    <tr>\n      <th>3</th>\n      <td>3</td>\n      <td>7.0</td>\n      <td>0.6878</td>\n      <td>problem, mindset, solution, help, idea, pace, notion, mentality, abstract, matter</td>\n      <td>One should invest in those assets and capabilities that are rare, valuable, and hard for competitors to imitate</td>\n    </tr>\n    <tr>\n      <th>4</th>\n      <td>4</td>\n      <td>5.0</td>\n      <td>0.6733</td>\n      <td>customer, thing, datum, environment, leader, supplier, transformation, space, edge, hierarchical</td>\n      <td>For an organization which is ready for human-machine collaboration 1) leadership is critical 2) building trust in artificial intelligence systems and insights 3) reskilling the workforce to ensure complementarity and 4) address employee's concerns,</td>\n    </tr>\n    <tr>\n      <th>...</th>\n      <td>...</td>\n      <td>...</td>\n      <td>...</td>\n      <td>...</td>\n      <td>...</td>\n    </tr>\n    <tr>\n      <th>274</th>\n      <td>274</td>\n      <td>3.0</td>\n      <td>0.6785</td>\n      <td>ecosystem, innovation, type, platform, standard, agent, university, resource, major, step</td>\n      <td>Today's ecosystem models bring many more advantages than the old business models.,</td>\n    </tr>\n    <tr>\n      <th>275</th>\n      <td>275</td>\n      <td>3.0</td>\n      <td>0.7562</td>\n      <td>ecosystem, innovation, type, platform, standard, agent, university, resource, major, step</td>\n      <td>Having a good data architecture can help you to develop better artificial intelligence solutions.</td>\n    </tr>\n    <tr>\n      <th>276</th>\n      <td>276</td>\n      <td>3.0</td>\n      <td>0.8036</td>\n      <td>ecosystem, innovation, type, platform, standard, agent, university, resource, major, step</td>\n      <td>Being a part of and understanding how you are engaging in an ecosystem will help you take better advantage of its benefits.</td>\n    </tr>\n    <tr>\n      <th>277</th>\n      <td>277</td>\n      <td>3.0</td>\n      <td>0.8353</td>\n      <td>ecosystem, innovation, type, platform, standard, agent, university, resource, major, step</td>\n      <td>You will not be able to create value using artificial intelligence unless you are prepared to solve complex problems.</td>\n    </tr>\n    <tr>\n      <th>278</th>\n      <td>278</td>\n      <td>9.0</td>\n      <td>0.6689</td>\n      <td>product, service, flow, technology, hierarchy, role, proposition, capability, requirement, protection</td>\n      <td>You cannot survive neither achieve significant results if you do not participate in an ecosystem.</td>\n    </tr>\n  </tbody>\n</table>\n<p>279 rows × 5 columns</p>\n</div>",
          "text/plain": "     Document_No  Dominant_Topic  Topic_Perc_Contrib  \\\n0              0             3.0              0.6730   \n1              1             4.0              0.7932   \n2              2             6.0              0.7426   \n3              3             7.0              0.6878   \n4              4             5.0              0.6733   \n..           ...             ...                 ...   \n274          274             3.0              0.6785   \n275          275             3.0              0.7562   \n276          276             3.0              0.8036   \n277          277             3.0              0.8353   \n278          278             9.0              0.6689   \n\n                                                                                                          Keywords  \\\n0                        ecosystem, innovation, type, platform, standard, agent, university, resource, major, step   \n1                            machine, today, skill, challenge, design, barrier, harness, year, investment, capture   \n2    model, player, stakeholder, cooperation, hypothesis, sensor, competitor, temperature, collaborator, workplace   \n3                                problem, mindset, solution, help, idea, pace, notion, mentality, abstract, matter   \n4                 customer, thing, datum, environment, leader, supplier, transformation, space, edge, hierarchical   \n..                                                                                                             ...   \n274                      ecosystem, innovation, type, platform, standard, agent, university, resource, major, step   \n275                      ecosystem, innovation, type, platform, standard, agent, university, resource, major, step   \n276                      ecosystem, innovation, type, platform, standard, agent, university, resource, major, step   \n277                      ecosystem, innovation, type, platform, standard, agent, university, resource, major, step   \n278          product, service, flow, technology, hierarchy, role, proposition, capability, requirement, protection   \n\n                                                                                                                                                                                                                                                         Text  \n0                                                                                                                              Ecosystem mindset is key to competitiveness but note that the competition is ecosystem vs ecosystem and not company vs company  \n1                                                                 There are three types of ecosystems 1) Business 2) Innovation 3) Platform, we need to find position in an ecosystem that creates value and to create value we need to use the right mindset  \n2                                                                                                                                      Companies in ecosystems create significant value, companies with traditional mindsets using old business models do not  \n3                                                                                                                                             One should invest in those assets and capabilities that are rare, valuable, and hard for competitors to imitate  \n4    For an organization which is ready for human-machine collaboration 1) leadership is critical 2) building trust in artificial intelligence systems and insights 3) reskilling the workforce to ensure complementarity and 4) address employee's concerns,  \n..                                                                                                                                                                                                                                                        ...  \n274                                                                                                                                                                        Today's ecosystem models bring many more advantages than the old business models.,  \n275                                                                                                                                                         Having a good data architecture can help you to develop better artificial intelligence solutions.  \n276                                                                                                                               Being a part of and understanding how you are engaging in an ecosystem will help you take better advantage of its benefits.  \n277                                                                                                                                     You will not be able to create value using artificial intelligence unless you are prepared to solve complex problems.  \n278                                                                                                                                                         You cannot survive neither achieve significant results if you do not participate in an ecosystem.  \n\n[279 rows x 5 columns]"
         },
         "metadata": {},
         "output_type": "display_data"
        }
       ]
      }
     },
     "b5699e3d7fa543e0ae1566ee2b1d3cd2": {
      "model_module": "@jupyter-widgets/base",
      "model_module_version": "1.2.0",
      "model_name": "LayoutModel",
      "state": {}
     },
     "b67862db94ed450598d851ca63cb35fc": {
      "model_module": "@jupyter-widgets/controls",
      "model_module_version": "1.5.0",
      "model_name": "VBoxModel",
      "state": {
       "_dom_classes": [
        "widget-interact"
       ],
       "children": [
        "IPY_MODEL_c1ad407b44c34eeba7e75e23a0f018c7",
        "IPY_MODEL_82d6ab9d3b19471a98abc92b00fb9c76"
       ],
       "layout": "IPY_MODEL_002bbbc8469247e9907b339378f4dc53"
      }
     },
     "b6bd0d65612340d584c77c6058aab9e5": {
      "model_module": "@jupyter-widgets/base",
      "model_module_version": "1.2.0",
      "model_name": "LayoutModel",
      "state": {}
     },
     "b751959841dc43e68d52ecda7826895f": {
      "model_module": "@jupyter-widgets/controls",
      "model_module_version": "1.5.0",
      "model_name": "VBoxModel",
      "state": {
       "_dom_classes": [
        "widget-interact"
       ],
       "children": [
        "IPY_MODEL_e8d6131fb5e544b5b15d656b678c66c4",
        "IPY_MODEL_78cbde922f5849aeada6e45e4a6cf69d"
       ],
       "layout": "IPY_MODEL_13c39b08c45640ac8ecafe5f0d4ee841"
      }
     },
     "b9421a4f022c457192e897a23a128aae": {
      "model_module": "@jupyter-widgets/output",
      "model_module_version": "1.0.0",
      "model_name": "OutputModel",
      "state": {
       "layout": "IPY_MODEL_5879968b9f644307a5b2a608b466609f",
       "outputs": [
        {
         "data": {
          "text/html": "<div>\n<style scoped>\n    .dataframe tbody tr th:only-of-type {\n        vertical-align: middle;\n    }\n\n    .dataframe tbody tr th {\n        vertical-align: top;\n    }\n\n    .dataframe thead th {\n        text-align: right;\n    }\n</style>\n<table border=\"1\" class=\"dataframe\">\n  <thead>\n    <tr style=\"text-align: right;\">\n      <th></th>\n      <th>Document_No</th>\n      <th>Dominant_Topic</th>\n      <th>Topic_Perc_Contrib</th>\n      <th>Keywords</th>\n      <th>Text</th>\n    </tr>\n  </thead>\n  <tbody>\n    <tr>\n      <th>0</th>\n      <td>0</td>\n      <td>16.0</td>\n      <td>0.6488</td>\n      <td>ecosystem, innovation, type, platform, deal, agent, transformation, lead, side, anchor</td>\n      <td>Ecosystem mindset is key to competitiveness but note that the competition is ecosystem vs ecosystem and not company vs company</td>\n    </tr>\n    <tr>\n      <th>1</th>\n      <td>1</td>\n      <td>12.0</td>\n      <td>0.7510</td>\n      <td>machine, skill, challenge, harness, capture, vision, desire, critical, funnel, implication</td>\n      <td>There are three types of ecosystems 1) Business 2) Innovation 3) Platform, we need to find position in an ecosystem that creates value and to create value we need to use the right mindset</td>\n    </tr>\n    <tr>\n      <th>2</th>\n      <td>2</td>\n      <td>1.0</td>\n      <td>0.6062</td>\n      <td>customer, hypothesis, capability, hypothetical, rationale, dialect, offer, issue, vulnerability, rich</td>\n      <td>Companies in ecosystems create significant value, companies with traditional mindsets using old business models do not</td>\n    </tr>\n    <tr>\n      <th>3</th>\n      <td>3</td>\n      <td>9.0</td>\n      <td>0.6042</td>\n      <td>product, service, proposition, final, main, deliverable, focalized, infrastructure, design, delivery</td>\n      <td>One should invest in those assets and capabilities that are rare, valuable, and hard for competitors to imitate</td>\n    </tr>\n    <tr>\n      <th>4</th>\n      <td>4</td>\n      <td>10.0</td>\n      <td>0.7502</td>\n      <td>abstraction, today, government, investor, lateral, policy, agency, sponsor, academia, layer</td>\n      <td>For an organization which is ready for human-machine collaboration 1) leadership is critical 2) building trust in artificial intelligence systems and insights 3) reskilling the workforce to ensure complementarity and 4) address employee's concerns,</td>\n    </tr>\n    <tr>\n      <th>...</th>\n      <td>...</td>\n      <td>...</td>\n      <td>...</td>\n      <td>...</td>\n      <td>...</td>\n    </tr>\n    <tr>\n      <th>122</th>\n      <td>122</td>\n      <td>16.0</td>\n      <td>0.6316</td>\n      <td>ecosystem, innovation, type, platform, deal, agent, transformation, lead, side, anchor</td>\n      <td>Ecosystems allow organizations to make efficient decisions, with standards and flexibility.</td>\n    </tr>\n    <tr>\n      <th>123</th>\n      <td>123</td>\n      <td>16.0</td>\n      <td>0.7159</td>\n      <td>ecosystem, innovation, type, platform, deal, agent, transformation, lead, side, anchor</td>\n      <td>Agreement among organizations in the ecosystem should consider power, differentiated roles, flows</td>\n    </tr>\n    <tr>\n      <th>124</th>\n      <td>124</td>\n      <td>16.0</td>\n      <td>0.7686</td>\n      <td>ecosystem, innovation, type, platform, deal, agent, transformation, lead, side, anchor</td>\n      <td>Business ecosystem, innovation ecosystem and platform ecosystem play different roles for an idea or a product</td>\n    </tr>\n    <tr>\n      <th>125</th>\n      <td>125</td>\n      <td>15.0</td>\n      <td>0.6239</td>\n      <td>mindset, model, player, requirement, abstract, method, radical, stand, marketable, year</td>\n      <td>Building an artificial intelligence ecosystem requires a lot of expertise, such as machine learning approaches, hardware</td>\n    </tr>\n    <tr>\n      <th>126</th>\n      <td>126</td>\n      <td>16.0</td>\n      <td>0.8038</td>\n      <td>ecosystem, innovation, type, platform, deal, agent, transformation, lead, side, anchor</td>\n      <td>A solution with high value comes from the treatment of any problem as a complex problem.</td>\n    </tr>\n  </tbody>\n</table>\n<p>127 rows × 5 columns</p>\n</div>",
          "text/plain": "     Document_No  Dominant_Topic  Topic_Perc_Contrib  \\\n0              0            16.0              0.6488   \n1              1            12.0              0.7510   \n2              2             1.0              0.6062   \n3              3             9.0              0.6042   \n4              4            10.0              0.7502   \n..           ...             ...                 ...   \n122          122            16.0              0.6316   \n123          123            16.0              0.7159   \n124          124            16.0              0.7686   \n125          125            15.0              0.6239   \n126          126            16.0              0.8038   \n\n                                                                                                  Keywords  \\\n0                   ecosystem, innovation, type, platform, deal, agent, transformation, lead, side, anchor   \n1               machine, skill, challenge, harness, capture, vision, desire, critical, funnel, implication   \n2    customer, hypothesis, capability, hypothetical, rationale, dialect, offer, issue, vulnerability, rich   \n3     product, service, proposition, final, main, deliverable, focalized, infrastructure, design, delivery   \n4              abstraction, today, government, investor, lateral, policy, agency, sponsor, academia, layer   \n..                                                                                                     ...   \n122                 ecosystem, innovation, type, platform, deal, agent, transformation, lead, side, anchor   \n123                 ecosystem, innovation, type, platform, deal, agent, transformation, lead, side, anchor   \n124                 ecosystem, innovation, type, platform, deal, agent, transformation, lead, side, anchor   \n125                mindset, model, player, requirement, abstract, method, radical, stand, marketable, year   \n126                 ecosystem, innovation, type, platform, deal, agent, transformation, lead, side, anchor   \n\n                                                                                                                                                                                                                                                         Text  \n0                                                                                                                              Ecosystem mindset is key to competitiveness but note that the competition is ecosystem vs ecosystem and not company vs company  \n1                                                                 There are three types of ecosystems 1) Business 2) Innovation 3) Platform, we need to find position in an ecosystem that creates value and to create value we need to use the right mindset  \n2                                                                                                                                      Companies in ecosystems create significant value, companies with traditional mindsets using old business models do not  \n3                                                                                                                                             One should invest in those assets and capabilities that are rare, valuable, and hard for competitors to imitate  \n4    For an organization which is ready for human-machine collaboration 1) leadership is critical 2) building trust in artificial intelligence systems and insights 3) reskilling the workforce to ensure complementarity and 4) address employee's concerns,  \n..                                                                                                                                                                                                                                                        ...  \n122                                                                                                                                                               Ecosystems allow organizations to make efficient decisions, with standards and flexibility.  \n123                                                                                                                                                         Agreement among organizations in the ecosystem should consider power, differentiated roles, flows  \n124                                                                                                                                             Business ecosystem, innovation ecosystem and platform ecosystem play different roles for an idea or a product  \n125                                                                                                                                  Building an artificial intelligence ecosystem requires a lot of expertise, such as machine learning approaches, hardware  \n126                                                                                                                                                                  A solution with high value comes from the treatment of any problem as a complex problem.  \n\n[127 rows x 5 columns]"
         },
         "metadata": {},
         "output_type": "display_data"
        }
       ]
      }
     },
     "beb21b5f54c24c82b9a670e5d129aad1": {
      "model_module": "@jupyter-widgets/output",
      "model_module_version": "1.0.0",
      "model_name": "OutputModel",
      "state": {
       "layout": "IPY_MODEL_7328169f439d42a6883ddd718e5aff63",
       "outputs": [
        {
         "data": {
          "text/html": "<div>\n<style scoped>\n    .dataframe tbody tr th:only-of-type {\n        vertical-align: middle;\n    }\n\n    .dataframe tbody tr th {\n        vertical-align: top;\n    }\n\n    .dataframe thead th {\n        text-align: right;\n    }\n</style>\n<table border=\"1\" class=\"dataframe\">\n  <thead>\n    <tr style=\"text-align: right;\">\n      <th></th>\n      <th>Document_No</th>\n      <th>Dominant_Topic</th>\n      <th>Topic_Perc_Contrib</th>\n      <th>Keywords</th>\n      <th>Text</th>\n    </tr>\n  </thead>\n  <tbody>\n    <tr>\n      <th>0</th>\n      <td>0</td>\n      <td>32.0</td>\n      <td>0.6405</td>\n      <td>ecosystem, innovation, type, platform, feed, push, eventually, angle, flat, stay</td>\n      <td>Ecosystem mindset is key to competitiveness but note that the competition is ecosystem vs ecosystem and not company vs company</td>\n    </tr>\n    <tr>\n      <th>1</th>\n      <td>1</td>\n      <td>13.0</td>\n      <td>0.6002</td>\n      <td>solution, problem, tool, eventually, final, push, stay, tune, feed, angle</td>\n      <td>There are three types of ecosystems 1) Business 2) Innovation 3) Platform, we need to find position in an ecosystem that creates value and to create value we need to use the right mindset</td>\n    </tr>\n    <tr>\n      <th>2</th>\n      <td>2</td>\n      <td>6.0</td>\n      <td>0.6121</td>\n      <td>customer, product, service, lead, partner, effect, tune, node, angle, methodology</td>\n      <td>Companies in ecosystems create significant value, companies with traditional mindsets using old business models do not</td>\n    </tr>\n    <tr>\n      <th>3</th>\n      <td>3</td>\n      <td>6.0</td>\n      <td>0.6121</td>\n      <td>customer, product, service, lead, partner, effect, tune, node, angle, methodology</td>\n      <td>One should invest in those assets and capabilities that are rare, valuable, and hard for competitors to imitate</td>\n    </tr>\n    <tr>\n      <th>4</th>\n      <td>4</td>\n      <td>18.0</td>\n      <td>0.6064</td>\n      <td>thing, datum, government, edge, step, policy, agency, tech, academia, rely</td>\n      <td>For an organization which is ready for human-machine collaboration 1) leadership is critical 2) building trust in artificial intelligence systems and insights 3) reskilling the workforce to ensure complementarity and 4) address employee's concerns,</td>\n    </tr>\n    <tr>\n      <th>...</th>\n      <td>...</td>\n      <td>...</td>\n      <td>...</td>\n      <td>...</td>\n      <td>...</td>\n    </tr>\n    <tr>\n      <th>67</th>\n      <td>67</td>\n      <td>32.0</td>\n      <td>0.6126</td>\n      <td>ecosystem, innovation, type, platform, feed, push, eventually, angle, flat, stay</td>\n      <td>A good opportunity involves problems that are complex, not related to just one but interdependent areas, and not able to solve with the traditional business model we have nowadays.</td>\n    </tr>\n    <tr>\n      <th>68</th>\n      <td>68</td>\n      <td>32.0</td>\n      <td>0.7038</td>\n      <td>ecosystem, innovation, type, platform, feed, push, eventually, angle, flat, stay</td>\n      <td>To achieve great and right things you need to be part of an ecosystem, have organization relationships network, and create focalized value propositions deliverables.</td>\n    </tr>\n    <tr>\n      <th>69</th>\n      <td>69</td>\n      <td>32.0</td>\n      <td>0.7593</td>\n      <td>ecosystem, innovation, type, platform, feed, push, eventually, angle, flat, stay</td>\n      <td>If you want to create an artificial intelligence leader, answer: What is your support network? what value are you going to create? Where are you going to compete/collaborate?</td>\n    </tr>\n    <tr>\n      <th>70</th>\n      <td>70</td>\n      <td>6.0</td>\n      <td>0.6121</td>\n      <td>customer, product, service, lead, partner, effect, tune, node, angle, methodology</td>\n      <td>To operate in an ecosystem is important and necessary to enable collaboration of university and industry</td>\n    </tr>\n    <tr>\n      <th>71</th>\n      <td>71</td>\n      <td>6.0</td>\n      <td>0.6121</td>\n      <td>customer, product, service, lead, partner, effect, tune, node, angle, methodology</td>\n      <td>Use the right mindset to create value using ecosystem models</td>\n    </tr>\n  </tbody>\n</table>\n<p>72 rows × 5 columns</p>\n</div>",
          "text/plain": "    Document_No  Dominant_Topic  Topic_Perc_Contrib  \\\n0             0            32.0              0.6405   \n1             1            13.0              0.6002   \n2             2             6.0              0.6121   \n3             3             6.0              0.6121   \n4             4            18.0              0.6064   \n..          ...             ...                 ...   \n67           67            32.0              0.6126   \n68           68            32.0              0.7038   \n69           69            32.0              0.7593   \n70           70             6.0              0.6121   \n71           71             6.0              0.6121   \n\n                                                                             Keywords  \\\n0    ecosystem, innovation, type, platform, feed, push, eventually, angle, flat, stay   \n1           solution, problem, tool, eventually, final, push, stay, tune, feed, angle   \n2   customer, product, service, lead, partner, effect, tune, node, angle, methodology   \n3   customer, product, service, lead, partner, effect, tune, node, angle, methodology   \n4          thing, datum, government, edge, step, policy, agency, tech, academia, rely   \n..                                                                                ...   \n67   ecosystem, innovation, type, platform, feed, push, eventually, angle, flat, stay   \n68   ecosystem, innovation, type, platform, feed, push, eventually, angle, flat, stay   \n69   ecosystem, innovation, type, platform, feed, push, eventually, angle, flat, stay   \n70  customer, product, service, lead, partner, effect, tune, node, angle, methodology   \n71  customer, product, service, lead, partner, effect, tune, node, angle, methodology   \n\n                                                                                                                                                                                                                                                        Text  \n0                                                                                                                             Ecosystem mindset is key to competitiveness but note that the competition is ecosystem vs ecosystem and not company vs company  \n1                                                                There are three types of ecosystems 1) Business 2) Innovation 3) Platform, we need to find position in an ecosystem that creates value and to create value we need to use the right mindset  \n2                                                                                                                                     Companies in ecosystems create significant value, companies with traditional mindsets using old business models do not  \n3                                                                                                                                            One should invest in those assets and capabilities that are rare, valuable, and hard for competitors to imitate  \n4   For an organization which is ready for human-machine collaboration 1) leadership is critical 2) building trust in artificial intelligence systems and insights 3) reskilling the workforce to ensure complementarity and 4) address employee's concerns,  \n..                                                                                                                                                                                                                                                       ...  \n67                                                                      A good opportunity involves problems that are complex, not related to just one but interdependent areas, and not able to solve with the traditional business model we have nowadays.  \n68                                                                                     To achieve great and right things you need to be part of an ecosystem, have organization relationships network, and create focalized value propositions deliverables.  \n69                                                                            If you want to create an artificial intelligence leader, answer: What is your support network? what value are you going to create? Where are you going to compete/collaborate?  \n70                                                                                                                                                  To operate in an ecosystem is important and necessary to enable collaboration of university and industry  \n71                                                                                                                                                                                              Use the right mindset to create value using ecosystem models  \n\n[72 rows x 5 columns]"
         },
         "metadata": {},
         "output_type": "display_data"
        }
       ]
      }
     },
     "bed9a11b34c74e918126b7abd40781dc": {
      "model_module": "@jupyter-widgets/base",
      "model_module_version": "1.2.0",
      "model_name": "LayoutModel",
      "state": {}
     },
     "bfb04268a5334da1b19eed666215c004": {
      "model_module": "@jupyter-widgets/controls",
      "model_module_version": "1.5.0",
      "model_name": "DescriptionStyleModel",
      "state": {
       "description_width": ""
      }
     },
     "c09d72abd38241e7b95f28f67eb69617": {
      "model_module": "@jupyter-widgets/base",
      "model_module_version": "1.2.0",
      "model_name": "LayoutModel",
      "state": {}
     },
     "c1ad407b44c34eeba7e75e23a0f018c7": {
      "model_module": "@jupyter-widgets/controls",
      "model_module_version": "1.5.0",
      "model_name": "DropdownModel",
      "state": {
       "_options_labels": [
        "ALL",
        "3.0",
        "12.0"
       ],
       "description": "Topic",
       "index": 0,
       "layout": "IPY_MODEL_e5380f48603844e188af41a9e1804b7d",
       "style": "IPY_MODEL_0cec0ec0a2c843b18dedc71bf906be20"
      }
     },
     "c1adc1ef43b244fbad343342b460722b": {
      "model_module": "@jupyter-widgets/controls",
      "model_module_version": "1.5.0",
      "model_name": "VBoxModel",
      "state": {
       "_dom_classes": [
        "widget-interact"
       ],
       "children": [
        "IPY_MODEL_10213dd003b44958a7506122333debf9",
        "IPY_MODEL_a356e93aa4f0478ab7a004d39e751016"
       ],
       "layout": "IPY_MODEL_4b073d25cc404be8aad4de6bf513905f"
      }
     },
     "c8e0ce302c04469797b79250beaa9a95": {
      "model_module": "@jupyter-widgets/controls",
      "model_module_version": "1.5.0",
      "model_name": "DropdownModel",
      "state": {
       "_options_labels": [
        "2",
        "3",
        "4",
        "5",
        "6",
        "7",
        "8",
        "9",
        "10",
        "11",
        "12",
        "13",
        "14",
        "15",
        "16",
        "17",
        "18",
        "19",
        "20",
        "21",
        "22",
        "23",
        "24",
        "25",
        "26",
        "27",
        "28",
        "29",
        "30",
        "31",
        "32",
        "33",
        "34",
        "35",
        "36",
        "37",
        "38",
        "39",
        "40",
        "41",
        "42",
        "43",
        "44",
        "45",
        "46",
        "47",
        "48",
        "49",
        "50"
       ],
       "description": "x",
       "index": 3,
       "layout": "IPY_MODEL_bed9a11b34c74e918126b7abd40781dc",
       "style": "IPY_MODEL_f49a3d5d361542418f9b9c2019b428e1"
      }
     },
     "c99bf845dcd34eaab65362a9cb505efd": {
      "model_module": "@jupyter-widgets/controls",
      "model_module_version": "1.5.0",
      "model_name": "DescriptionStyleModel",
      "state": {
       "description_width": ""
      }
     },
     "ca149d4185bc40a2ad2394422f11b4b0": {
      "model_module": "@jupyter-widgets/base",
      "model_module_version": "1.2.0",
      "model_name": "LayoutModel",
      "state": {}
     },
     "ca22f7ba7d294cf1bcd059bad1377c06": {
      "model_module": "@jupyter-widgets/base",
      "model_module_version": "1.2.0",
      "model_name": "LayoutModel",
      "state": {}
     },
     "cb90b94b974a4a46956980ec13e9b968": {
      "model_module": "@jupyter-widgets/base",
      "model_module_version": "1.2.0",
      "model_name": "LayoutModel",
      "state": {}
     },
     "cd919df523f64cfe8ca597e814407794": {
      "model_module": "@jupyter-widgets/output",
      "model_module_version": "1.0.0",
      "model_name": "OutputModel",
      "state": {
       "layout": "IPY_MODEL_1c7c0d140a1a4009ab24ef3a68f0b58c",
       "outputs": [
        {
         "data": {
          "text/html": "<div>\n<style scoped>\n    .dataframe tbody tr th:only-of-type {\n        vertical-align: middle;\n    }\n\n    .dataframe tbody tr th {\n        vertical-align: top;\n    }\n\n    .dataframe thead th {\n        text-align: right;\n    }\n</style>\n<table border=\"1\" class=\"dataframe\">\n  <thead>\n    <tr style=\"text-align: right;\">\n      <th></th>\n      <th>Document_No</th>\n      <th>Dominant_Topic</th>\n      <th>Topic_Perc_Contrib</th>\n      <th>Keywords</th>\n      <th>Text</th>\n    </tr>\n  </thead>\n  <tbody>\n    <tr>\n      <th>0</th>\n      <td>0</td>\n      <td>3.0</td>\n      <td>0.6961</td>\n      <td>ecosystem, innovation, type, platform, deal, part, agent, leader, governance, benefit</td>\n      <td>Ecosystem mindset is key to competitiveness but note that the competition is ecosystem vs ecosystem and not company vs company</td>\n    </tr>\n    <tr>\n      <th>1</th>\n      <td>1</td>\n      <td>5.0</td>\n      <td>0.6541</td>\n      <td>machine, technology, skill, competitor, challenge, capability, design, collaborator, harness, workplace</td>\n      <td>There are three types of ecosystems 1) Business 2) Innovation 3) Platform, we need to find position in an ecosystem that creates value and to create value we need to use the right mindset</td>\n    </tr>\n    <tr>\n      <th>2</th>\n      <td>2</td>\n      <td>2.0</td>\n      <td>0.6908</td>\n      <td>problem, mindset, abstraction, solution, application, cooperation, shift, transformation, pace, notion</td>\n      <td>Companies in ecosystems create significant value, companies with traditional mindsets using old business models do not</td>\n    </tr>\n    <tr>\n      <th>3</th>\n      <td>3</td>\n      <td>6.0</td>\n      <td>0.6459</td>\n      <td>customer, supplier, enthusiasm, bit, ground, transportation, radical, algorithm, extricate, creature</td>\n      <td>One should invest in those assets and capabilities that are rare, valuable, and hard for competitors to imitate</td>\n    </tr>\n    <tr>\n      <th>4</th>\n      <td>4</td>\n      <td>9.0</td>\n      <td>0.6484</td>\n      <td>product, player, service, stakeholder, requirement, protection, final, delivery, centre, infrastructure</td>\n      <td>For an organization which is ready for human-machine collaboration 1) leadership is critical 2) building trust in artificial intelligence systems and insights 3) reskilling the workforce to ensure complementarity and 4) address employee's concerns,</td>\n    </tr>\n    <tr>\n      <th>...</th>\n      <td>...</td>\n      <td>...</td>\n      <td>...</td>\n      <td>...</td>\n      <td>...</td>\n    </tr>\n    <tr>\n      <th>288</th>\n      <td>288</td>\n      <td>3.0</td>\n      <td>0.7899</td>\n      <td>ecosystem, innovation, type, platform, deal, part, agent, leader, governance, benefit</td>\n      <td>To get value from AI, you must be part of an ecosystem</td>\n    </tr>\n    <tr>\n      <th>289</th>\n      <td>289</td>\n      <td>3.0</td>\n      <td>0.8305</td>\n      <td>ecosystem, innovation, type, platform, deal, part, agent, leader, governance, benefit</td>\n      <td>artificial intelligence is good for solving complex problems.</td>\n    </tr>\n    <tr>\n      <th>290</th>\n      <td>290</td>\n      <td>3.0</td>\n      <td>0.8579</td>\n      <td>ecosystem, innovation, type, platform, deal, part, agent, leader, governance, benefit</td>\n      <td>You need to create abstractions to be able to solve complex problems.</td>\n    </tr>\n    <tr>\n      <th>291</th>\n      <td>291</td>\n      <td>2.0</td>\n      <td>0.6171</td>\n      <td>problem, mindset, abstraction, solution, application, cooperation, shift, transformation, pace, notion</td>\n      <td>You require a change of mindset to be able to create value for AI.</td>\n    </tr>\n    <tr>\n      <th>292</th>\n      <td>292</td>\n      <td>7.0</td>\n      <td>0.6630</td>\n      <td>rule, help, flow, standard, hierarchy, role, idea, wheel, hypothetical, natural</td>\n      <td>The old hierarchical business governance model does not work for innovation ecosystems.</td>\n    </tr>\n  </tbody>\n</table>\n<p>293 rows × 5 columns</p>\n</div>",
          "text/plain": "     Document_No  Dominant_Topic  Topic_Perc_Contrib  \\\n0              0             3.0              0.6961   \n1              1             5.0              0.6541   \n2              2             2.0              0.6908   \n3              3             6.0              0.6459   \n4              4             9.0              0.6484   \n..           ...             ...                 ...   \n288          288             3.0              0.7899   \n289          289             3.0              0.8305   \n290          290             3.0              0.8579   \n291          291             2.0              0.6171   \n292          292             7.0              0.6630   \n\n                                                                                                    Keywords  \\\n0                      ecosystem, innovation, type, platform, deal, part, agent, leader, governance, benefit   \n1    machine, technology, skill, competitor, challenge, capability, design, collaborator, harness, workplace   \n2     problem, mindset, abstraction, solution, application, cooperation, shift, transformation, pace, notion   \n3       customer, supplier, enthusiasm, bit, ground, transportation, radical, algorithm, extricate, creature   \n4    product, player, service, stakeholder, requirement, protection, final, delivery, centre, infrastructure   \n..                                                                                                       ...   \n288                    ecosystem, innovation, type, platform, deal, part, agent, leader, governance, benefit   \n289                    ecosystem, innovation, type, platform, deal, part, agent, leader, governance, benefit   \n290                    ecosystem, innovation, type, platform, deal, part, agent, leader, governance, benefit   \n291   problem, mindset, abstraction, solution, application, cooperation, shift, transformation, pace, notion   \n292                          rule, help, flow, standard, hierarchy, role, idea, wheel, hypothetical, natural   \n\n                                                                                                                                                                                                                                                         Text  \n0                                                                                                                              Ecosystem mindset is key to competitiveness but note that the competition is ecosystem vs ecosystem and not company vs company  \n1                                                                 There are three types of ecosystems 1) Business 2) Innovation 3) Platform, we need to find position in an ecosystem that creates value and to create value we need to use the right mindset  \n2                                                                                                                                      Companies in ecosystems create significant value, companies with traditional mindsets using old business models do not  \n3                                                                                                                                             One should invest in those assets and capabilities that are rare, valuable, and hard for competitors to imitate  \n4    For an organization which is ready for human-machine collaboration 1) leadership is critical 2) building trust in artificial intelligence systems and insights 3) reskilling the workforce to ensure complementarity and 4) address employee's concerns,  \n..                                                                                                                                                                                                                                                        ...  \n288                                                                                                                                                                                                    To get value from AI, you must be part of an ecosystem  \n289                                                                                                                                                                                             artificial intelligence is good for solving complex problems.  \n290                                                                                                                                                                                     You need to create abstractions to be able to solve complex problems.  \n291                                                                                                                                                                                        You require a change of mindset to be able to create value for AI.  \n292                                                                                                                                                                   The old hierarchical business governance model does not work for innovation ecosystems.  \n\n[293 rows x 5 columns]"
         },
         "metadata": {},
         "output_type": "display_data"
        }
       ]
      }
     },
     "ce26fed8e1074f15a2a73b37f30aaef8": {
      "model_module": "@jupyter-widgets/controls",
      "model_module_version": "1.5.0",
      "model_name": "DescriptionStyleModel",
      "state": {
       "description_width": ""
      }
     },
     "ce8864ffb7624a279b82c09befc5a34e": {
      "model_module": "@jupyter-widgets/base",
      "model_module_version": "1.2.0",
      "model_name": "LayoutModel",
      "state": {}
     },
     "d1ed3693fbec48f59db58c1a915f2bad": {
      "model_module": "@jupyter-widgets/controls",
      "model_module_version": "1.5.0",
      "model_name": "DescriptionStyleModel",
      "state": {
       "description_width": ""
      }
     },
     "d3010007feab4d688593696e7eb23bd2": {
      "model_module": "@jupyter-widgets/controls",
      "model_module_version": "1.5.0",
      "model_name": "DescriptionStyleModel",
      "state": {
       "description_width": ""
      }
     },
     "d82d446838de434c995e91951e3257d3": {
      "model_module": "@jupyter-widgets/output",
      "model_module_version": "1.0.0",
      "model_name": "OutputModel",
      "state": {
       "layout": "IPY_MODEL_16fcc8673f944c069cc6d2ad294aa54a",
       "outputs": [
        {
         "data": {
          "text/html": "<div>\n<style scoped>\n    .dataframe tbody tr th:only-of-type {\n        vertical-align: middle;\n    }\n\n    .dataframe tbody tr th {\n        vertical-align: top;\n    }\n\n    .dataframe thead th {\n        text-align: right;\n    }\n</style>\n<table border=\"1\" class=\"dataframe\">\n  <thead>\n    <tr style=\"text-align: right;\">\n      <th></th>\n      <th>Document_No</th>\n      <th>Dominant_Topic</th>\n      <th>Topic_Perc_Contrib</th>\n      <th>Keywords</th>\n      <th>Text</th>\n    </tr>\n  </thead>\n  <tbody>\n    <tr>\n      <th>0</th>\n      <td>0</td>\n      <td>1.0</td>\n      <td>0.7028</td>\n      <td>ecosystem, mindset, innovation, model, customer, type, platform, opportunity, rule, community</td>\n      <td>Ecosystem mindset is key to competitiveness but note that the competition is ecosystem vs ecosystem and not company vs company</td>\n    </tr>\n    <tr>\n      <th>1</th>\n      <td>1</td>\n      <td>1.0</td>\n      <td>0.9112</td>\n      <td>ecosystem, mindset, innovation, model, customer, type, platform, opportunity, rule, community</td>\n      <td>There are three types of ecosystems 1) Business 2) Innovation 3) Platform, we need to find position in an ecosystem that creates value and to create value we need to use the right mindset</td>\n    </tr>\n    <tr>\n      <th>2</th>\n      <td>2</td>\n      <td>1.0</td>\n      <td>0.8951</td>\n      <td>ecosystem, mindset, innovation, model, customer, type, platform, opportunity, rule, community</td>\n      <td>Companies in ecosystems create significant value, companies with traditional mindsets using old business models do not</td>\n    </tr>\n    <tr>\n      <th>3</th>\n      <td>3</td>\n      <td>1.0</td>\n      <td>0.8355</td>\n      <td>ecosystem, mindset, innovation, model, customer, type, platform, opportunity, rule, community</td>\n      <td>One should invest in those assets and capabilities that are rare, valuable, and hard for competitors to imitate</td>\n    </tr>\n    <tr>\n      <th>4</th>\n      <td>4</td>\n      <td>1.0</td>\n      <td>0.8815</td>\n      <td>ecosystem, mindset, innovation, model, customer, type, platform, opportunity, rule, community</td>\n      <td>For an organization which is ready for human-machine collaboration 1) leadership is critical 2) building trust in artificial intelligence systems and insights 3) reskilling the workforce to ensure complementarity and 4) address employee's concerns,</td>\n    </tr>\n    <tr>\n      <th>...</th>\n      <td>...</td>\n      <td>...</td>\n      <td>...</td>\n      <td>...</td>\n      <td>...</td>\n    </tr>\n    <tr>\n      <th>846</th>\n      <td>846</td>\n      <td>1.0</td>\n      <td>0.7721</td>\n      <td>ecosystem, mindset, innovation, model, customer, type, platform, opportunity, rule, community</td>\n      <td>With artificial intelligence taking over everything, smart homes, smart cities etc. what is the security implication because, we are yet to combat the security flaws of the IoT. security threat landscape is evolving at a rapid pace.</td>\n    </tr>\n    <tr>\n      <th>847</th>\n      <td>847</td>\n      <td>1.0</td>\n      <td>0.9109</td>\n      <td>ecosystem, mindset, innovation, model, customer, type, platform, opportunity, rule, community</td>\n      <td>Imagine the problem we might encounter when a whole city is being taken over, the security doesn\\'t really matter, machine cant work without human intervention, so human error is always a threat which gives room for social engineering exploits, if your home is being hacked for example, technically all your gadget have been taken over, if the victims is a worker of a company which allows BYOD, then imagine the endless possibilities risk in this scenario</td>\n    </tr>\n    <tr>\n      <th>848</th>\n      <td>848</td>\n      <td>2.0</td>\n      <td>0.7174</td>\n      <td>problem, abstraction, solution, service, product, flow, deal, technology, thing, application</td>\n      <td>As the world begins to fully adopt artificial intelligence, we need to put security measures in place right from the development stage as so much depends on it. The way we live and do things are being replaced or rather done by machine.</td>\n    </tr>\n    <tr>\n      <th>849</th>\n      <td>849</td>\n      <td>1.0</td>\n      <td>0.6283</td>\n      <td>ecosystem, mindset, innovation, model, customer, type, platform, opportunity, rule, community</td>\n      <td>We need to narrow the usage of artificial intelligence in our personal life in order to be on a safer side, by adopting all technological inventions, our privacy is being compromised and our way of live and the way we think is being defined by the technologies and the inventors. We expose all our day to day activities by using smart devices, as the manufacturer often spy on users</td>\n    </tr>\n    <tr>\n      <th>850</th>\n      <td>850</td>\n      <td>1.0</td>\n      <td>0.7731</td>\n      <td>ecosystem, mindset, innovation, model, customer, type, platform, opportunity, rule, community</td>\n      <td>Ecosystem mindset, the key to competitiveness of artificial intelligence companies is very essential in solving complex problems and it provides values to the construction companies so we need to put measures in place to integrate into artificial intelligence that would be Ecosystems friendly</td>\n    </tr>\n  </tbody>\n</table>\n<p>851 rows × 5 columns</p>\n</div>",
          "text/plain": "     Document_No  Dominant_Topic  Topic_Perc_Contrib  \\\n0              0             1.0              0.7028   \n1              1             1.0              0.9112   \n2              2             1.0              0.8951   \n3              3             1.0              0.8355   \n4              4             1.0              0.8815   \n..           ...             ...                 ...   \n846          846             1.0              0.7721   \n847          847             1.0              0.9109   \n848          848             2.0              0.7174   \n849          849             1.0              0.6283   \n850          850             1.0              0.7731   \n\n                                                                                          Keywords  \\\n0    ecosystem, mindset, innovation, model, customer, type, platform, opportunity, rule, community   \n1    ecosystem, mindset, innovation, model, customer, type, platform, opportunity, rule, community   \n2    ecosystem, mindset, innovation, model, customer, type, platform, opportunity, rule, community   \n3    ecosystem, mindset, innovation, model, customer, type, platform, opportunity, rule, community   \n4    ecosystem, mindset, innovation, model, customer, type, platform, opportunity, rule, community   \n..                                                                                             ...   \n846  ecosystem, mindset, innovation, model, customer, type, platform, opportunity, rule, community   \n847  ecosystem, mindset, innovation, model, customer, type, platform, opportunity, rule, community   \n848   problem, abstraction, solution, service, product, flow, deal, technology, thing, application   \n849  ecosystem, mindset, innovation, model, customer, type, platform, opportunity, rule, community   \n850  ecosystem, mindset, innovation, model, customer, type, platform, opportunity, rule, community   \n\n                                                                                                                                                                                                                                                                                                                                                                                                                                                                         Text  \n0                                                                                                                                                                                                                                                                                                                                              Ecosystem mindset is key to competitiveness but note that the competition is ecosystem vs ecosystem and not company vs company  \n1                                                                                                                                                                                                                                                                                 There are three types of ecosystems 1) Business 2) Innovation 3) Platform, we need to find position in an ecosystem that creates value and to create value we need to use the right mindset  \n2                                                                                                                                                                                                                                                                                                                                                      Companies in ecosystems create significant value, companies with traditional mindsets using old business models do not  \n3                                                                                                                                                                                                                                                                                                                                                             One should invest in those assets and capabilities that are rare, valuable, and hard for competitors to imitate  \n4                                                                                                                                                                                                                    For an organization which is ready for human-machine collaboration 1) leadership is critical 2) building trust in artificial intelligence systems and insights 3) reskilling the workforce to ensure complementarity and 4) address employee's concerns,  \n..                                                                                                                                                                                                                                                                                                                                                                                                                                                                        ...  \n846                                                                                                                                                                                                                                  With artificial intelligence taking over everything, smart homes, smart cities etc. what is the security implication because, we are yet to combat the security flaws of the IoT. security threat landscape is evolving at a rapid pace.  \n847  Imagine the problem we might encounter when a whole city is being taken over, the security doesn\\'t really matter, machine cant work without human intervention, so human error is always a threat which gives room for social engineering exploits, if your home is being hacked for example, technically all your gadget have been taken over, if the victims is a worker of a company which allows BYOD, then imagine the endless possibilities risk in this scenario  \n848                                                                                                                                                                                                                              As the world begins to fully adopt artificial intelligence, we need to put security measures in place right from the development stage as so much depends on it. The way we live and do things are being replaced or rather done by machine.  \n849                                                                            We need to narrow the usage of artificial intelligence in our personal life in order to be on a safer side, by adopting all technological inventions, our privacy is being compromised and our way of live and the way we think is being defined by the technologies and the inventors. We expose all our day to day activities by using smart devices, as the manufacturer often spy on users  \n850                                                                                                                                                                     Ecosystem mindset, the key to competitiveness of artificial intelligence companies is very essential in solving complex problems and it provides values to the construction companies so we need to put measures in place to integrate into artificial intelligence that would be Ecosystems friendly  \n\n[851 rows x 5 columns]"
         },
         "metadata": {},
         "output_type": "display_data"
        }
       ]
      }
     },
     "d93ef042a0ed42189056c6c46b039064": {
      "model_module": "@jupyter-widgets/base",
      "model_module_version": "1.2.0",
      "model_name": "LayoutModel",
      "state": {}
     },
     "dae89b91f6364d82badefb8ab26f5291": {
      "model_module": "@jupyter-widgets/output",
      "model_module_version": "1.0.0",
      "model_name": "OutputModel",
      "state": {
       "layout": "IPY_MODEL_e1118c084d654058bf31b8fe27dea687",
       "outputs": [
        {
         "data": {
          "text/html": "<div>\n<style scoped>\n    .dataframe tbody tr th:only-of-type {\n        vertical-align: middle;\n    }\n\n    .dataframe tbody tr th {\n        vertical-align: top;\n    }\n\n    .dataframe thead th {\n        text-align: right;\n    }\n</style>\n<table border=\"1\" class=\"dataframe\">\n  <thead>\n    <tr style=\"text-align: right;\">\n      <th></th>\n      <th>Document_No</th>\n      <th>Dominant_Topic</th>\n      <th>Topic_Perc_Contrib</th>\n      <th>Keywords</th>\n      <th>Text</th>\n    </tr>\n  </thead>\n  <tbody>\n    <tr>\n      <th>0</th>\n      <td>0</td>\n      <td>3.0</td>\n      <td>0.7554</td>\n      <td>ecosystem, innovation, model, customer, type, platform, product, rule, community, player</td>\n      <td>Ecosystem mindset is key to competitiveness but note that the competition is ecosystem vs ecosystem and not company vs company</td>\n    </tr>\n    <tr>\n      <th>1</th>\n      <td>1</td>\n      <td>3.0</td>\n      <td>0.7537</td>\n      <td>ecosystem, innovation, model, customer, type, platform, product, rule, community, player</td>\n      <td>There are three types of ecosystems 1) Business 2) Innovation 3) Platform, we need to find position in an ecosystem that creates value and to create value we need to use the right mindset</td>\n    </tr>\n    <tr>\n      <th>2</th>\n      <td>2</td>\n      <td>1.0</td>\n      <td>0.6555</td>\n      <td>mindset, opportunity, machine, help, flow, traditional, case, hypothesis, capability, city</td>\n      <td>Companies in ecosystems create significant value, companies with traditional mindsets using old business models do not</td>\n    </tr>\n    <tr>\n      <th>3</th>\n      <td>3</td>\n      <td>2.0</td>\n      <td>0.6565</td>\n      <td>problem, abstraction, mindset, solution, deal, technology, thing, application, datum, government</td>\n      <td>One should invest in those assets and capabilities that are rare, valuable, and hard for competitors to imitate</td>\n    </tr>\n    <tr>\n      <th>4</th>\n      <td>4</td>\n      <td>3.0</td>\n      <td>0.8824</td>\n      <td>ecosystem, innovation, model, customer, type, platform, product, rule, community, player</td>\n      <td>For an organization which is ready for human-machine collaboration 1) leadership is critical 2) building trust in artificial intelligence systems and insights 3) reskilling the workforce to ensure complementarity and 4) address employee's concerns,</td>\n    </tr>\n    <tr>\n      <th>...</th>\n      <td>...</td>\n      <td>...</td>\n      <td>...</td>\n      <td>...</td>\n      <td>...</td>\n    </tr>\n    <tr>\n      <th>593</th>\n      <td>593</td>\n      <td>3.0</td>\n      <td>0.7597</td>\n      <td>ecosystem, innovation, model, customer, type, platform, product, rule, community, player</td>\n      <td>Agreement between organisations in an ecosystem is mainly about: power, differentiated roles and flows</td>\n    </tr>\n    <tr>\n      <th>594</th>\n      <td>594</td>\n      <td>3.0</td>\n      <td>0.7534</td>\n      <td>ecosystem, innovation, model, customer, type, platform, product, rule, community, player</td>\n      <td>There are three ecosystem types: business, innovation, and platform</td>\n    </tr>\n    <tr>\n      <th>595</th>\n      <td>595</td>\n      <td>1.0</td>\n      <td>0.8842</td>\n      <td>mindset, opportunity, machine, help, flow, traditional, case, hypothesis, capability, city</td>\n      <td>It is better to join an existing ecosystem that suits you than working on your own</td>\n    </tr>\n    <tr>\n      <th>596</th>\n      <td>596</td>\n      <td>3.0</td>\n      <td>0.8432</td>\n      <td>ecosystem, innovation, model, customer, type, platform, product, rule, community, player</td>\n      <td>You can transform used cases in an ecosystem to a good artificial intelligence opportunity for your company</td>\n    </tr>\n    <tr>\n      <th>597</th>\n      <td>597</td>\n      <td>3.0</td>\n      <td>0.7597</td>\n      <td>ecosystem, innovation, model, customer, type, platform, product, rule, community, player</td>\n      <td>Make sure you focus on the organisation that provides the artificial intelligence components you require</td>\n    </tr>\n  </tbody>\n</table>\n<p>598 rows × 5 columns</p>\n</div>",
          "text/plain": "     Document_No  Dominant_Topic  Topic_Perc_Contrib  \\\n0              0             3.0              0.7554   \n1              1             3.0              0.7537   \n2              2             1.0              0.6555   \n3              3             2.0              0.6565   \n4              4             3.0              0.8824   \n..           ...             ...                 ...   \n593          593             3.0              0.7597   \n594          594             3.0              0.7534   \n595          595             1.0              0.8842   \n596          596             3.0              0.8432   \n597          597             3.0              0.7597   \n\n                                                                                             Keywords  \\\n0            ecosystem, innovation, model, customer, type, platform, product, rule, community, player   \n1            ecosystem, innovation, model, customer, type, platform, product, rule, community, player   \n2          mindset, opportunity, machine, help, flow, traditional, case, hypothesis, capability, city   \n3    problem, abstraction, mindset, solution, deal, technology, thing, application, datum, government   \n4            ecosystem, innovation, model, customer, type, platform, product, rule, community, player   \n..                                                                                                ...   \n593          ecosystem, innovation, model, customer, type, platform, product, rule, community, player   \n594          ecosystem, innovation, model, customer, type, platform, product, rule, community, player   \n595        mindset, opportunity, machine, help, flow, traditional, case, hypothesis, capability, city   \n596          ecosystem, innovation, model, customer, type, platform, product, rule, community, player   \n597          ecosystem, innovation, model, customer, type, platform, product, rule, community, player   \n\n                                                                                                                                                                                                                                                         Text  \n0                                                                                                                              Ecosystem mindset is key to competitiveness but note that the competition is ecosystem vs ecosystem and not company vs company  \n1                                                                 There are three types of ecosystems 1) Business 2) Innovation 3) Platform, we need to find position in an ecosystem that creates value and to create value we need to use the right mindset  \n2                                                                                                                                      Companies in ecosystems create significant value, companies with traditional mindsets using old business models do not  \n3                                                                                                                                             One should invest in those assets and capabilities that are rare, valuable, and hard for competitors to imitate  \n4    For an organization which is ready for human-machine collaboration 1) leadership is critical 2) building trust in artificial intelligence systems and insights 3) reskilling the workforce to ensure complementarity and 4) address employee's concerns,  \n..                                                                                                                                                                                                                                                        ...  \n593                                                                                                                                                    Agreement between organisations in an ecosystem is mainly about: power, differentiated roles and flows  \n594                                                                                                                                                                                       There are three ecosystem types: business, innovation, and platform  \n595                                                                                                                                                                        It is better to join an existing ecosystem that suits you than working on your own  \n596                                                                                                                                               You can transform used cases in an ecosystem to a good artificial intelligence opportunity for your company  \n597                                                                                                                                                  Make sure you focus on the organisation that provides the artificial intelligence components you require  \n\n[598 rows x 5 columns]"
         },
         "metadata": {},
         "output_type": "display_data"
        }
       ]
      }
     },
     "dba403f049e1410da880df5c5ccb4b84": {
      "model_module": "@jupyter-widgets/base",
      "model_module_version": "1.2.0",
      "model_name": "LayoutModel",
      "state": {}
     },
     "dfa5b24384b44312b7c3d162b6b9a78a": {
      "model_module": "@jupyter-widgets/base",
      "model_module_version": "1.2.0",
      "model_name": "LayoutModel",
      "state": {}
     },
     "e02b31e8d9d04b819278970d03505e95": {
      "model_module": "@jupyter-widgets/output",
      "model_module_version": "1.0.0",
      "model_name": "OutputModel",
      "state": {
       "layout": "IPY_MODEL_5e840bac6a344c3687fef8148b831c76",
       "outputs": [
        {
         "data": {
          "text/html": "<div>\n<style scoped>\n    .dataframe tbody tr th:only-of-type {\n        vertical-align: middle;\n    }\n\n    .dataframe tbody tr th {\n        vertical-align: top;\n    }\n\n    .dataframe thead th {\n        text-align: right;\n    }\n</style>\n<table border=\"1\" class=\"dataframe\">\n  <thead>\n    <tr style=\"text-align: right;\">\n      <th></th>\n      <th>Document_No</th>\n      <th>Dominant_Topic</th>\n      <th>Topic_Perc_Contrib</th>\n      <th>Keywords</th>\n      <th>Text</th>\n    </tr>\n  </thead>\n  <tbody>\n    <tr>\n      <th>0</th>\n      <td>0</td>\n      <td>3.0</td>\n      <td>0.6961</td>\n      <td>ecosystem, innovation, type, platform, deal, part, agent, leader, governance, benefit</td>\n      <td>Ecosystem mindset is key to competitiveness but note that the competition is ecosystem vs ecosystem and not company vs company</td>\n    </tr>\n    <tr>\n      <th>1</th>\n      <td>1</td>\n      <td>5.0</td>\n      <td>0.6541</td>\n      <td>machine, technology, skill, competitor, challenge, capability, design, collaborator, harness, workplace</td>\n      <td>There are three types of ecosystems 1) Business 2) Innovation 3) Platform, we need to find position in an ecosystem that creates value and to create value we need to use the right mindset</td>\n    </tr>\n    <tr>\n      <th>2</th>\n      <td>2</td>\n      <td>2.0</td>\n      <td>0.6908</td>\n      <td>problem, mindset, abstraction, solution, application, cooperation, shift, transformation, pace, notion</td>\n      <td>Companies in ecosystems create significant value, companies with traditional mindsets using old business models do not</td>\n    </tr>\n    <tr>\n      <th>3</th>\n      <td>3</td>\n      <td>6.0</td>\n      <td>0.6459</td>\n      <td>customer, supplier, enthusiasm, bit, ground, transportation, radical, algorithm, extricate, creature</td>\n      <td>One should invest in those assets and capabilities that are rare, valuable, and hard for competitors to imitate</td>\n    </tr>\n    <tr>\n      <th>4</th>\n      <td>4</td>\n      <td>9.0</td>\n      <td>0.6484</td>\n      <td>product, player, service, stakeholder, requirement, protection, final, delivery, centre, infrastructure</td>\n      <td>For an organization which is ready for human-machine collaboration 1) leadership is critical 2) building trust in artificial intelligence systems and insights 3) reskilling the workforce to ensure complementarity and 4) address employee's concerns,</td>\n    </tr>\n    <tr>\n      <th>...</th>\n      <td>...</td>\n      <td>...</td>\n      <td>...</td>\n      <td>...</td>\n      <td>...</td>\n    </tr>\n    <tr>\n      <th>288</th>\n      <td>288</td>\n      <td>3.0</td>\n      <td>0.7899</td>\n      <td>ecosystem, innovation, type, platform, deal, part, agent, leader, governance, benefit</td>\n      <td>To get value from AI, you must be part of an ecosystem</td>\n    </tr>\n    <tr>\n      <th>289</th>\n      <td>289</td>\n      <td>3.0</td>\n      <td>0.8305</td>\n      <td>ecosystem, innovation, type, platform, deal, part, agent, leader, governance, benefit</td>\n      <td>artificial intelligence is good for solving complex problems.</td>\n    </tr>\n    <tr>\n      <th>290</th>\n      <td>290</td>\n      <td>3.0</td>\n      <td>0.8579</td>\n      <td>ecosystem, innovation, type, platform, deal, part, agent, leader, governance, benefit</td>\n      <td>You need to create abstractions to be able to solve complex problems.</td>\n    </tr>\n    <tr>\n      <th>291</th>\n      <td>291</td>\n      <td>2.0</td>\n      <td>0.6171</td>\n      <td>problem, mindset, abstraction, solution, application, cooperation, shift, transformation, pace, notion</td>\n      <td>You require a change of mindset to be able to create value for AI.</td>\n    </tr>\n    <tr>\n      <th>292</th>\n      <td>292</td>\n      <td>7.0</td>\n      <td>0.6630</td>\n      <td>rule, help, flow, standard, hierarchy, role, idea, wheel, hypothetical, natural</td>\n      <td>The old hierarchical business governance model does not work for innovation ecosystems.</td>\n    </tr>\n  </tbody>\n</table>\n<p>293 rows × 5 columns</p>\n</div>",
          "text/plain": "     Document_No  Dominant_Topic  Topic_Perc_Contrib  \\\n0              0             3.0              0.6961   \n1              1             5.0              0.6541   \n2              2             2.0              0.6908   \n3              3             6.0              0.6459   \n4              4             9.0              0.6484   \n..           ...             ...                 ...   \n288          288             3.0              0.7899   \n289          289             3.0              0.8305   \n290          290             3.0              0.8579   \n291          291             2.0              0.6171   \n292          292             7.0              0.6630   \n\n                                                                                                    Keywords  \\\n0                      ecosystem, innovation, type, platform, deal, part, agent, leader, governance, benefit   \n1    machine, technology, skill, competitor, challenge, capability, design, collaborator, harness, workplace   \n2     problem, mindset, abstraction, solution, application, cooperation, shift, transformation, pace, notion   \n3       customer, supplier, enthusiasm, bit, ground, transportation, radical, algorithm, extricate, creature   \n4    product, player, service, stakeholder, requirement, protection, final, delivery, centre, infrastructure   \n..                                                                                                       ...   \n288                    ecosystem, innovation, type, platform, deal, part, agent, leader, governance, benefit   \n289                    ecosystem, innovation, type, platform, deal, part, agent, leader, governance, benefit   \n290                    ecosystem, innovation, type, platform, deal, part, agent, leader, governance, benefit   \n291   problem, mindset, abstraction, solution, application, cooperation, shift, transformation, pace, notion   \n292                          rule, help, flow, standard, hierarchy, role, idea, wheel, hypothetical, natural   \n\n                                                                                                                                                                                                                                                         Text  \n0                                                                                                                              Ecosystem mindset is key to competitiveness but note that the competition is ecosystem vs ecosystem and not company vs company  \n1                                                                 There are three types of ecosystems 1) Business 2) Innovation 3) Platform, we need to find position in an ecosystem that creates value and to create value we need to use the right mindset  \n2                                                                                                                                      Companies in ecosystems create significant value, companies with traditional mindsets using old business models do not  \n3                                                                                                                                             One should invest in those assets and capabilities that are rare, valuable, and hard for competitors to imitate  \n4    For an organization which is ready for human-machine collaboration 1) leadership is critical 2) building trust in artificial intelligence systems and insights 3) reskilling the workforce to ensure complementarity and 4) address employee's concerns,  \n..                                                                                                                                                                                                                                                        ...  \n288                                                                                                                                                                                                    To get value from AI, you must be part of an ecosystem  \n289                                                                                                                                                                                             artificial intelligence is good for solving complex problems.  \n290                                                                                                                                                                                     You need to create abstractions to be able to solve complex problems.  \n291                                                                                                                                                                                        You require a change of mindset to be able to create value for AI.  \n292                                                                                                                                                                   The old hierarchical business governance model does not work for innovation ecosystems.  \n\n[293 rows x 5 columns]"
         },
         "metadata": {},
         "output_type": "display_data"
        }
       ]
      }
     },
     "e1118c084d654058bf31b8fe27dea687": {
      "model_module": "@jupyter-widgets/base",
      "model_module_version": "1.2.0",
      "model_name": "LayoutModel",
      "state": {}
     },
     "e1ea88f8b32c4a3cba0646ea0d59002d": {
      "model_module": "@jupyter-widgets/base",
      "model_module_version": "1.2.0",
      "model_name": "LayoutModel",
      "state": {}
     },
     "e2ac6ea6108f4b67897799b44a909ba8": {
      "model_module": "@jupyter-widgets/output",
      "model_module_version": "1.0.0",
      "model_name": "OutputModel",
      "state": {
       "layout": "IPY_MODEL_2e07f91c6676437f949c9469c04db8d9",
       "outputs": [
        {
         "name": "stdout",
         "output_type": "stream",
         "text": "[(0,\n  '0.600*\"rule\" + 0.081*\"offer\" + 0.032*\"abide\" + 0.000*\"stay\" + 0.000*\"feed\" '\n  '+ 0.000*\"tune\" + 0.000*\"eventually\" + 0.000*\"push\" + 0.000*\"flat\" + '\n  '0.000*\"final\"'),\n (1,\n  '0.857*\"ecosystem\" + 0.079*\"application\" + 0.000*\"angle\" + 0.000*\"codevelop\" '\n  '+ 0.000*\"pursue\" + 0.000*\"final\" + 0.000*\"push\" + 0.000*\"stay\" + '\n  '0.000*\"tune\" + 0.000*\"feed\"'),\n (2,\n  '0.002*\"node\" + 0.002*\"flat\" + 0.002*\"final\" + 0.002*\"push\" + 0.002*\"stay\" + '\n  '0.002*\"tune\" + 0.002*\"feed\" + 0.002*\"angle\" + 0.002*\"eventually\" + '\n  '0.002*\"codevelop\"'),\n (3,\n  '0.219*\"participant\" + 0.122*\"critical\" + 0.070*\"independently\" + '\n  '0.001*\"angle\" + 0.001*\"feed\" + 0.001*\"eventually\" + 0.001*\"final\" + '\n  '0.001*\"node\" + 0.001*\"push\" + 0.001*\"stay\"'),\n (4,\n  '0.002*\"node\" + 0.002*\"flat\" + 0.002*\"final\" + 0.002*\"push\" + 0.002*\"stay\" + '\n  '0.002*\"tune\" + 0.002*\"feed\" + 0.002*\"angle\" + 0.002*\"eventually\" + '\n  '0.002*\"codevelop\"'),\n (5,\n  '0.002*\"node\" + 0.002*\"flat\" + 0.002*\"final\" + 0.002*\"push\" + 0.002*\"stay\" + '\n  '0.002*\"tune\" + 0.002*\"feed\" + 0.002*\"angle\" + 0.002*\"eventually\" + '\n  '0.002*\"codevelop\"'),\n (6,\n  '0.002*\"node\" + 0.002*\"flat\" + 0.002*\"final\" + 0.002*\"push\" + 0.002*\"stay\" + '\n  '0.002*\"tune\" + 0.002*\"feed\" + 0.002*\"angle\" + 0.002*\"eventually\" + '\n  '0.002*\"codevelop\"'),\n (7,\n  '0.002*\"node\" + 0.002*\"flat\" + 0.002*\"final\" + 0.002*\"push\" + 0.002*\"stay\" + '\n  '0.002*\"tune\" + 0.002*\"feed\" + 0.002*\"angle\" + 0.002*\"eventually\" + '\n  '0.002*\"codevelop\"'),\n (8,\n  '0.002*\"node\" + 0.002*\"flat\" + 0.002*\"final\" + 0.002*\"push\" + 0.002*\"stay\" + '\n  '0.002*\"tune\" + 0.002*\"feed\" + 0.002*\"angle\" + 0.002*\"eventually\" + '\n  '0.002*\"codevelop\"'),\n (9,\n  '0.002*\"node\" + 0.002*\"flat\" + 0.002*\"final\" + 0.002*\"push\" + 0.002*\"stay\" + '\n  '0.002*\"tune\" + 0.002*\"feed\" + 0.002*\"angle\" + 0.002*\"eventually\" + '\n  '0.002*\"codevelop\"'),\n (10,\n  '0.335*\"thing\" + 0.267*\"datum\" + 0.147*\"capability\" + 0.025*\"join\" + '\n  '0.000*\"tune\" + 0.000*\"eventually\" + 0.000*\"angle\" + 0.000*\"push\" + '\n  '0.000*\"stay\" + 0.000*\"feed\"'),\n (11,\n  '0.326*\"cooperation\" + 0.311*\"proposition\" + 0.016*\"establish\" + '\n  '0.001*\"angle\" + 0.001*\"node\" + 0.001*\"push\" + 0.001*\"stay\" + 0.001*\"tune\" + '\n  '0.001*\"feed\" + 0.001*\"pursue\"'),\n (12,\n  '0.435*\"role\" + 0.072*\"merchandise\" + 0.001*\"node\" + 0.001*\"methodology\" + '\n  '0.001*\"push\" + 0.001*\"stay\" + 0.001*\"tune\" + 0.001*\"feed\" + 0.001*\"angle\" + '\n  '0.001*\"eventually\"'),\n (13,\n  '0.561*\"player\" + 0.127*\"mind\" + 0.000*\"node\" + 0.000*\"methodology\" + '\n  '0.000*\"push\" + 0.000*\"stay\" + 0.000*\"tune\" + 0.000*\"feed\" + 0.000*\"angle\" + '\n  '0.000*\"eventually\"'),\n (14,\n  '0.002*\"node\" + 0.002*\"flat\" + 0.002*\"final\" + 0.002*\"push\" + 0.002*\"stay\" + '\n  '0.002*\"tune\" + 0.002*\"feed\" + 0.002*\"angle\" + 0.002*\"eventually\" + '\n  '0.002*\"codevelop\"'),\n (15,\n  '0.281*\"skill\" + 0.186*\"challenge\" + 0.122*\"harness\" + 0.061*\"lead\" + '\n  '0.053*\"desire\" + 0.042*\"partner\" + 0.010*\"effect\" + 0.000*\"contingent\" + '\n  '0.000*\"sound\" + 0.000*\"eventually\"'),\n (16,\n  '0.002*\"node\" + 0.002*\"flat\" + 0.002*\"final\" + 0.002*\"push\" + 0.002*\"stay\" + '\n  '0.002*\"tune\" + 0.002*\"feed\" + 0.002*\"angle\" + 0.002*\"eventually\" + '\n  '0.002*\"codevelop\"'),\n (17,\n  '0.178*\"step\" + 0.102*\"initiative\" + 0.098*\"economy\" + 0.086*\"regional\" + '\n  '0.050*\"area\" + 0.001*\"tune\" + 0.001*\"finding\" + 0.001*\"feed\" + '\n  '0.001*\"eventually\" + 0.001*\"push\"'),\n (18,\n  '0.002*\"node\" + 0.002*\"flat\" + 0.002*\"final\" + 0.002*\"push\" + 0.002*\"stay\" + '\n  '0.002*\"tune\" + 0.002*\"feed\" + 0.002*\"angle\" + 0.002*\"eventually\" + '\n  '0.002*\"codevelop\"'),\n (19,\n  '0.002*\"node\" + 0.002*\"flat\" + 0.002*\"final\" + 0.002*\"push\" + 0.002*\"stay\" + '\n  '0.002*\"tune\" + 0.002*\"feed\" + 0.002*\"angle\" + 0.002*\"eventually\" + '\n  '0.002*\"codevelop\"'),\n (20,\n  '0.002*\"node\" + 0.002*\"flat\" + 0.002*\"final\" + 0.002*\"push\" + 0.002*\"stay\" + '\n  '0.002*\"tune\" + 0.002*\"feed\" + 0.002*\"angle\" + 0.002*\"eventually\" + '\n  '0.002*\"codevelop\"'),\n (21,\n  '0.156*\"side\" + 0.127*\"quality\" + 0.001*\"node\" + 0.001*\"push\" + 0.001*\"stay\" '\n  '+ 0.001*\"tune\" + 0.001*\"feed\" + 0.001*\"angle\" + 0.001*\"eventually\" + '\n  '0.001*\"final\"'),\n (22,\n  '0.551*\"today\" + 0.001*\"eventually\" + 0.001*\"flat\" + 0.001*\"final\" + '\n  '0.001*\"push\" + 0.001*\"stay\" + 0.001*\"tune\" + 0.001*\"feed\" + 0.001*\"angle\" + '\n  '0.001*\"codevelop\"'),\n (23,\n  '0.389*\"government\" + 0.093*\"policy\" + 0.088*\"agency\" + 0.001*\"tune\" + '\n  '0.001*\"push\" + 0.001*\"feed\" + 0.001*\"eventually\" + 0.001*\"stay\" + '\n  '0.001*\"income\" + 0.001*\"flat\"'),\n (24,\n  '0.002*\"node\" + 0.002*\"flat\" + 0.002*\"final\" + 0.002*\"push\" + 0.002*\"stay\" + '\n  '0.002*\"tune\" + 0.002*\"feed\" + 0.002*\"angle\" + 0.002*\"eventually\" + '\n  '0.002*\"codevelop\"'),\n (25,\n  '0.002*\"node\" + 0.002*\"flat\" + 0.002*\"final\" + 0.002*\"push\" + 0.002*\"stay\" + '\n  '0.002*\"tune\" + 0.002*\"feed\" + 0.002*\"angle\" + 0.002*\"eventually\" + '\n  '0.002*\"codevelop\"'),\n (26,\n  '0.002*\"node\" + 0.002*\"flat\" + 0.002*\"final\" + 0.002*\"push\" + 0.002*\"stay\" + '\n  '0.002*\"tune\" + 0.002*\"feed\" + 0.002*\"angle\" + 0.002*\"eventually\" + '\n  '0.002*\"codevelop\"'),\n (27,\n  '0.333*\"opportunity\" + 0.259*\"solution\" + 0.202*\"problem\" + '\n  '0.073*\"transformation\" + 0.000*\"angle\" + 0.000*\"node\" + 0.000*\"feed\" + '\n  '0.000*\"tune\" + 0.000*\"methodology\" + 0.000*\"stay\"'),\n (28,\n  '0.103*\"tool\" + 0.001*\"node\" + 0.001*\"contingent\" + 0.001*\"push\" + '\n  '0.001*\"stay\" + 0.001*\"tune\" + 0.001*\"feed\" + 0.001*\"angle\" + '\n  '0.001*\"eventually\" + 0.001*\"pursue\"'),\n (29,\n  '0.493*\"machine\" + 0.171*\"governance\" + 0.052*\"generic\" + '\n  '0.015*\"supermodular\" + 0.000*\"feed\" + 0.000*\"angle\" + 0.000*\"push\" + '\n  '0.000*\"tune\" + 0.000*\"contingent\" + 0.000*\"stay\"'),\n (30,\n  '0.002*\"node\" + 0.002*\"flat\" + 0.002*\"final\" + 0.002*\"push\" + 0.002*\"stay\" + '\n  '0.002*\"tune\" + 0.002*\"feed\" + 0.002*\"angle\" + 0.002*\"eventually\" + '\n  '0.002*\"codevelop\"'),\n (31,\n  '0.398*\"leader\" + 0.024*\"freedom\" + 0.001*\"node\" + 0.001*\"contingent\" + '\n  '0.001*\"push\" + 0.001*\"stay\" + 0.001*\"tune\" + 0.001*\"feed\" + 0.001*\"angle\" + '\n  '0.001*\"eventually\"'),\n (32,\n  '0.002*\"node\" + 0.002*\"flat\" + 0.002*\"final\" + 0.002*\"push\" + 0.002*\"stay\" + '\n  '0.002*\"tune\" + 0.002*\"feed\" + 0.002*\"angle\" + 0.002*\"eventually\" + '\n  '0.002*\"codevelop\"'),\n (33,\n  '0.002*\"node\" + 0.002*\"flat\" + 0.002*\"final\" + 0.002*\"push\" + 0.002*\"stay\" + '\n  '0.002*\"tune\" + 0.002*\"feed\" + 0.002*\"angle\" + 0.002*\"eventually\" + '\n  '0.002*\"codevelop\"'),\n (34,\n  '0.313*\"standard\" + 0.149*\"device\" + 0.101*\"location\" + 0.077*\"cloud\" + '\n  '0.055*\"point\" + 0.023*\"setting\" + 0.000*\"eventually\" + 0.000*\"feed\" + '\n  '0.000*\"node\" + 0.000*\"contingent\"'),\n (35,\n  '0.197*\"single\" + 0.097*\"organisation\" + 0.070*\"vacuum\" + 0.001*\"flat\" + '\n  '0.001*\"methodology\" + 0.001*\"feed\" + 0.001*\"angle\" + 0.001*\"eventually\" + '\n  '0.001*\"node\" + 0.001*\"stay\"'),\n (36,\n  '0.696*\"problem\" + 0.183*\"deal\" + 0.000*\"node\" + 0.000*\"contingent\" + '\n  '0.000*\"push\" + 0.000*\"stay\" + 0.000*\"tune\" + 0.000*\"feed\" + 0.000*\"angle\" + '\n  '0.000*\"eventually\"'),\n (37,\n  '0.443*\"product\" + 0.151*\"competitor\" + 0.098*\"barrier\" + 0.090*\"resource\" + '\n  '0.023*\"oppose\" + 0.011*\"entry\" + 0.000*\"flat\" + 0.000*\"methodology\" + '\n  '0.000*\"eventually\" + 0.000*\"node\"'),\n (38,\n  '0.304*\"ecosystem\" + 0.240*\"innovation\" + 0.204*\"type\" + 0.196*\"platform\" + '\n  '0.004*\"modern\" + 0.000*\"angle\" + 0.000*\"node\" + 0.000*\"eventually\" + '\n  '0.000*\"push\" + 0.000*\"feed\"'),\n (39,\n  '0.002*\"node\" + 0.002*\"flat\" + 0.002*\"final\" + 0.002*\"push\" + 0.002*\"stay\" + '\n  '0.002*\"tune\" + 0.002*\"feed\" + 0.002*\"angle\" + 0.002*\"eventually\" + '\n  '0.002*\"codevelop\"'),\n (40,\n  '0.327*\"idea\" + 0.051*\"easy\" + 0.033*\"manner\" + 0.001*\"tune\" + 0.001*\"feed\" '\n  '+ 0.001*\"angle\" + 0.001*\"eventually\" + 0.001*\"node\" + 0.001*\"flat\" + '\n  '0.001*\"push\"'),\n (41,\n  '0.002*\"node\" + 0.002*\"flat\" + 0.002*\"final\" + 0.002*\"push\" + 0.002*\"stay\" + '\n  '0.002*\"tune\" + 0.002*\"feed\" + 0.002*\"angle\" + 0.002*\"eventually\" + '\n  '0.002*\"codevelop\"'),\n (42,\n  '0.002*\"node\" + 0.002*\"flat\" + 0.002*\"final\" + 0.002*\"push\" + 0.002*\"stay\" + '\n  '0.002*\"tune\" + 0.002*\"feed\" + 0.002*\"angle\" + 0.002*\"eventually\" + '\n  '0.002*\"codevelop\"'),\n (43,\n  '0.808*\"model\" + 0.000*\"flat\" + 0.000*\"methodology\" + 0.000*\"push\" + '\n  '0.000*\"stay\" + 0.000*\"tune\" + 0.000*\"feed\" + 0.000*\"angle\" + '\n  '0.000*\"eventually\" + 0.000*\"node\"'),\n (44,\n  '0.585*\"abstraction\" + 0.203*\"problem\" + 0.000*\"node\" + 0.000*\"contingent\" + '\n  '0.000*\"push\" + 0.000*\"stay\" + 0.000*\"tune\" + 0.000*\"feed\" + 0.000*\"angle\" + '\n  '0.000*\"eventually\"'),\n (45,\n  '0.002*\"node\" + 0.002*\"flat\" + 0.002*\"final\" + 0.002*\"push\" + 0.002*\"stay\" + '\n  '0.002*\"tune\" + 0.002*\"feed\" + 0.002*\"angle\" + 0.002*\"eventually\" + '\n  '0.002*\"codevelop\"'),\n (46,\n  '0.607*\"customer\" + 0.221*\"technology\" + 0.025*\"academia\" + 0.000*\"node\" + '\n  '0.000*\"push\" + 0.000*\"stay\" + 0.000*\"tune\" + 0.000*\"feed\" + 0.000*\"angle\" + '\n  '0.000*\"eventually\"'),\n (47,\n  '0.002*\"node\" + 0.002*\"flat\" + 0.002*\"final\" + 0.002*\"push\" + 0.002*\"stay\" + '\n  '0.002*\"tune\" + 0.002*\"feed\" + 0.002*\"angle\" + 0.002*\"eventually\" + '\n  '0.002*\"codevelop\"'),\n (48,\n  '0.274*\"edge\" + 0.101*\"tech\" + 0.083*\"rely\" + 0.001*\"flat\" + 0.001*\"push\" + '\n  '0.001*\"stay\" + 0.001*\"tune\" + 0.001*\"feed\" + 0.001*\"angle\" + '\n  '0.001*\"eventually\"'),\n (49,\n  '0.656*\"mindset\" + 0.148*\"traditional\" + 0.074*\"shift\" + 0.000*\"stay\" + '\n  '0.000*\"eventually\" + 0.000*\"angle\" + 0.000*\"feed\" + 0.000*\"flat\" + '\n  '0.000*\"sound\" + 0.000*\"tune\"')]\n"
        },
        {
         "data": {
          "text/html": "\n<link rel=\"stylesheet\" type=\"text/css\" href=\"https://cdn.rawgit.com/bmabey/pyLDAvis/files/ldavis.v1.0.0.css\">\n\n\n<div id=\"ldavis_el1602822445559087046166980223\"></div>\n<script type=\"text/javascript\">\n\nvar ldavis_el1602822445559087046166980223_data = {\"mdsDat\": {\"x\": [-26.567150115966797, 86.34293365478516, -28.869138717651367, 62.727760314941406, -10.301778793334961, 23.816932678222656, -33.59785842895508, 14.100672721862793, -14.56482219696045, 1.296522855758667, -66.93962860107422, 83.8930892944336, 37.13736343383789, 110.79296112060547, 34.9940299987793, -81.26593780517578, -8.057549476623535, -68.27993774414062, 33.971946716308594, 1.3684372901916504, -8.089694023132324, -32.63547897338867, 65.64741516113281, 6.30381441116333, 45.12669372558594, -46.882484436035156, -20.364131927490234, -114.05280303955078, 57.87627410888672, -43.57181930541992, 41.34003829956055, 32.307186126708984, 22.00431251525879, -44.93163299560547, 72.29718017578125, -0.9197646975517273, -118.733642578125, 30.017440795898438, 113.51105499267578, -19.463130950927734, -71.91765594482422, 10.972694396972656, -35.88033676147461, 110.56674194335938, -111.82491302490234, 13.399372100830078, -23.955095291137695, 12.521507263183594, 72.22116088867188, -72.5294189453125], \"y\": [-100.02227020263672, -92.9160385131836, 5.060335159301758, -32.538299560546875, 46.57832336425781, -9.397311210632324, -33.0212287902832, 47.75468063354492, -51.07456970214844, 27.038354873657227, 81.65203857421875, -7.525626182556152, -69.80523681640625, 14.566045761108398, 9.987845420837402, -72.34368896484375, 6.971770763397217, 41.588443756103516, -34.642086029052734, -10.32774829864502, -30.182147979736328, 65.01618194580078, 72.0378646850586, -83.89915466308594, -11.868886947631836, 16.23974609375, -13.4476957321167, 37.65938949584961, 10.841608047485352, -65.7962417602539, 36.4143180847168, 69.55720520019531, 26.915124893188477, -11.779679298400879, -61.294776916503906, 75.252197265625, 17.20210838317871, 108.16563415527344, 52.13359069824219, 24.566326141357422, 1.5327261686325073, -49.192161560058594, 37.95002746582031, -38.22759246826172, -3.0628645420074463, -27.276086807250977, 106.49996185302734, 7.972312927246094, 37.00509262084961, -35.001461029052734], \"topics\": [1, 2, 3, 4, 5, 6, 7, 8, 9, 10, 11, 12, 13, 14, 15, 16, 17, 18, 19, 20, 21, 22, 23, 24, 25, 26, 27, 28, 29, 30, 31, 32, 33, 34, 35, 36, 37, 38, 39, 40, 41, 42, 43, 44, 45, 46, 47, 48, 49, 50], \"cluster\": [1, 1, 1, 1, 1, 1, 1, 1, 1, 1, 1, 1, 1, 1, 1, 1, 1, 1, 1, 1, 1, 1, 1, 1, 1, 1, 1, 1, 1, 1, 1, 1, 1, 1, 1, 1, 1, 1, 1, 1, 1, 1, 1, 1, 1, 1, 1, 1, 1, 1], \"Freq\": [3.2179630203350253, 14.426908120711479, 0.45263499977917815, 1.2534246205272632, 0.4493081583906846, 0.4493081583906846, 0.4493081583906846, 0.4493081583906846, 0.4493081583906846, 0.4493081583906846, 3.9040087069366383, 1.9798822604506363, 1.5864714713381345, 2.293629002019061, 0.4493081583906846, 2.8747453028331917, 0.4493081583906846, 1.9556150288114118, 0.4493081583906846, 0.4493081583906846, 0.4493081583906846, 1.1781329127711015, 1.1697846342655578, 1.639568992661395, 0.4493081583906846, 0.4493081583906846, 0.4493081583906846, 5.6837772910405215, 0.6104489651482725, 2.9876858401320376, 0.4493081583906846, 1.1758609365283783, 0.4525734557503667, 0.4493081583906846, 2.8750576761150484, 0.9225217165141081, 5.1640839838027555, 3.718081467593364, 12.030438221420885, 0.4493081583906846, 1.2358221502275757, 0.4493081583906846, 0.4493081583906846, 2.6230051503126397, 1.9426749395998084, 0.4493081583906846, 4.467131020636096, 0.4526059544979036, 1.361271445450976, 5.3780275439755]}, \"tinfo\": {\"Term\": [\"ecosystem\", \"problem\", \"mindset\", \"customer\", \"model\", \"rule\", \"offer\", \"abide\", \"theory\", \"occasion\", \"wheel\", \"modularize\", \"application\", \"ecosystem\", \"wheel\", \"theory\", \"ongoing\", \"abstract\", \"newcomer\", \"wheel\", \"figure\", \"thought\", \"ongoing\", \"occasion\", \"engage\", \"exchange\", \"degree\", \"set\", \"participant\", \"critical\", \"independently\", \"theory\", \"occasion\", \"engage\", \"newcomer\", \"wheel\", \"figure\", \"thought\", \"ongoing\", \"occasion\", \"engage\", \"exchange\", \"degree\", \"set\", \"wheel\", \"figure\", \"thought\", \"ongoing\", \"occasion\", \"engage\", \"exchange\", \"degree\", \"set\", \"wheel\", \"figure\", \"thought\", \"ongoing\", \"occasion\", \"engage\", \"exchange\", \"degree\", \"set\", \"wheel\", \"figure\", \"thought\", \"ongoing\", \"occasion\", \"engage\", \"exchange\", \"degree\", \"set\", \"wheel\", \"figure\", \"thought\", \"ongoing\", \"occasion\", \"engage\", \"exchange\", \"degree\", \"set\", \"wheel\", \"figure\", \"thought\", \"ongoing\", \"occasion\", \"engage\", \"exchange\", \"degree\", \"set\", \"thing\", \"datum\", \"capability\", \"join\", \"breed\", \"wheel\", \"cooperation\", \"proposition\", \"establish\", \"wheel\", \"nature\", \"ultimately\", \"role\", \"merchandise\", \"wheel\", \"breed\", \"occasion\", \"abstract\", \"newcomer\", \"player\", \"mind\", \"power\", \"connect\", \"thought\", \"wheel\", \"abstract\", \"newcomer\", \"wheel\", \"figure\", \"thought\", \"ongoing\", \"occasion\", \"engage\", \"exchange\", \"degree\", \"set\", \"skill\", \"challenge\", \"harness\", \"lead\", \"desire\", \"wheel\", \"figure\", \"thought\", \"ongoing\", \"occasion\", \"engage\", \"exchange\", \"degree\", \"set\", \"step\", \"initiative\", \"economy\", \"regional\", \"area\", \"wheel\", \"figure\", \"thought\", \"ongoing\", \"occasion\", \"engage\", \"exchange\", \"degree\", \"set\", \"wheel\", \"figure\", \"thought\", \"ongoing\", \"occasion\", \"engage\", \"exchange\", \"degree\", \"set\", \"wheel\", \"figure\", \"thought\", \"ongoing\", \"occasion\", \"engage\", \"exchange\", \"degree\", \"set\", \"side\", \"quality\", \"wheel\", \"breed\", \"ongoing\", \"abstract\", \"newcomer\", \"exchange\", \"today\", \"wheel\", \"breed\", \"ongoing\", \"occasion\", \"modularize\", \"engage\", \"newcomer\", \"government\", \"policy\", \"agency\", \"wheel\", \"breed\", \"abstract\", \"wheel\", \"figure\", \"thought\", \"ongoing\", \"occasion\", \"engage\", \"exchange\", \"degree\", \"set\", \"wheel\", \"figure\", \"thought\", \"ongoing\", \"occasion\", \"engage\", \"exchange\", \"degree\", \"set\", \"wheel\", \"figure\", \"thought\", \"ongoing\", \"occasion\", \"engage\", \"exchange\", \"degree\", \"set\", \"opportunity\", \"solution\", \"transformation\", \"problem\", \"wheel\", \"tool\", \"breed\", \"thought\", \"ongoing\", \"occasion\", \"wheel\", \"abstract\", \"newcomer\", \"exchange\", \"machine\", \"governance\", \"generic\", \"supermodular\", \"wheel\", \"grand\", \"wheel\", \"figure\", \"thought\", \"ongoing\", \"occasion\", \"engage\", \"exchange\", \"degree\", \"set\", \"leader\", \"freedom\", \"wheel\", \"ongoing\", \"occasion\", \"abstract\", \"newcomer\", \"exchange\", \"wheel\", \"figure\", \"thought\", \"ongoing\", \"occasion\", \"engage\", \"exchange\", \"degree\", \"set\", \"wheel\", \"figure\", \"thought\", \"ongoing\", \"occasion\", \"engage\", \"exchange\", \"degree\", \"set\", \"standard\", \"device\", \"location\", \"cloud\", \"point\", \"single\", \"organisation\", \"vacuum\", \"breed\", \"thought\", \"wheel\", \"abstract\", \"deal\", \"problem\", \"wheel\", \"theory\", \"occasion\", \"abstract\", \"newcomer\", \"product\", \"competitor\", \"barrier\", \"resource\", \"oppose\", \"innovation\", \"type\", \"platform\", \"modern\", \"ecosystem\", \"wheel\", \"figure\", \"thought\", \"ongoing\", \"occasion\", \"engage\", \"exchange\", \"degree\", \"set\", \"idea\", \"easy\", \"manner\", \"likelihood\", \"thought\", \"precedence\", \"exchange\", \"wheel\", \"figure\", \"thought\", \"ongoing\", \"occasion\", \"engage\", \"exchange\", \"degree\", \"set\", \"wheel\", \"figure\", \"thought\", \"ongoing\", \"occasion\", \"engage\", \"exchange\", \"degree\", \"set\", \"model\", \"wheel\", \"breed\", \"thought\", \"ongoing\", \"precedence\", \"newcomer\", \"exchange\", \"abstraction\", \"problem\", \"wheel\", \"breed\", \"ongoing\", \"abstract\", \"newcomer\", \"wheel\", \"figure\", \"thought\", \"ongoing\", \"occasion\", \"engage\", \"exchange\", \"degree\", \"set\", \"customer\", \"technology\", \"academia\", \"wheel\", \"breed\", \"newcomer\", \"exchange\", \"wheel\", \"figure\", \"thought\", \"ongoing\", \"occasion\", \"engage\", \"exchange\", \"degree\", \"set\", \"edge\", \"tech\", \"rely\", \"wheel\", \"connect\", \"engage\", \"mindset\", \"traditional\", \"shift\", \"theory\", \"ongoing\", \"wheel\", \"abstract\"], \"Freq\": [383.0, 123.0, 85.0, 65.0, 51.0, 46.16572802165612, 6.21625386631268, 2.440917240549286, 0.03366380265771556, 0.03366380265771556, 0.03366380265771556, 0.03366380265771556, 27.41421374975407, 295.59378030007724, 0.033510731073205215, 0.033510731073205215, 0.033510731073205215, 0.033510731073205215, 0.033510731073205215, 0.016379774256802735, 0.016379774256802735, 0.016379774256802735, 0.016379774256802735, 0.016379774256802735, 0.016379774256802735, 0.016379774256802735, 0.016379774256802735, 0.016379774256802735, 6.56173531521095, 3.658153434368958, 2.0967702736560825, 0.026846901902606773, 0.026846901902606773, 0.026846901902606773, 0.026846901902606773, 0.01625938385182235, 0.01625938385182235, 0.01625938385182235, 0.01625938385182235, 0.01625938385182235, 0.01625938385182235, 0.01625938385182235, 0.01625938385182235, 0.01625938385182235, 0.01625938385182235, 0.01625938385182235, 0.01625938385182235, 0.01625938385182235, 0.01625938385182235, 0.01625938385182235, 0.01625938385182235, 0.01625938385182235, 0.01625938385182235, 0.01625938385182235, 0.01625938385182235, 0.01625938385182235, 0.01625938385182235, 0.01625938385182235, 0.01625938385182235, 0.01625938385182235, 0.01625938385182235, 0.01625938385182235, 0.01625938385182235, 0.01625938385182235, 0.01625938385182235, 0.01625938385182235, 0.01625938385182235, 0.01625938385182235, 0.01625938385182235, 0.01625938385182235, 0.01625938385182235, 0.01625938385182235, 0.01625938385182235, 0.01625938385182235, 0.01625938385182235, 0.01625938385182235, 0.01625938385182235, 0.01625938385182235, 0.01625938385182235, 0.01625938385182235, 0.01625938385182235, 0.01625938385182235, 0.01625938385182235, 0.01625938385182235, 0.01625938385182235, 0.01625938385182235, 0.01625938385182235, 0.01625938385182235, 0.01625938385182235, 31.305423420929237, 24.978246703272465, 13.728802617478516, 2.322965175248556, 0.0320371858148301, 0.0320371858148301, 15.452057734838018, 14.750572702111098, 0.779422197938108, 0.024888650713045045, 0.024888650713045045, 0.024888650713045045, 16.502069543433713, 2.7276906677121326, 0.02840461479560809, 0.02840461479560809, 0.02840461479560809, 0.02840461479560809, 0.02840461479560809, 30.761125301270784, 6.99020624840487, 0.0259670312962691, 0.0259670312962691, 0.0259670312962691, 0.0259670312962691, 0.0259670312962691, 0.0259670312962691, 0.01625938385182235, 0.01625938385182235, 0.01625938385182235, 0.01625938385182235, 0.01625938385182235, 0.01625938385182235, 0.01625938385182235, 0.01625938385182235, 0.01625938385182235, 19.34898547205, 12.798665966464448, 8.377017935956635, 4.203896318760829, 3.663022024195286, 0.01625938385182235, 0.01625938385182235, 0.01625938385182235, 0.01625938385182235, 0.01625938385182235, 0.01625938385182235, 0.01625938385182235, 0.01625938385182235, 0.01625938385182235, 8.337724017318259, 4.775266562108509, 4.576939817730567, 4.033568905442618, 2.315802331212113, 0.01625938385182235, 0.01625938385182235, 0.01625938385182235, 0.01625938385182235, 0.01625938385182235, 0.01625938385182235, 0.01625938385182235, 0.01625938385182235, 0.01625938385182235, 0.01625938385182235, 0.01625938385182235, 0.01625938385182235, 0.01625938385182235, 0.01625938385182235, 0.01625938385182235, 0.01625938385182235, 0.01625938385182235, 0.01625938385182235, 0.01625938385182235, 0.01625938385182235, 0.01625938385182235, 0.01625938385182235, 0.01625938385182235, 0.01625938385182235, 0.01625938385182235, 0.01625938385182235, 0.01625938385182235, 4.385256106556822, 3.571219642556491, 0.030689628473048174, 0.030689628473048174, 0.030689628473048174, 0.030689628473048174, 0.030689628473048174, 0.030689628473048174, 15.408523701033678, 0.019049585732679224, 0.019049585732679224, 0.019049585732679224, 0.019049585732679224, 0.019049585732679224, 0.019049585732679224, 0.019049585732679224, 15.252423592343186, 3.660311610431279, 3.450225272391878, 0.02561630745793749, 0.02561630745793749, 0.02561630745793749, 0.01625938385182235, 0.01625938385182235, 0.01625938385182235, 0.01625938385182235, 0.01625938385182235, 0.01625938385182235, 0.01625938385182235, 0.01625938385182235, 0.01625938385182235, 0.01625938385182235, 0.01625938385182235, 0.01625938385182235, 0.01625938385182235, 0.01625938385182235, 0.01625938385182235, 0.01625938385182235, 0.01625938385182235, 0.01625938385182235, 0.01625938385182235, 0.01625938385182235, 0.01625938385182235, 0.01625938385182235, 0.01625938385182235, 0.01625938385182235, 0.01625938385182235, 0.01625938385182235, 0.01625938385182235, 45.292515413806655, 35.251936258526776, 9.906813935628469, 27.489556414835555, 0.02742027779647982, 1.5072419257177336, 0.01984045415524859, 0.01984045415524859, 0.01984045415524859, 0.01984045415524859, 0.01984045415524859, 0.01984045415524859, 0.01984045415524859, 0.01984045415524859, 35.244688732634216, 12.252864116611983, 3.6901123124999065, 1.0785730639683029, 0.02922252089696562, 0.02922252089696562, 0.01625938385182235, 0.01625938385182235, 0.01625938385182235, 0.01625938385182235, 0.01625938385182235, 0.01625938385182235, 0.01625938385182235, 0.01625938385182235, 0.01625938385182235, 11.189616734452104, 0.6665241853897287, 0.024689611071309858, 0.024689611071309858, 0.024689611071309858, 0.024689611071309858, 0.024689611071309858, 0.024689611071309858, 0.016377547126114042, 0.016377547126114042, 0.016377547126114042, 0.016377547126114042, 0.016377547126114042, 0.016377547126114042, 0.016377547126114042, 0.016377547126114042, 0.016377547126114042, 0.01625938385182235, 0.01625938385182235, 0.01625938385182235, 0.01625938385182235, 0.01625938385182235, 0.01625938385182235, 0.01625938385182235, 0.01625938385182235, 0.01625938385182235, 21.51289262370257, 10.262641807288789, 6.927335765178212, 5.311481198756136, 3.8032780577269287, 4.346640696670938, 2.133798351329412, 1.5470653721023633, 0.021336197970656168, 0.021336197970656168, 0.021336197970656168, 0.021336197970656168, 22.61347063299667, 86.0089579460359, 0.022613789053546288, 0.022613789053546288, 0.022613789053546288, 0.022613789053546288, 0.022613789053546288, 39.38087385582916, 13.410494540504448, 8.71122031765204, 7.960739041301734, 2.045110048734288, 69.17935075634941, 58.83270997192896, 56.32937679322546, 1.0132893461257126, 87.3559589336377, 0.01625938385182235, 0.01625938385182235, 0.01625938385182235, 0.01625938385182235, 0.01625938385182235, 0.01625938385182235, 0.01625938385182235, 0.01625938385182235, 0.01625938385182235, 9.674440377981968, 1.5151910839508402, 0.975762869029358, 0.026436890457013185, 0.026436890457013185, 0.026436890457013185, 0.026436890457013185, 0.01625938385182235, 0.01625938385182235, 0.01625938385182235, 0.01625938385182235, 0.01625938385182235, 0.01625938385182235, 0.01625938385182235, 0.01625938385182235, 0.01625938385182235, 0.01625938385182235, 0.01625938385182235, 0.01625938385182235, 0.01625938385182235, 0.01625938385182235, 0.01625938385182235, 0.01625938385182235, 0.01625938385182235, 0.01625938385182235, 50.70967237700534, 0.018231228122192397, 0.018231228122192397, 0.018231228122192397, 0.018231228122192397, 0.018231228122192397, 0.018231228122192397, 0.018231228122192397, 27.202563456986432, 9.429439330151862, 0.014926822205476855, 0.014926822205476855, 0.014926822205476855, 0.014926822205476855, 0.014926822205476855, 0.01625938385182235, 0.01625938385182235, 0.01625938385182235, 0.01625938385182235, 0.01625938385182235, 0.01625938385182235, 0.01625938385182235, 0.01625938385182235, 0.01625938385182235, 64.82519348602057, 23.57422109862923, 2.708409551028436, 0.023930006295991877, 0.023930006295991877, 0.023930006295991877, 0.023930006295991877, 0.01637872317778601, 0.01637872317778601, 0.01637872317778601, 0.01637872317778601, 0.01637872317778601, 0.01637872317778601, 0.01637872317778601, 0.01637872317778601, 0.01637872317778601, 8.927480161588496, 3.287323543923198, 2.697034712769757, 0.026823368190209057, 0.026823368190209057, 0.026823368190209057, 84.33667786212091, 19.028021983609484, 9.493218144563482, 0.02398866421933268, 0.02398866421933268, 0.02398866421933268, 0.02398866421933268], \"Total\": [383.0, 123.0, 85.0, 65.0, 51.0, 47.20448507492282, 7.255010919579334, 3.479674293815942, 1.0724208559243742, 1.0724208559243742, 1.0724208559243742, 1.0724208559243742, 28.453123874605218, 383.96569597468135, 1.0724208559243742, 1.0724208559243742, 1.0724208559243742, 1.0724208559243742, 1.0724208559243742, 1.0724208559243742, 1.0724208559243742, 1.0724208559243742, 1.0724208559243742, 1.0724208559243742, 1.0724208559243742, 1.0724208559243742, 1.0724208559243742, 1.0724208559243742, 7.607309269232713, 4.703727388390721, 3.1423442276778473, 1.0724208559243742, 1.0724208559243742, 1.0724208559243742, 1.0724208559243742, 1.0724208559243742, 1.0724208559243742, 1.0724208559243742, 1.0724208559243742, 1.0724208559243742, 1.0724208559243742, 1.0724208559243742, 1.0724208559243742, 1.0724208559243742, 1.0724208559243742, 1.0724208559243742, 1.0724208559243742, 1.0724208559243742, 1.0724208559243742, 1.0724208559243742, 1.0724208559243742, 1.0724208559243742, 1.0724208559243742, 1.0724208559243742, 1.0724208559243742, 1.0724208559243742, 1.0724208559243742, 1.0724208559243742, 1.0724208559243742, 1.0724208559243742, 1.0724208559243742, 1.0724208559243742, 1.0724208559243742, 1.0724208559243742, 1.0724208559243742, 1.0724208559243742, 1.0724208559243742, 1.0724208559243742, 1.0724208559243742, 1.0724208559243742, 1.0724208559243742, 1.0724208559243742, 1.0724208559243742, 1.0724208559243742, 1.0724208559243742, 1.0724208559243742, 1.0724208559243742, 1.0724208559243742, 1.0724208559243742, 1.0724208559243742, 1.0724208559243742, 1.0724208559243742, 1.0724208559243742, 1.0724208559243742, 1.0724208559243742, 1.0724208559243742, 1.0724208559243742, 1.0724208559243742, 1.0724208559243742, 32.34580709103877, 26.018630373381995, 14.76918628758807, 3.363348845358099, 1.0724208559243742, 1.0724208559243742, 16.499589940049347, 15.798104907322436, 1.8269544031494374, 1.0724208559243742, 1.0724208559243742, 1.0724208559243742, 17.546085784562464, 3.771706908840897, 1.0724208559243742, 1.0724208559243742, 1.0724208559243742, 1.0724208559243742, 1.0724208559243742, 31.807579125898876, 8.036660073032971, 1.0724208559243742, 1.0724208559243742, 1.0724208559243742, 1.0724208559243742, 1.0724208559243742, 1.0724208559243742, 1.0724208559243742, 1.0724208559243742, 1.0724208559243742, 1.0724208559243742, 1.0724208559243742, 1.0724208559243742, 1.0724208559243742, 1.0724208559243742, 1.0724208559243742, 20.395770981285594, 13.84545147570006, 9.423803445192247, 5.250681827996429, 4.709807533430887, 1.0724208559243742, 1.0724208559243742, 1.0724208559243742, 1.0724208559243742, 1.0724208559243742, 1.0724208559243742, 1.0724208559243742, 1.0724208559243742, 1.0724208559243742, 9.375481740620796, 5.813024285411037, 5.614697541033095, 5.071326628745146, 3.353560054514641, 1.0724208559243742, 1.0724208559243742, 1.0724208559243742, 1.0724208559243742, 1.0724208559243742, 1.0724208559243742, 1.0724208559243742, 1.0724208559243742, 1.0724208559243742, 1.0724208559243742, 1.0724208559243742, 1.0724208559243742, 1.0724208559243742, 1.0724208559243742, 1.0724208559243742, 1.0724208559243742, 1.0724208559243742, 1.0724208559243742, 1.0724208559243742, 1.0724208559243742, 1.0724208559243742, 1.0724208559243742, 1.0724208559243742, 1.0724208559243742, 1.0724208559243742, 1.0724208559243742, 1.0724208559243742, 5.426987334008146, 4.612950870007815, 1.0724208559243742, 1.0724208559243742, 1.0724208559243742, 1.0724208559243742, 1.0724208559243742, 1.0724208559243742, 16.46189497122537, 1.0724208559243742, 1.0724208559243742, 1.0724208559243742, 1.0724208559243742, 1.0724208559243742, 1.0724208559243742, 1.0724208559243742, 16.29922814080962, 4.707116158897714, 4.497029820858312, 1.0724208559243742, 1.0724208559243742, 1.0724208559243742, 1.0724208559243742, 1.0724208559243742, 1.0724208559243742, 1.0724208559243742, 1.0724208559243742, 1.0724208559243742, 1.0724208559243742, 1.0724208559243742, 1.0724208559243742, 1.0724208559243742, 1.0724208559243742, 1.0724208559243742, 1.0724208559243742, 1.0724208559243742, 1.0724208559243742, 1.0724208559243742, 1.0724208559243742, 1.0724208559243742, 1.0724208559243742, 1.0724208559243742, 1.0724208559243742, 1.0724208559243742, 1.0724208559243742, 1.0724208559243742, 1.0724208559243742, 1.0724208559243742, 1.0724208559243742, 46.33751599193455, 36.29693683665467, 10.951814513756366, 123.93541365789217, 1.0724208559243742, 2.559822327486859, 1.0724208559243742, 1.0724208559243742, 1.0724208559243742, 1.0724208559243742, 1.0724208559243742, 1.0724208559243742, 1.0724208559243742, 1.0724208559243742, 36.28788706766162, 13.296062451639393, 4.733310647527314, 2.1217713989957114, 1.0724208559243742, 1.0724208559243742, 1.0724208559243742, 1.0724208559243742, 1.0724208559243742, 1.0724208559243742, 1.0724208559243742, 1.0724208559243742, 1.0724208559243742, 1.0724208559243742, 1.0724208559243742, 12.23734797930517, 1.714255430242793, 1.0724208559243742, 1.0724208559243742, 1.0724208559243742, 1.0724208559243742, 1.0724208559243742, 1.0724208559243742, 1.0724208559243742, 1.0724208559243742, 1.0724208559243742, 1.0724208559243742, 1.0724208559243742, 1.0724208559243742, 1.0724208559243742, 1.0724208559243742, 1.0724208559243742, 1.0724208559243742, 1.0724208559243742, 1.0724208559243742, 1.0724208559243742, 1.0724208559243742, 1.0724208559243742, 1.0724208559243742, 1.0724208559243742, 1.0724208559243742, 22.555739420748978, 11.305488604335205, 7.970182562224625, 6.354327995802549, 4.846124854773342, 5.397725354624656, 3.1848830092831295, 2.598150030056081, 1.0724208559243742, 1.0724208559243742, 1.0724208559243742, 1.0724208559243742, 23.663277699867493, 123.93541365789217, 1.0724208559243742, 1.0724208559243742, 1.0724208559243742, 1.0724208559243742, 1.0724208559243742, 40.42815776985123, 14.457778454526526, 9.758504231674118, 9.008022955323812, 3.0923939627563644, 70.22881822838877, 59.88217744396836, 57.37884426526485, 2.0627568181651026, 383.96569597468135, 1.0724208559243742, 1.0724208559243742, 1.0724208559243742, 1.0724208559243742, 1.0724208559243742, 1.0724208559243742, 1.0724208559243742, 1.0724208559243742, 1.0724208559243742, 10.72042434344933, 2.561175049418201, 2.021746834496719, 1.0724208559243742, 1.0724208559243742, 1.0724208559243742, 1.0724208559243742, 1.0724208559243742, 1.0724208559243742, 1.0724208559243742, 1.0724208559243742, 1.0724208559243742, 1.0724208559243742, 1.0724208559243742, 1.0724208559243742, 1.0724208559243742, 1.0724208559243742, 1.0724208559243742, 1.0724208559243742, 1.0724208559243742, 1.0724208559243742, 1.0724208559243742, 1.0724208559243742, 1.0724208559243742, 1.0724208559243742, 51.76386200480752, 1.0724208559243742, 1.0724208559243742, 1.0724208559243742, 1.0724208559243742, 1.0724208559243742, 1.0724208559243742, 1.0724208559243742, 28.260057490705325, 123.93541365789217, 1.0724208559243742, 1.0724208559243742, 1.0724208559243742, 1.0724208559243742, 1.0724208559243742, 1.0724208559243742, 1.0724208559243742, 1.0724208559243742, 1.0724208559243742, 1.0724208559243742, 1.0724208559243742, 1.0724208559243742, 1.0724208559243742, 1.0724208559243742, 65.87368433564895, 24.62271194825761, 3.756900400656818, 1.0724208559243742, 1.0724208559243742, 1.0724208559243742, 1.0724208559243742, 1.0724208559243742, 1.0724208559243742, 1.0724208559243742, 1.0724208559243742, 1.0724208559243742, 1.0724208559243742, 1.0724208559243742, 1.0724208559243742, 1.0724208559243742, 9.973077649322661, 4.332921031657364, 3.742632200503922, 1.0724208559243742, 1.0724208559243742, 1.0724208559243742, 85.38511005382595, 20.076454175314527, 10.541650336268523, 1.0724208559243742, 1.0724208559243742, 1.0724208559243742, 1.0724208559243742], \"Category\": [\"Default\", \"Default\", \"Default\", \"Default\", \"Default\", \"Topic1\", \"Topic1\", \"Topic1\", \"Topic1\", \"Topic1\", \"Topic1\", \"Topic1\", \"Topic2\", \"Topic2\", \"Topic2\", \"Topic2\", \"Topic2\", \"Topic2\", \"Topic2\", \"Topic3\", \"Topic3\", \"Topic3\", \"Topic3\", \"Topic3\", \"Topic3\", \"Topic3\", \"Topic3\", \"Topic3\", \"Topic4\", \"Topic4\", \"Topic4\", \"Topic4\", \"Topic4\", \"Topic4\", \"Topic4\", \"Topic5\", \"Topic5\", \"Topic5\", \"Topic5\", \"Topic5\", \"Topic5\", \"Topic5\", \"Topic5\", \"Topic5\", \"Topic6\", \"Topic6\", \"Topic6\", \"Topic6\", \"Topic6\", \"Topic6\", \"Topic6\", \"Topic6\", \"Topic6\", \"Topic7\", \"Topic7\", \"Topic7\", \"Topic7\", \"Topic7\", \"Topic7\", \"Topic7\", \"Topic7\", \"Topic7\", \"Topic8\", \"Topic8\", \"Topic8\", \"Topic8\", \"Topic8\", \"Topic8\", \"Topic8\", \"Topic8\", \"Topic8\", \"Topic9\", \"Topic9\", \"Topic9\", \"Topic9\", \"Topic9\", \"Topic9\", \"Topic9\", \"Topic9\", \"Topic9\", \"Topic10\", \"Topic10\", \"Topic10\", \"Topic10\", \"Topic10\", \"Topic10\", \"Topic10\", \"Topic10\", \"Topic10\", \"Topic11\", \"Topic11\", \"Topic11\", \"Topic11\", \"Topic11\", \"Topic11\", \"Topic12\", \"Topic12\", \"Topic12\", \"Topic12\", \"Topic12\", \"Topic12\", \"Topic13\", \"Topic13\", \"Topic13\", \"Topic13\", \"Topic13\", \"Topic13\", \"Topic13\", \"Topic14\", \"Topic14\", \"Topic14\", \"Topic14\", \"Topic14\", \"Topic14\", \"Topic14\", \"Topic14\", \"Topic15\", \"Topic15\", \"Topic15\", \"Topic15\", \"Topic15\", \"Topic15\", \"Topic15\", \"Topic15\", \"Topic15\", \"Topic16\", \"Topic16\", \"Topic16\", \"Topic16\", \"Topic16\", \"Topic17\", \"Topic17\", \"Topic17\", \"Topic17\", \"Topic17\", \"Topic17\", \"Topic17\", \"Topic17\", \"Topic17\", \"Topic18\", \"Topic18\", \"Topic18\", \"Topic18\", \"Topic18\", \"Topic19\", \"Topic19\", \"Topic19\", \"Topic19\", \"Topic19\", \"Topic19\", \"Topic19\", \"Topic19\", \"Topic19\", \"Topic20\", \"Topic20\", \"Topic20\", \"Topic20\", \"Topic20\", \"Topic20\", \"Topic20\", \"Topic20\", \"Topic20\", \"Topic21\", \"Topic21\", \"Topic21\", \"Topic21\", \"Topic21\", \"Topic21\", \"Topic21\", \"Topic21\", \"Topic21\", \"Topic22\", \"Topic22\", \"Topic22\", \"Topic22\", \"Topic22\", \"Topic22\", \"Topic22\", \"Topic22\", \"Topic23\", \"Topic23\", \"Topic23\", \"Topic23\", \"Topic23\", \"Topic23\", \"Topic23\", \"Topic23\", \"Topic24\", \"Topic24\", \"Topic24\", \"Topic24\", \"Topic24\", \"Topic24\", \"Topic25\", \"Topic25\", \"Topic25\", \"Topic25\", \"Topic25\", \"Topic25\", \"Topic25\", \"Topic25\", \"Topic25\", \"Topic26\", \"Topic26\", \"Topic26\", \"Topic26\", \"Topic26\", \"Topic26\", \"Topic26\", \"Topic26\", \"Topic26\", \"Topic27\", \"Topic27\", \"Topic27\", \"Topic27\", \"Topic27\", \"Topic27\", \"Topic27\", \"Topic27\", \"Topic27\", \"Topic28\", \"Topic28\", \"Topic28\", \"Topic28\", \"Topic28\", \"Topic29\", \"Topic29\", \"Topic29\", \"Topic29\", \"Topic29\", \"Topic29\", \"Topic29\", \"Topic29\", \"Topic29\", \"Topic30\", \"Topic30\", \"Topic30\", \"Topic30\", \"Topic30\", \"Topic30\", \"Topic31\", \"Topic31\", \"Topic31\", \"Topic31\", \"Topic31\", \"Topic31\", \"Topic31\", \"Topic31\", \"Topic31\", \"Topic32\", \"Topic32\", \"Topic32\", \"Topic32\", \"Topic32\", \"Topic32\", \"Topic32\", \"Topic32\", \"Topic33\", \"Topic33\", \"Topic33\", \"Topic33\", \"Topic33\", \"Topic33\", \"Topic33\", \"Topic33\", \"Topic33\", \"Topic34\", \"Topic34\", \"Topic34\", \"Topic34\", \"Topic34\", \"Topic34\", \"Topic34\", \"Topic34\", \"Topic34\", \"Topic35\", \"Topic35\", \"Topic35\", \"Topic35\", \"Topic35\", \"Topic36\", \"Topic36\", \"Topic36\", \"Topic36\", \"Topic36\", \"Topic36\", \"Topic36\", \"Topic37\", \"Topic37\", \"Topic37\", \"Topic37\", \"Topic37\", \"Topic37\", \"Topic37\", \"Topic38\", \"Topic38\", \"Topic38\", \"Topic38\", \"Topic38\", \"Topic39\", \"Topic39\", \"Topic39\", \"Topic39\", \"Topic39\", \"Topic40\", \"Topic40\", \"Topic40\", \"Topic40\", \"Topic40\", \"Topic40\", \"Topic40\", \"Topic40\", \"Topic40\", \"Topic41\", \"Topic41\", \"Topic41\", \"Topic41\", \"Topic41\", \"Topic41\", \"Topic41\", \"Topic42\", \"Topic42\", \"Topic42\", \"Topic42\", \"Topic42\", \"Topic42\", \"Topic42\", \"Topic42\", \"Topic42\", \"Topic43\", \"Topic43\", \"Topic43\", \"Topic43\", \"Topic43\", \"Topic43\", \"Topic43\", \"Topic43\", \"Topic43\", \"Topic44\", \"Topic44\", \"Topic44\", \"Topic44\", \"Topic44\", \"Topic44\", \"Topic44\", \"Topic44\", \"Topic45\", \"Topic45\", \"Topic45\", \"Topic45\", \"Topic45\", \"Topic45\", \"Topic45\", \"Topic46\", \"Topic46\", \"Topic46\", \"Topic46\", \"Topic46\", \"Topic46\", \"Topic46\", \"Topic46\", \"Topic46\", \"Topic47\", \"Topic47\", \"Topic47\", \"Topic47\", \"Topic47\", \"Topic47\", \"Topic47\", \"Topic48\", \"Topic48\", \"Topic48\", \"Topic48\", \"Topic48\", \"Topic48\", \"Topic48\", \"Topic48\", \"Topic48\", \"Topic49\", \"Topic49\", \"Topic49\", \"Topic49\", \"Topic49\", \"Topic49\", \"Topic50\", \"Topic50\", \"Topic50\", \"Topic50\", \"Topic50\", \"Topic50\", \"Topic50\"], \"logprob\": [5.0, 4.0, 3.0, 2.0, 1.0, -0.5112000107765198, -2.5162999629974365, -3.4511001110076904, -7.734799861907959, -7.734799861907959, -7.734799861907959, -7.734799861907959, -2.5327000617980957, -0.15479999780654907, -9.239700317382812, -9.239700317382812, -9.239700317382812, -9.239700317382812, -9.239700317382812, -6.493800163269043, -6.493800163269043, -6.493800163269043, -6.493800163269043, -6.493800163269043, -6.493800163269043, -6.493800163269043, -6.493800163269043, -6.493800163269043, -1.5192999839782715, -2.103600025177002, -2.6602001190185547, -7.018199920654297, -7.018199920654297, -7.018199920654297, -7.018199920654297, -6.493800163269043, -6.493800163269043, -6.493800163269043, -6.493800163269043, -6.493800163269043, -6.493800163269043, -6.493800163269043, -6.493800163269043, -6.493800163269043, -6.493800163269043, -6.493800163269043, -6.493800163269043, -6.493800163269043, -6.493800163269043, -6.493800163269043, -6.493800163269043, -6.493800163269043, -6.493800163269043, -6.493800163269043, -6.493800163269043, -6.493800163269043, -6.493800163269043, -6.493800163269043, -6.493800163269043, -6.493800163269043, -6.493800163269043, -6.493800163269043, -6.493800163269043, -6.493800163269043, -6.493800163269043, -6.493800163269043, -6.493800163269043, -6.493800163269043, -6.493800163269043, -6.493800163269043, -6.493800163269043, -6.493800163269043, -6.493800163269043, -6.493800163269043, -6.493800163269043, -6.493800163269043, -6.493800163269043, -6.493800163269043, -6.493800163269043, -6.493800163269043, -6.493800163269043, -6.493800163269043, -6.493800163269043, -6.493800163269043, -6.493800163269043, -6.493800163269043, -6.493800163269043, -6.493800163269043, -6.493800163269043, -1.092900037765503, -1.3186999559402466, -1.917199969291687, -3.6939001083374023, -7.97760009765625, -7.97760009765625, -1.1200000047683716, -1.1664999723434448, -4.10699987411499, -7.55109977722168, -7.55109977722168, -7.55109977722168, -0.8327000141143799, -2.6328001022338867, -7.197400093078613, -7.197400093078613, -7.197400093078613, -7.197400093078613, -7.197400093078613, -0.5785999894142151, -2.06030011177063, -7.655799865722656, -7.655799865722656, -7.655799865722656, -7.655799865722656, -7.655799865722656, -7.655799865722656, -6.493800163269043, -6.493800163269043, -6.493800163269043, -6.493800163269043, -6.493800163269043, -6.493800163269043, -6.493800163269043, -6.493800163269043, -6.493800163269043, -1.2680000066757202, -1.6813000440597534, -2.1052000522613525, -2.7946999073028564, -2.9323999881744385, -6.493800163269043, -6.493800163269043, -6.493800163269043, -6.493800163269043, -6.493800163269043, -6.493800163269043, -6.493800163269043, -6.493800163269043, -6.493800163269043, -1.7245999574661255, -2.2820000648498535, -2.324399948120117, -2.4507999420166016, -3.00570011138916, -6.493800163269043, -6.493800163269043, -6.493800163269043, -6.493800163269043, -6.493800163269043, -6.493800163269043, -6.493800163269043, -6.493800163269043, -6.493800163269043, -6.493800163269043, -6.493800163269043, -6.493800163269043, -6.493800163269043, -6.493800163269043, -6.493800163269043, -6.493800163269043, -6.493800163269043, -6.493800163269043, -6.493800163269043, -6.493800163269043, -6.493800163269043, -6.493800163269043, -6.493800163269043, -6.493800163269043, -6.493800163269043, -6.493800163269043, -6.493800163269043, -1.8603999614715576, -2.065700054168701, -6.822500228881836, -6.822500228881836, -6.822500228881836, -6.822500228881836, -6.822500228881836, -6.822500228881836, -0.5965999960899353, -7.292200088500977, -7.292200088500977, -7.292200088500977, -7.292200088500977, -7.292200088500977, -7.292200088500977, -7.292200088500977, -0.9444000124931335, -2.3715999126434326, -2.4307000637054443, -7.333700180053711, -7.333700180053711, -7.333700180053711, -6.493800163269043, -6.493800163269043, -6.493800163269043, -6.493800163269043, -6.493800163269043, -6.493800163269043, -6.493800163269043, -6.493800163269043, -6.493800163269043, -6.493800163269043, -6.493800163269043, -6.493800163269043, -6.493800163269043, -6.493800163269043, -6.493800163269043, -6.493800163269043, -6.493800163269043, -6.493800163269043, -6.493800163269043, -6.493800163269043, -6.493800163269043, -6.493800163269043, -6.493800163269043, -6.493800163269043, -6.493800163269043, -6.493800163269043, -6.493800163269043, -1.0992000102996826, -1.3497999906539917, -2.6191000938415527, -1.5985000133514404, -8.50879955291748, -2.270900011062622, -6.601200103759766, -6.601200103759766, -6.601200103759766, -6.601200103759766, -6.601200103759766, -6.601200103759766, -6.601200103759766, -6.601200103759766, -0.7069000005722046, -1.7634999752044678, -2.963599920272827, -4.193600177764893, -7.802000045776367, -7.802000045776367, -6.493800163269043, -6.493800163269043, -6.493800163269043, -6.493800163269043, -6.493800163269043, -6.493800163269043, -6.493800163269043, -6.493800163269043, -6.493800163269043, -0.9217000007629395, -3.7423999309539795, -7.038099765777588, -7.038099765777588, -7.038099765777588, -7.038099765777588, -7.038099765777588, -7.038099765777588, -6.493800163269043, -6.493800163269043, -6.493800163269043, -6.493800163269043, -6.493800163269043, -6.493800163269043, -6.493800163269043, -6.493800163269043, -6.493800163269043, -6.493800163269043, -6.493800163269043, -6.493800163269043, -6.493800163269043, -6.493800163269043, -6.493800163269043, -6.493800163269043, -6.493800163269043, -6.493800163269043, -1.1620999574661255, -1.9023000001907349, -2.295300006866455, -2.5608999729156494, -2.89490008354187, -1.6246999502182007, -2.336199998855591, -2.6577000617980957, -6.941400051116943, -6.941400051116943, -6.941400051116943, -6.941400051116943, -1.6979000568389893, -0.3619999885559082, -8.605600357055664, -8.605600357055664, -8.605600357055664, -8.605600357055664, -8.605600357055664, -0.8145999908447266, -1.8918999433517456, -2.3232998847961426, -2.4133999347686768, -3.7725000381469727, -1.4255000352859497, -1.587499976158142, -1.6309000253677368, -5.64900016784668, -1.192199945449829, -6.493800163269043, -6.493800163269043, -6.493800163269043, -6.493800163269043, -6.493800163269043, -6.493800163269043, -6.493800163269043, -6.493800163269043, -6.493800163269043, -1.1169999837875366, -2.970900058746338, -3.4110000133514404, -7.019400119781494, -7.019400119781494, -7.019400119781494, -7.019400119781494, -6.493800163269043, -6.493800163269043, -6.493800163269043, -6.493800163269043, -6.493800163269043, -6.493800163269043, -6.493800163269043, -6.493800163269043, -6.493800163269043, -6.493800163269043, -6.493800163269043, -6.493800163269043, -6.493800163269043, -6.493800163269043, -6.493800163269043, -6.493800163269043, -6.493800163269043, -6.493800163269043, -0.21289999783039093, -8.143699645996094, -8.143699645996094, -8.143699645996094, -8.143699645996094, -8.143699645996094, -8.143699645996094, -8.143699645996094, -0.5354999899864197, -1.5949000120162964, -8.043399810791016, -8.043399810791016, -8.043399810791016, -8.043399810791016, -8.043399810791016, -6.493800163269043, -6.493800163269043, -6.493800163269043, -6.493800163269043, -6.493800163269043, -6.493800163269043, -6.493800163269043, -6.493800163269043, -6.493800163269043, -0.4997999966144562, -1.511299967765808, -3.675100088119507, -8.40410041809082, -8.40410041809082, -8.40410041809082, -8.40410041809082, -6.493800163269043, -6.493800163269043, -6.493800163269043, -6.493800163269043, -6.493800163269043, -6.493800163269043, -6.493800163269043, -6.493800163269043, -6.493800163269043, -1.2940000295639038, -2.293100118637085, -2.490999937057495, -7.101600170135498, -7.101600170135498, -7.101600170135498, -0.4221999943256378, -1.9111000299453735, -2.6064999103546143, -8.587200164794922, -8.587200164794922, -8.587200164794922, -8.587200164794922], \"loglift\": [5.0, 4.0, 3.0, 2.0, 1.0, 3.4142, 3.2819, 3.0819, -0.0248, -0.0248, -0.0248, -0.0248, 1.8989, 1.6745, -1.5297, -1.5297, -1.5297, -1.5297, -1.5297, 1.2162, 1.2162, 1.2162, 1.2162, 1.2162, 1.2162, 1.2162, 1.2162, 1.2162, 4.2314, 4.1279, 3.9747, 0.6918, 0.6918, 0.6918, 0.6918, 1.2162, 1.2162, 1.2162, 1.2162, 1.2162, 1.2162, 1.2162, 1.2162, 1.2162, 1.2162, 1.2162, 1.2162, 1.2162, 1.2162, 1.2162, 1.2162, 1.2162, 1.2162, 1.2162, 1.2162, 1.2162, 1.2162, 1.2162, 1.2162, 1.2162, 1.2162, 1.2162, 1.2162, 1.2162, 1.2162, 1.2162, 1.2162, 1.2162, 1.2162, 1.2162, 1.2162, 1.2162, 1.2162, 1.2162, 1.2162, 1.2162, 1.2162, 1.2162, 1.2162, 1.2162, 1.2162, 1.2162, 1.2162, 1.2162, 1.2162, 1.2162, 1.2162, 1.2162, 1.2162, 3.2105, 3.2024, 3.1701, 2.8731, -0.2676, -0.2676, 3.8565, 3.8535, 3.0703, 0.1589, 0.1589, 0.1589, 4.0823, 3.8196, 0.5125, 0.5125, 0.5125, 0.5125, 0.5125, 3.7416, 3.6355, 0.0542, 0.0542, 0.0542, 0.0542, 0.0542, 0.0542, 1.2162, 1.2162, 1.2162, 1.2162, 1.2162, 1.2162, 1.2162, 1.2162, 1.2162, 3.4965, 3.4706, 3.4315, 3.3269, 3.2978, 1.2162, 1.2162, 1.2162, 1.2162, 1.2162, 1.2162, 1.2162, 1.2162, 1.2162, 3.8172, 3.7378, 3.7301, 3.7055, 3.5642, 1.2162, 1.2162, 1.2162, 1.2162, 1.2162, 1.2162, 1.2162, 1.2162, 1.2162, 1.2162, 1.2162, 1.2162, 1.2162, 1.2162, 1.2162, 1.2162, 1.2162, 1.2162, 1.2162, 1.2162, 1.2162, 1.2162, 1.2162, 1.2162, 1.2162, 1.2162, 1.2162, 4.2281, 4.1853, 0.8875, 0.8875, 0.8875, 0.8875, 0.8875, 0.8875, 4.3822, 0.4177, 0.4177, 0.4177, 0.4177, 0.4177, 0.4177, 0.4177, 4.0444, 3.8592, 3.8458, 0.3763, 0.3763, 0.3763, 1.2162, 1.2162, 1.2162, 1.2162, 1.2162, 1.2162, 1.2162, 1.2162, 1.2162, 1.2162, 1.2162, 1.2162, 1.2162, 1.2162, 1.2162, 1.2162, 1.2162, 1.2162, 1.2162, 1.2162, 1.2162, 1.2162, 1.2162, 1.2162, 1.2162, 1.2162, 1.2162, 2.8447, 2.8383, 2.7673, 1.3616, -0.7988, 4.5691, 1.1088, 1.1088, 1.1088, 1.1088, 1.1088, 1.1088, 1.1088, 1.1088, 3.4815, 3.429, 3.2617, 2.8341, -0.0921, -0.0921, 1.2162, 1.2162, 1.2162, 1.2162, 1.2162, 1.2162, 1.2162, 1.2162, 1.2162, 4.3537, 3.4985, 0.6719, 0.6719, 0.6719, 0.6719, 0.6719, 0.6719, 1.2162, 1.2162, 1.2162, 1.2162, 1.2162, 1.2162, 1.2162, 1.2162, 1.2162, 1.2162, 1.2162, 1.2162, 1.2162, 1.2162, 1.2162, 1.2162, 1.2162, 1.2162, 3.5018, 3.4523, 3.4089, 3.3698, 3.3068, 4.4692, 4.2853, 4.1674, 0.7685, 0.7685, 0.7685, 0.7685, 2.9181, 2.5981, -0.8957, -0.8957, -0.8957, -0.8957, -0.8957, 3.2657, 3.2168, 3.1784, 3.1684, 2.8785, 2.1027, 2.1, 2.0993, 1.4069, 0.6372, 1.2162, 1.2162, 1.2162, 1.2162, 1.2162, 1.2162, 1.2162, 1.2162, 1.2162, 4.2908, 3.8685, 3.6649, 0.6905, 0.6905, 0.6905, 0.6905, 1.2162, 1.2162, 1.2162, 1.2162, 1.2162, 1.2162, 1.2162, 1.2162, 1.2162, 1.2162, 1.2162, 1.2162, 1.2162, 1.2162, 1.2162, 1.2162, 1.2162, 1.2162, 3.6203, -0.4337, -0.4337, -0.4337, -0.4337, -0.4337, -0.4337, -0.4337, 3.903, 1.3652, -0.3334, -0.3334, -0.3334, -0.3334, -0.3334, 1.2162, 1.2162, 1.2162, 1.2162, 1.2162, 1.2162, 1.2162, 1.2162, 1.2162, 3.0924, 3.0649, 2.7812, -0.6941, -0.6941, -0.6941, -0.6941, 1.2162, 1.2162, 1.2162, 1.2162, 1.2162, 1.2162, 1.2162, 1.2162, 1.2162, 4.186, 4.0206, 3.9691, 0.6084, 0.6084, 0.6084, 2.9105, 2.8692, 2.8181, -0.8772, -0.8772, -0.8772, -0.8772]}, \"token.table\": {\"Topic\": [1, 45, 47, 24, 2, 18, 38, 11, 16, 35, 38, 12, 4, 47, 11, 37, 16, 35, 41, 18, 2, 39, 49, 12, 32, 30, 30, 24, 16, 41, 4, 18, 39, 11, 16, 32, 35, 30, 41, 13, 14, 50, 44, 39, 1, 28, 38, 36, 4, 39, 14, 35, 24, 28, 37, 45, 38, 12, 22, 18, 49, 38, 13, 1, 50, 22, 36, 16, 28, 35, 18, 30, 49, 47, 11, 23, 29, 50, 28, 39, 36], \"Freq\": [0.5747664382135963, 0.9554120690971788, 0.7985306183457807, 0.6671069838330345, 0.9489291973349138, 0.5963811494317965, 0.9222724903666929, 0.9479195215897244, 0.9389365180915986, 0.7868652677832854, 0.8991699548370022, 0.9091135024871496, 0.8503894187984635, 0.9867369747956221, 0.9608499617864554, 0.971970167942068, 0.8492916051467981, 0.8845261226627037, 0.7808915678974468, 0.8905199190979053, 0.7709022006474198, 0.22658274140650514, 0.9024295524873659, 0.5473590354943325, 0.5833436385022086, 0.8450744727877947, 0.9025228366402874, 0.9202889775156503, 0.8489141402966516, 0.9327988967256187, 0.6364675080419101, 0.8601374696728024, 0.9825026497755868, 0.5946454239381934, 0.76180582465922, 0.8988875709510202, 0.8782734831165737, 0.964509174500564, 0.49462177110267797, 0.7953958439792835, 0.8710085951611309, 0.9837780843410192, 0.9852433343413098, 0.4847881200506885, 0.8270146063884762, 0.9711353540796758, 0.6467481259138556, 0.6279665514150772, 0.920167664053184, 0.9759694660476186, 0.9746104812723293, 0.8254017632377083, 0.8497772022130632, 0.2178554071278613, 0.6939098152961508, 0.07261846904262043, 0.9646741813470348, 0.9494809717998193, 0.8671239110754335, 0.7887482492899031, 0.8015748914884206, 0.8880972039788084, 0.968877059461152, 0.9744836730448163, 0.8537562632897736, 0.7370571836300505, 0.7410528949148709, 0.9315656670901874, 0.9642686973148391, 0.9753615073138434, 0.8532894864845934, 0.47130430755797986, 0.6923735692576158, 0.9747098552926996, 0.9583931516301035, 0.9111952193972387, 0.7813042251114075, 0.9463822562532926, 0.9130907017681125, 0.9852681134584024, 0.769778487332708], \"Term\": [\"abide\", \"abstraction\", \"academia\", \"agency\", \"application\", \"area\", \"barrier\", \"capability\", \"challenge\", \"cloud\", \"competitor\", \"cooperation\", \"critical\", \"customer\", \"datum\", \"deal\", \"desire\", \"device\", \"easy\", \"economy\", \"ecosystem\", \"ecosystem\", \"edge\", \"establish\", \"freedom\", \"generic\", \"governance\", \"government\", \"harness\", \"idea\", \"independently\", \"initiative\", \"innovation\", \"join\", \"lead\", \"leader\", \"location\", \"machine\", \"manner\", \"merchandise\", \"mind\", \"mindset\", \"model\", \"modern\", \"offer\", \"opportunity\", \"oppose\", \"organisation\", \"participant\", \"platform\", \"player\", \"point\", \"policy\", \"problem\", \"problem\", \"problem\", \"product\", \"proposition\", \"quality\", \"regional\", \"rely\", \"resource\", \"role\", \"rule\", \"shift\", \"side\", \"single\", \"skill\", \"solution\", \"standard\", \"step\", \"supermodular\", \"tech\", \"technology\", \"thing\", \"today\", \"tool\", \"traditional\", \"transformation\", \"type\", \"vacuum\"]}, \"R\": 5, \"lambda.step\": 0.01, \"plot.opts\": {\"xlab\": \"PC1\", \"ylab\": \"PC2\"}, \"topic.order\": [1, 2, 3, 4, 5, 6, 7, 8, 9, 10, 11, 12, 13, 14, 15, 16, 17, 18, 19, 20, 21, 22, 23, 24, 25, 26, 27, 28, 29, 30, 31, 32, 33, 34, 35, 36, 37, 38, 39, 40, 41, 42, 43, 44, 45, 46, 47, 48, 49, 50]};\n\nfunction LDAvis_load_lib(url, callback){\n  var s = document.createElement('script');\n  s.src = url;\n  s.async = true;\n  s.onreadystatechange = s.onload = callback;\n  s.onerror = function(){console.warn(\"failed to load library \" + url);};\n  document.getElementsByTagName(\"head\")[0].appendChild(s);\n}\n\nif(typeof(LDAvis) !== \"undefined\"){\n   // already loaded: just create the visualization\n   !function(LDAvis){\n       new LDAvis(\"#\" + \"ldavis_el1602822445559087046166980223\", ldavis_el1602822445559087046166980223_data);\n   }(LDAvis);\n}else if(typeof define === \"function\" && define.amd){\n   // require.js is available: use it to load d3/LDAvis\n   require.config({paths: {d3: \"https://cdnjs.cloudflare.com/ajax/libs/d3/3.5.5/d3.min\"}});\n   require([\"d3\"], function(d3){\n      window.d3 = d3;\n      LDAvis_load_lib(\"https://cdn.rawgit.com/bmabey/pyLDAvis/files/ldavis.v1.0.0.js\", function(){\n        new LDAvis(\"#\" + \"ldavis_el1602822445559087046166980223\", ldavis_el1602822445559087046166980223_data);\n      });\n    });\n}else{\n    // require.js not available: dynamically load d3 & LDAvis\n    LDAvis_load_lib(\"https://cdnjs.cloudflare.com/ajax/libs/d3/3.5.5/d3.min.js\", function(){\n         LDAvis_load_lib(\"https://cdn.rawgit.com/bmabey/pyLDAvis/files/ldavis.v1.0.0.js\", function(){\n                 new LDAvis(\"#\" + \"ldavis_el1602822445559087046166980223\", ldavis_el1602822445559087046166980223_data);\n            })\n         });\n}\n</script>",
          "text/plain": "PreparedData(topic_coordinates=                x           y  topics  cluster       Freq\ntopic                                                    \n0      -26.567150 -100.022270       1        1   3.217963\n1       86.342934  -92.916039       2        1  14.426908\n2      -28.869139    5.060335       3        1   0.452635\n3       62.727760  -32.538300       4        1   1.253425\n4      -10.301779   46.578323       5        1   0.449308\n5       23.816933   -9.397311       6        1   0.449308\n6      -33.597858  -33.021229       7        1   0.449308\n7       14.100673   47.754681       8        1   0.449308\n8      -14.564822  -51.074570       9        1   0.449308\n9        1.296523   27.038355      10        1   0.449308\n10     -66.939629   81.652039      11        1   3.904009\n11      83.893089   -7.525626      12        1   1.979882\n12      37.137363  -69.805237      13        1   1.586471\n13     110.792961   14.566046      14        1   2.293629\n14      34.994030    9.987845      15        1   0.449308\n15     -81.265938  -72.343689      16        1   2.874745\n16      -8.057549    6.971771      17        1   0.449308\n17     -68.279938   41.588444      18        1   1.955615\n18      33.971947  -34.642086      19        1   0.449308\n19       1.368437  -10.327748      20        1   0.449308\n20      -8.089694  -30.182148      21        1   0.449308\n21     -32.635479   65.016182      22        1   1.178133\n22      65.647415   72.037865      23        1   1.169785\n23       6.303814  -83.899155      24        1   1.639569\n24      45.126694  -11.868887      25        1   0.449308\n25     -46.882484   16.239746      26        1   0.449308\n26     -20.364132  -13.447696      27        1   0.449308\n27    -114.052803   37.659389      28        1   5.683777\n28      57.876274   10.841608      29        1   0.610449\n29     -43.571819  -65.796242      30        1   2.987686\n30      41.340038   36.414318      31        1   0.449308\n31      32.307186   69.557205      32        1   1.175861\n32      22.004313   26.915125      33        1   0.452573\n33     -44.931633  -11.779679      34        1   0.449308\n34      72.297180  -61.294777      35        1   2.875058\n35      -0.919765   75.252197      36        1   0.922522\n36    -118.733643   17.202108      37        1   5.164084\n37      30.017441  108.165634      38        1   3.718081\n38     113.511055   52.133591      39        1  12.030438\n39     -19.463131   24.566326      40        1   0.449308\n40     -71.917656    1.532726      41        1   1.235822\n41      10.972694  -49.192162      42        1   0.449308\n42     -35.880337   37.950027      43        1   0.449308\n43     110.566742  -38.227592      44        1   2.623005\n44    -111.824913   -3.062865      45        1   1.942675\n45      13.399372  -27.276087      46        1   0.449308\n46     -23.955095  106.499962      47        1   4.467131\n47      12.521507    7.972313      48        1   0.452606\n48      72.221161   37.005093      49        1   1.361271\n49     -72.529419  -35.001461      50        1   5.378028, topic_info=          Term        Freq       Total Category  logprob  loglift\n1    ecosystem  383.000000  383.000000  Default   5.0000   5.0000\n17     problem  123.000000  123.000000  Default   4.0000   4.0000\n3      mindset   85.000000   85.000000  Default   3.0000   3.0000\n20    customer   65.000000   65.000000  Default   2.0000   2.0000\n6        model   51.000000   51.000000  Default   1.0000   1.0000\n..         ...         ...         ...      ...      ...      ...\n40       shift    9.493218   10.541650  Topic50  -2.6065   2.8181\n270     theory    0.023989    1.072421  Topic50  -8.5872  -0.8772\n277    ongoing    0.023989    1.072421  Topic50  -8.5872  -0.8772\n660      wheel    0.023989    1.072421  Topic50  -8.5872  -0.8772\n217   abstract    0.023989    1.072421  Topic50  -8.5872  -0.8772\n\n[391 rows x 6 columns], token_table=      Topic      Freq            Term\nterm                                 \n77        1  0.574766           abide\n38       45  0.955412     abstraction\n31       47  0.798531        academia\n145      24  0.667107          agency\n14        2  0.948929     application\n...     ...       ...             ...\n24       29  0.781304            tool\n7        50  0.946382     traditional\n36       28  0.913091  transformation\n5        39  0.985268            type\n139      36  0.769778          vacuum\n\n[81 rows x 3 columns], R=5, lambda_step=0.01, plot_opts={'xlab': 'PC1', 'ylab': 'PC2'}, topic_order=[1, 2, 3, 4, 5, 6, 7, 8, 9, 10, 11, 12, 13, 14, 15, 16, 17, 18, 19, 20, 21, 22, 23, 24, 25, 26, 27, 28, 29, 30, 31, 32, 33, 34, 35, 36, 37, 38, 39, 40, 41, 42, 43, 44, 45, 46, 47, 48, 49, 50])"
         },
         "metadata": {},
         "output_type": "display_data"
        },
        {
         "data": {
          "application/vnd.jupyter.widget-view+json": {
           "model_id": "b08b8400948c4693b55f910b04d81b4d",
           "version_major": 2,
           "version_minor": 0
          },
          "text/plain": "interactive(children=(Dropdown(description='Topic', options=('ALL', 2.0, 28.0, 37.0, 39.0, 45.0), value='ALL')…"
         },
         "metadata": {},
         "output_type": "display_data"
        },
        {
         "data": {
          "text/plain": "<gensim.models.ldamodel.LdaModel at 0x20a99fad490>"
         },
         "metadata": {},
         "output_type": "display_data"
        }
       ]
      }
     },
     "e5380f48603844e188af41a9e1804b7d": {
      "model_module": "@jupyter-widgets/base",
      "model_module_version": "1.2.0",
      "model_name": "LayoutModel",
      "state": {}
     },
     "e6ba0a8d34df4ac88b77e7bff7b1244f": {
      "model_module": "@jupyter-widgets/controls",
      "model_module_version": "1.5.0",
      "model_name": "DropdownModel",
      "state": {
       "_options_labels": [
        "ALL",
        "1.0",
        "2.0",
        "3.0",
        "4.0",
        "5.0",
        "6.0",
        "7.0",
        "8.0",
        "9.0",
        "10.0",
        "11.0"
       ],
       "description": "Topic",
       "index": 0,
       "layout": "IPY_MODEL_66dde81078df48fea610188897309b5e",
       "style": "IPY_MODEL_fba55d739c9f43158150b2b26300c25f"
      }
     },
     "e6c02003bd3547b4b15b8b72fb519a73": {
      "model_module": "@jupyter-widgets/base",
      "model_module_version": "1.2.0",
      "model_name": "LayoutModel",
      "state": {}
     },
     "e7b0112a02eb403e90a7201f9f93d770": {
      "model_module": "@jupyter-widgets/base",
      "model_module_version": "1.2.0",
      "model_name": "LayoutModel",
      "state": {}
     },
     "e8d6131fb5e544b5b15d656b678c66c4": {
      "model_module": "@jupyter-widgets/controls",
      "model_module_version": "1.5.0",
      "model_name": "DropdownModel",
      "state": {
       "_options_labels": [
        "ALL",
        "1.0",
        "2.0"
       ],
       "description": "Topic",
       "index": 0,
       "layout": "IPY_MODEL_b5699e3d7fa543e0ae1566ee2b1d3cd2",
       "style": "IPY_MODEL_822c88c28d804cbab8321207b43ea7fd"
      }
     },
     "ec219cef97ef4123af16c342886b2556": {
      "model_module": "@jupyter-widgets/base",
      "model_module_version": "1.2.0",
      "model_name": "LayoutModel",
      "state": {}
     },
     "efb31861762e4cbe91e7101bc709cf00": {
      "model_module": "@jupyter-widgets/output",
      "model_module_version": "1.0.0",
      "model_name": "OutputModel",
      "state": {
       "layout": "IPY_MODEL_e7b0112a02eb403e90a7201f9f93d770",
       "outputs": [
        {
         "data": {
          "text/html": "\n<link rel=\"stylesheet\" type=\"text/css\" href=\"https://cdn.rawgit.com/bmabey/pyLDAvis/files/ldavis.v1.0.0.css\">\n\n\n<div id=\"ldavis_el1602822445591527364474987202\"></div>\n<script type=\"text/javascript\">\n\nvar ldavis_el1602822445591527364474987202_data = {\"mdsDat\": {\"x\": [-31.05831527709961, -21.461353302001953, -6.0965752601623535, 56.07160949707031, 61.3511848449707, 17.821401596069336, 49.25086212158203, -13.172926902770996, 31.702733993530273, 14.36162281036377, 29.18404769897461, 19.28497886657715, 4.356015682220459, -12.70865535736084, -46.88460922241211, -28.76482582092285, 62.600399017333984, -43.313934326171875, 44.92900085449219, 81.611572265625, 0.7982176542282104, 2.0514187812805176, 27.693496704101562, 40.47024917602539, 76.76665496826172], \"y\": [29.500682830810547, -17.436399459838867, -39.14169692993164, -9.400821685791016, -56.833744049072266, 57.41360855102539, 50.35530471801758, 53.618751525878906, -64.52069091796875, 7.507675647735596, -13.613248825073242, -39.02389144897461, -15.153996467590332, 6.676149368286133, -28.26009750366211, -54.799591064453125, 25.23849105834961, 3.2241854667663574, -34.219783782958984, 3.9219412803649902, 29.44770622253418, -67.21559143066406, 31.413803100585938, 9.942824363708496, -28.811687469482422], \"topics\": [1, 2, 3, 4, 5, 6, 7, 8, 9, 10, 11, 12, 13, 14, 15, 16, 17, 18, 19, 20, 21, 22, 23, 24, 25], \"cluster\": [1, 1, 1, 1, 1, 1, 1, 1, 1, 1, 1, 1, 1, 1, 1, 1, 1, 1, 1, 1, 1, 1, 1, 1, 1], \"Freq\": [5.506079931999895, 2.8313494302203575, 5.892422785731006, 5.151750122128581, 4.3051579250889604, 0.9849374124771052, 0.6150723926840307, 3.9618912126335877, 0.6265590394709766, 2.0675023503800176, 2.4755366605605187, 4.356534202092878, 13.534334785151147, 2.0804659342340845, 1.5426512784138167, 4.901483519705539, 2.0041848226813666, 4.84177336556907, 2.4322180493925982, 4.868670969595396, 18.738273791637955, 2.724473911918537, 2.3333890640009955, 0.6116435211157897, 0.6116435211157897]}, \"tinfo\": {\"Term\": [\"ecosystem\", \"problem\", \"mindset\", \"model\", \"customer\", \"customer\", \"thing\", \"proposition\", \"stakeholder\", \"bit\", \"skill\", \"challenge\", \"harness\", \"desire\", \"merchandise\", \"shift\", \"step\", \"problem\", \"mentality\", \"complexity\", \"mindset\", \"hierarchical\", \"agency\", \"abide\", \"city\", \"machine\", \"standard\", \"role\", \"setting\", \"flow\", \"competitor\", \"collaborator\", \"capabilitie\", \"investor\", \"supplier\", \"note\", \"covid\", \"understandable\", \"sector\", \"loss\", \"wheel\", \"engage\", \"exchange\", \"degree\", \"set\", \"opportunity\", \"capability\", \"offer\", \"join\", \"hypothesis\", \"note\", \"covid\", \"understandable\", \"sector\", \"loss\", \"wheel\", \"engage\", \"exchange\", \"degree\", \"set\", \"abstraction\", \"area\", \"assumption\", \"true\", \"conglomerate\", \"problem\", \"player\", \"mind\", \"benefit\", \"attractive\", \"investor\", \"supplier\", \"solution\", \"cooperation\", \"transformation\", \"establish\", \"problem\", \"application\", \"critical\", \"ecosystem\", \"university\", \"construct\", \"supplier\", \"single\", \"initiative\", \"economy\", \"regional\", \"organisation\", \"price\", \"improvement\", \"tool\", \"hierarchy\", \"requirement\", \"model\", \"traditional\", \"side\", \"quality\", \"chain\", \"technology\", \"participate\", \"drive\", \"route\", \"collector\", \"community\", \"deal\", \"edge\", \"participant\", \"tech\", \"rule\", \"set\", \"print\", \"earn\", \"orchestrator\", \"play\", \"ordination\", \"product\", \"service\", \"idea\", \"lead\", \"partner\", \"innovation\", \"type\", \"platform\", \"datum\", \"leader\", \"ecosystem\", \"help\", \"government\", \"academia\", \"implication\", \"lateral\", \"today\", \"governance\", \"generic\", \"supermodular\", \"competition\", \"country\", \"note\", \"covid\", \"understandable\", \"sector\", \"loss\", \"wheel\", \"engage\", \"exchange\", \"degree\", \"set\", \"note\", \"covid\", \"understandable\", \"sector\", \"loss\", \"wheel\", \"engage\", \"exchange\", \"degree\", \"set\"], \"Freq\": [367.0, 118.0, 82.0, 63.0, 64.0, 63.76021822248618, 23.01427593787666, 13.967775023251985, 0.047058402232208314, 0.04705740945088071, 16.18406832045631, 10.712435221447635, 7.0189231241710495, 3.081215038911817, 2.0776719236721397, 8.497277149695424, 5.17324817101492, 99.08963417972382, 0.04283800266046892, 0.04283800266046892, 81.46030244253753, 6.486534219574416, 3.142948343754233, 1.7026656534012017, 0.0463293439143267, 31.987838712746118, 19.303372868199197, 15.422149333508758, 1.4447101423215187, 0.05300318159171317, 6.790296510357899, 0.025408504608942596, 0.025408326332767944, 0.025408323590057562, 0.025408323590057562, 0.022257992854242167, 0.022257992854242167, 0.022257992854242167, 0.022257992854242167, 0.022257992854242167, 0.022257992854242167, 0.022257992854242167, 0.022257992854242167, 0.022257992854242167, 0.022257992854242167, 42.84860153481871, 11.13549893360558, 4.813149896098754, 1.9056871770485764, 0.051852586704358175, 0.02267366701738801, 0.02267366701738801, 0.02267366701738801, 0.02267366701738801, 0.02267366701738801, 0.02267366701738801, 0.02267366701738801, 0.02267366701738801, 0.02267366701738801, 0.02267366701738801, 27.15209003294504, 1.0097198173579192, 0.029782439474151736, 0.029782439474151736, 0.029782197668404977, 1.6963366772179367, 25.310393706663618, 5.7680599262098005, 0.04269625239190602, 0.042696073160535385, 0.042695983544850075, 0.042695983544850075, 31.069266304886195, 15.016294076823089, 8.748724263692168, 0.7803573187550578, 16.911403191877735, 24.41662316375709, 4.091657296700944, 256.0029845890461, 0.05962101103258889, 0.059620817879303095, 0.05962080374613584, 4.901743494541303, 3.3224739989573076, 3.1854792221603545, 2.8101350165121843, 2.418511509167724, 10.33105054780925, 3.9250246148797974, 1.2511695169679093, 0.03251305788313479, 0.03251257890692112, 62.15735296780506, 17.741715161691687, 3.214267038648722, 2.6217325702647925, 2.199757197167368, 18.542867616073153, 2.551373770439009, 2.100298256338594, 0.03760781918180101, 0.03760781918180101, 32.23657871188449, 25.23019165137297, 8.41409128193325, 6.185680576592308, 3.1141724544202942, 29.655210737334464, 0.043217838657369355, 0.04321774722339634, 0.04321767610808399, 0.04321768288097088, 0.04321769642674466, 0.04321769642674466, 37.684561330445575, 28.224192992815357, 8.820886779504532, 3.966113564358022, 2.757205322298392, 82.26803891918875, 69.96792205572783, 66.99194394783932, 21.301979270025765, 12.394021808783894, 110.26384501278925, 21.974083057224718, 12.110443958249178, 2.318508453043112, 2.0851672120653597, 0.04061199615248336, 16.683839176463906, 8.658417639158467, 2.6219832333374264, 0.7809546178830841, 0.041202069953536535, 0.04120208294890116, 0.02213391022629169, 0.02213391022629169, 0.02213391022629169, 0.02213391022629169, 0.02213391022629169, 0.02213391022629169, 0.02213391022629169, 0.02213391022629169, 0.02213391022629169, 0.02213391022629169, 0.02213391022629169, 0.02213391022629169, 0.02213391022629169, 0.02213391022629169, 0.02213391022629169, 0.02213391022629169, 0.02213391022629169, 0.02213391022629169, 0.02213391022629169, 0.02213391022629169], \"Total\": [367.0, 118.0, 82.0, 63.0, 64.0, 64.73283933379662, 23.9868970491871, 14.940396134562418, 1.019682505847885, 1.0196787940025498, 17.160918216387397, 11.689285117378718, 7.995773020102135, 4.058064934842903, 3.054521819603226, 9.474117911088936, 6.1500889324084325, 118.59613678246663, 1.0196787847096014, 1.0196792154641825, 82.43365210299176, 7.459883880028658, 4.116298004208476, 2.6760153138554448, 1.019682385306516, 32.95451580328971, 20.27004995874278, 16.388826424052343, 2.411387232865101, 1.0196819681744707, 7.784565824489555, 1.0196779999867085, 1.019677718945818, 1.0196794027320746, 1.0196808499142376, 1.019677508814326, 1.019677508814326, 1.019677508814326, 1.019677508814326, 1.019677508814326, 1.0196775341810012, 1.0196776642791656, 1.019677649168618, 1.0196785011652632, 1.019678242934293, 43.81642901095201, 12.10332640973886, 5.780977372232036, 2.8735146531818594, 1.0196809411523309, 1.019677508814326, 1.019677508814326, 1.019677508814326, 1.019677508814326, 1.019677508814326, 1.0196775341810012, 1.0196776642791656, 1.019677649168618, 1.0196785011652632, 1.019678242934293, 28.141985617561744, 1.999615401974625, 1.019678887395893, 1.019678887395893, 1.0196779053478222, 118.59613678246663, 26.287375648990707, 6.745041868536889, 1.0196800135351844, 1.0196780154876237, 1.0196794027320746, 1.0196808499142376, 32.04064771015179, 15.987675482088672, 9.720105668957752, 1.7517387240206428, 118.59613678246663, 25.376680448285143, 5.0517145812289925, 367.1723141756963, 1.019679754668716, 1.0196792392720035, 1.0196808499142376, 5.873533493366632, 4.294263997782638, 4.157269220985683, 3.7819250153375132, 3.390301507993053, 11.318215939509862, 4.912190006580413, 2.2383349086685245, 1.0196811670102897, 1.0196814503563327, 63.13235268431535, 18.716714878201977, 4.189266755159009, 3.5967322867750786, 3.1747569136776543, 19.524937905659122, 3.533444060024975, 3.08236854592456, 1.019678667213632, 1.019678667213632, 33.20584551039558, 26.199458449884048, 9.383358080444324, 7.154947375103386, 4.083439252931371, 30.631670912071495, 1.019678242934293, 1.0196779219604262, 1.0196778508451139, 1.0196780539961885, 1.0196786532553084, 1.0196786592388232, 38.65616106835375, 29.19579273072352, 9.792486517412694, 4.937713302266188, 3.728805060206557, 83.23314220571609, 70.93302534225516, 67.95704723436666, 22.26708255655312, 13.359125095311246, 367.1723141756963, 22.953149908942372, 13.089510809966832, 3.297575304760768, 3.064234063783015, 1.0196790127570903, 17.66231506041593, 9.636893523110492, 3.6004591172894544, 1.7594305018351117, 1.0196781753251847, 1.0196797086860734, 1.019677508814326, 1.019677508814326, 1.019677508814326, 1.019677508814326, 1.019677508814326, 1.0196775341810012, 1.0196776642791656, 1.019677649168618, 1.0196785011652632, 1.019678242934293, 1.019677508814326, 1.019677508814326, 1.019677508814326, 1.019677508814326, 1.019677508814326, 1.0196775341810012, 1.0196776642791656, 1.019677649168618, 1.0196785011652632, 1.019678242934293], \"Category\": [\"Default\", \"Default\", \"Default\", \"Default\", \"Default\", \"Topic1\", \"Topic1\", \"Topic1\", \"Topic1\", \"Topic1\", \"Topic2\", \"Topic2\", \"Topic2\", \"Topic2\", \"Topic2\", \"Topic3\", \"Topic3\", \"Topic3\", \"Topic3\", \"Topic3\", \"Topic4\", \"Topic4\", \"Topic4\", \"Topic4\", \"Topic4\", \"Topic5\", \"Topic5\", \"Topic5\", \"Topic5\", \"Topic5\", \"Topic6\", \"Topic6\", \"Topic6\", \"Topic6\", \"Topic6\", \"Topic7\", \"Topic7\", \"Topic7\", \"Topic7\", \"Topic7\", \"Topic7\", \"Topic7\", \"Topic7\", \"Topic7\", \"Topic7\", \"Topic8\", \"Topic8\", \"Topic8\", \"Topic8\", \"Topic8\", \"Topic9\", \"Topic9\", \"Topic9\", \"Topic9\", \"Topic9\", \"Topic9\", \"Topic9\", \"Topic9\", \"Topic9\", \"Topic9\", \"Topic10\", \"Topic10\", \"Topic10\", \"Topic10\", \"Topic10\", \"Topic10\", \"Topic11\", \"Topic11\", \"Topic11\", \"Topic11\", \"Topic11\", \"Topic11\", \"Topic12\", \"Topic12\", \"Topic12\", \"Topic12\", \"Topic12\", \"Topic13\", \"Topic13\", \"Topic13\", \"Topic13\", \"Topic13\", \"Topic13\", \"Topic14\", \"Topic14\", \"Topic14\", \"Topic14\", \"Topic14\", \"Topic15\", \"Topic15\", \"Topic15\", \"Topic15\", \"Topic15\", \"Topic16\", \"Topic16\", \"Topic16\", \"Topic16\", \"Topic16\", \"Topic17\", \"Topic17\", \"Topic17\", \"Topic17\", \"Topic17\", \"Topic18\", \"Topic18\", \"Topic18\", \"Topic18\", \"Topic18\", \"Topic19\", \"Topic19\", \"Topic19\", \"Topic19\", \"Topic19\", \"Topic19\", \"Topic19\", \"Topic20\", \"Topic20\", \"Topic20\", \"Topic20\", \"Topic20\", \"Topic21\", \"Topic21\", \"Topic21\", \"Topic21\", \"Topic21\", \"Topic21\", \"Topic22\", \"Topic22\", \"Topic22\", \"Topic22\", \"Topic22\", \"Topic23\", \"Topic23\", \"Topic23\", \"Topic23\", \"Topic23\", \"Topic23\", \"Topic24\", \"Topic24\", \"Topic24\", \"Topic24\", \"Topic24\", \"Topic24\", \"Topic24\", \"Topic24\", \"Topic24\", \"Topic24\", \"Topic25\", \"Topic25\", \"Topic25\", \"Topic25\", \"Topic25\", \"Topic25\", \"Topic25\", \"Topic25\", \"Topic25\", \"Topic25\"], \"logprob\": [5.0, 4.0, 3.0, 2.0, 1.0, -0.7253999710083008, -1.7445000410079956, -2.243799924850464, -7.9369001388549805, -7.936999797821045, -1.431399941444397, -1.844099998474121, -2.266900062561035, -3.090100049972534, -3.4842000007629395, -2.8085999488830566, -3.3048999309539795, -0.352400004863739, -8.098699569702148, -8.098699569702148, -0.4138999879360199, -2.9442999362945557, -3.6689000129699707, -4.281899929046631, -7.886000156402588, -1.1691999435424805, -1.6742000579833984, -1.8986999988555908, -4.266600131988525, -7.571899890899658, -1.24399995803833, -6.832200050354004, -6.832200050354004, -6.832200050354004, -6.832200050354004, -6.493800163269043, -6.493800163269043, -6.493800163269043, -6.493800163269043, -6.493800163269043, -6.493800163269043, -6.493800163269043, -6.493800163269043, -6.493800163269043, -6.493800163269043, -0.7937999963760376, -2.1412999629974365, -2.98009991645813, -3.906599998474121, -7.510799884796143, -6.493800163269043, -6.493800163269043, -6.493800163269043, -6.493800163269043, -6.493800163269043, -6.493800163269043, -6.493800163269043, -6.493800163269043, -6.493800163269043, -6.493800163269043, -0.5996000170707703, -3.891400098800659, -7.414899826049805, -7.414899826049805, -7.414899826049805, -3.3726000785827637, -0.8500000238418579, -2.3287999629974365, -7.234799861907959, -7.234799861907959, -7.234799861907959, -7.234799861907959, -1.2101999521255493, -1.9372999668121338, -2.4774999618530273, -4.894400119781494, -1.8184000253677368, -2.584700107574463, -4.370999813079834, -0.23479999601840973, -8.599699974060059, -8.599699974060059, -8.599699974060059, -2.317699909210205, -2.7065999507904053, -2.748699903488159, -2.8740999698638916, -3.024199962615967, -1.2731000185012817, -2.240799903869629, -3.3840999603271484, -7.034299850463867, -7.034299850463867, -0.6345999836921692, -1.8882999420166016, -3.5966999530792236, -3.8004000186920166, -3.9758999347686768, -0.9498999714851379, -2.933300018310547, -3.1278998851776123, -7.1504998207092285, -7.1504998207092285, -1.2789000272750854, -1.5240000486373901, -2.6221001148223877, -2.929800033569336, -3.615999937057495, -0.6739000082015991, -7.204999923706055, -7.204999923706055, -7.204999923706055, -7.204999923706055, -7.204999923706055, -7.204999923706055, -1.1282999515533447, -1.4174000024795532, -2.580399990081787, -3.379699945449829, -3.743299961090088, -1.6952999830245972, -1.857200026512146, -1.9006999731063843, -3.0464999675750732, -3.588099956512451, -1.402400016784668, -1.0871000289916992, -1.6828999519348145, -3.3361001014709473, -3.4421000480651855, -7.38070011138916, -1.2075999975204468, -1.8634999990463257, -3.0580999851226807, -4.2692999839782715, -7.211299896240234, -7.211299896240234, -6.493800163269043, -6.493800163269043, -6.493800163269043, -6.493800163269043, -6.493800163269043, -6.493800163269043, -6.493800163269043, -6.493800163269043, -6.493800163269043, -6.493800163269043, -6.493800163269043, -6.493800163269043, -6.493800163269043, -6.493800163269043, -6.493800163269043, -6.493800163269043, -6.493800163269043, -6.493800163269043, -6.493800163269043, -6.493800163269043], \"loglift\": [5.0, 4.0, 3.0, 2.0, 1.0, 2.8842, 2.8579, 2.832, -0.1765, -0.1766, 3.5058, 3.4771, 3.4341, 3.289, 3.179, 2.7227, 2.6585, 2.6518, -0.3383, -0.3383, 2.954, 2.826, 2.696, 2.5137, -0.1256, 3.1156, 3.0965, 3.0846, 2.6331, 0.1885, 4.4837, 0.9282, 0.9282, 0.9282, 0.9282, 1.2666, 1.2666, 1.2666, 1.2666, 1.2666, 1.2666, 1.2666, 1.2666, 1.2666, 1.2666, 3.2061, 3.1451, 3.0452, 2.8178, 0.2496, 1.2666, 1.2666, 1.2666, 1.2666, 1.2666, 1.2666, 1.2666, 1.2666, 1.2666, 1.2666, 3.843, 3.1955, 0.3455, 0.3455, 0.3455, -0.3684, 3.6608, 3.5422, 0.5256, 0.5256, 0.5256, 0.5256, 3.1027, 3.0708, 3.0282, 2.3249, 1.1858, 1.9614, 1.7892, 1.6393, -0.8393, -0.8393, -0.8393, 3.6917, 3.616, 3.6063, 3.5756, 3.5348, 4.0804, 3.9473, 3.59, 0.7261, 0.726, 3.0001, 2.9621, 2.7507, 2.6994, 2.6487, 3.8583, 3.5843, 3.5263, 0.6099, 0.6099, 2.9983, 2.9902, 2.9189, 2.8823, 2.7569, 3.684, 0.5554, 0.5554, 0.5554, 0.5554, 0.5554, 0.5554, 2.9969, 2.9885, 2.9179, 2.8032, 2.7205, 1.6629, 1.6609, 1.6603, 1.6303, 1.5996, 0.4716, 3.5593, 3.5252, 3.2506, 3.2179, 0.3797, 3.7009, 3.6508, 3.4407, 2.9456, 0.5491, 0.5491, 1.2666, 1.2666, 1.2666, 1.2666, 1.2666, 1.2666, 1.2666, 1.2666, 1.2666, 1.2666, 1.2666, 1.2666, 1.2666, 1.2666, 1.2666, 1.2666, 1.2666, 1.2666, 1.2666, 1.2666]}, \"token.table\": {\"Topic\": [4, 10, 22, 4, 13, 10, 8, 16, 2, 18, 6, 12, 13, 1, 21, 18, 2, 17, 14, 13, 21, 18, 12, 23, 23, 22, 2, 22, 4, 20, 22, 15, 14, 21, 8, 20, 21, 5, 2, 11, 4, 16, 8, 8, 14, 18, 17, 20, 21, 11, 15, 3, 10, 12, 20, 1, 16, 14, 5, 19, 20, 5, 3, 16, 14, 2, 12, 5, 3, 23, 18, 17, 1, 23, 15, 16, 12, 21], \"Freq\": [0.7473798784501416, 0.9594205741883011, 0.6065062402403865, 0.7288102068734624, 0.9457501759896979, 0.5000961679993551, 0.9088410596899149, 0.6299694919581071, 0.9410327397734578, 0.9636857459323519, 0.8992152109471051, 0.9382226964016636, 0.7918103716435363, 0.9886790176154994, 0.9430961575978788, 0.9542181968311121, 0.7392686041669111, 0.6488516769496484, 0.7216275493672992, 0.6972203243992438, 0.29958685814030006, 0.8525732399227783, 0.5708613883380795, 0.8332270697350675, 0.9339109100268524, 0.9167645891596469, 0.8754625703357678, 0.9584741130204952, 0.8043020637443152, 0.9190719827897114, 0.6526916542174515, 0.8143007486765709, 0.6986063273122154, 0.985184480928663, 0.6960117630809324, 0.8100915859501564, 0.8982624172156103, 0.9710353564595714, 0.6547669711063955, 0.8895422914997412, 0.9826084121421604, 0.9820638288267582, 0.8649056514243887, 0.981367057302914, 0.5899180339225741, 0.8385805912252853, 0.8490299970898069, 0.8045472883567196, 0.985916880245458, 0.9510268477850076, 0.883531472932213, 0.8347658084477863, 0.016863955726217905, 0.1433436236728522, 0.9830257053411617, 0.9370568138828027, 0.8340904356520447, 0.793246822143106, 0.9152577257140211, 0.9793785029264414, 0.959042292779906, 0.41469905221810655, 0.8444057879664384, 0.7161157728391376, 0.8512763238086288, 0.9323510431231583, 0.9675210151940197, 0.9373435210407565, 0.8129963737031609, 0.5683657291134747, 0.7346748204583662, 0.9731144903919529, 0.9588568272434994, 0.9625012316816676, 0.4467606684447641, 0.9617072289199274, 0.9259158600242907, 0.9868463901299391], \"Term\": [\"abide\", \"abstraction\", \"academia\", \"agency\", \"application\", \"area\", \"capability\", \"chain\", \"challenge\", \"community\", \"competitor\", \"cooperation\", \"critical\", \"customer\", \"datum\", \"deal\", \"desire\", \"drive\", \"economy\", \"ecosystem\", \"ecosystem\", \"edge\", \"establish\", \"generic\", \"governance\", \"government\", \"harness\", \"help\", \"hierarchical\", \"idea\", \"implication\", \"improvement\", \"initiative\", \"innovation\", \"join\", \"lead\", \"leader\", \"machine\", \"merchandise\", \"mind\", \"mindset\", \"model\", \"offer\", \"opportunity\", \"organisation\", \"participant\", \"participate\", \"partner\", \"platform\", \"player\", \"price\", \"problem\", \"problem\", \"problem\", \"product\", \"proposition\", \"quality\", \"regional\", \"role\", \"rule\", \"service\", \"setting\", \"shift\", \"side\", \"single\", \"skill\", \"solution\", \"standard\", \"step\", \"supermodular\", \"tech\", \"technology\", \"thing\", \"today\", \"tool\", \"traditional\", \"transformation\", \"type\"]}, \"R\": 5, \"lambda.step\": 0.01, \"plot.opts\": {\"xlab\": \"PC1\", \"ylab\": \"PC2\"}, \"topic.order\": [1, 2, 3, 4, 5, 6, 7, 8, 9, 10, 11, 12, 13, 14, 15, 16, 17, 18, 19, 20, 21, 22, 23, 24, 25]};\n\nfunction LDAvis_load_lib(url, callback){\n  var s = document.createElement('script');\n  s.src = url;\n  s.async = true;\n  s.onreadystatechange = s.onload = callback;\n  s.onerror = function(){console.warn(\"failed to load library \" + url);};\n  document.getElementsByTagName(\"head\")[0].appendChild(s);\n}\n\nif(typeof(LDAvis) !== \"undefined\"){\n   // already loaded: just create the visualization\n   !function(LDAvis){\n       new LDAvis(\"#\" + \"ldavis_el1602822445591527364474987202\", ldavis_el1602822445591527364474987202_data);\n   }(LDAvis);\n}else if(typeof define === \"function\" && define.amd){\n   // require.js is available: use it to load d3/LDAvis\n   require.config({paths: {d3: \"https://cdnjs.cloudflare.com/ajax/libs/d3/3.5.5/d3.min\"}});\n   require([\"d3\"], function(d3){\n      window.d3 = d3;\n      LDAvis_load_lib(\"https://cdn.rawgit.com/bmabey/pyLDAvis/files/ldavis.v1.0.0.js\", function(){\n        new LDAvis(\"#\" + \"ldavis_el1602822445591527364474987202\", ldavis_el1602822445591527364474987202_data);\n      });\n    });\n}else{\n    // require.js not available: dynamically load d3 & LDAvis\n    LDAvis_load_lib(\"https://cdnjs.cloudflare.com/ajax/libs/d3/3.5.5/d3.min.js\", function(){\n         LDAvis_load_lib(\"https://cdn.rawgit.com/bmabey/pyLDAvis/files/ldavis.v1.0.0.js\", function(){\n                 new LDAvis(\"#\" + \"ldavis_el1602822445591527364474987202\", ldavis_el1602822445591527364474987202_data);\n            })\n         });\n}\n</script>",
          "text/plain": "PreparedData(topic_coordinates=               x          y  topics  cluster       Freq\ntopic                                                  \n0     -31.058315  29.500683       1        1   5.506080\n1     -21.461353 -17.436399       2        1   2.831349\n2      -6.096575 -39.141697       3        1   5.892423\n3      56.071609  -9.400822       4        1   5.151750\n4      61.351185 -56.833744       5        1   4.305158\n5      17.821402  57.413609       6        1   0.984937\n6      49.250862  50.355305       7        1   0.615072\n7     -13.172927  53.618752       8        1   3.961891\n8      31.702734 -64.520691       9        1   0.626559\n9      14.361623   7.507676      10        1   2.067502\n10     29.184048 -13.613249      11        1   2.475537\n11     19.284979 -39.023891      12        1   4.356534\n12      4.356016 -15.153996      13        1  13.534335\n13    -12.708655   6.676149      14        1   2.080466\n14    -46.884609 -28.260098      15        1   1.542651\n15    -28.764826 -54.799591      16        1   4.901484\n16     62.600399  25.238491      17        1   2.004185\n17    -43.313934   3.224185      18        1   4.841773\n18     44.929001 -34.219784      19        1   2.432218\n19     81.611572   3.921941      20        1   4.868671\n20      0.798218  29.447706      21        1  18.738274\n21      2.051419 -67.215591      22        1   2.724474\n22     27.693497  31.413803      23        1   2.333389\n23     40.470249   9.942824      24        1   0.611644\n24     76.766655 -28.811687      25        1   0.611644, topic_info=          Term        Freq       Total Category  logprob  loglift\n1    ecosystem  367.000000  367.000000  Default   5.0000   5.0000\n17     problem  118.000000  118.000000  Default   4.0000   4.0000\n3      mindset   82.000000   82.000000  Default   3.0000   3.0000\n6        model   63.000000   63.000000  Default   2.0000   2.0000\n20    customer   64.000000   64.000000  Default   1.0000   1.0000\n..         ...         ...         ...      ...      ...      ...\n660      wheel    0.022134    1.019678  Topic25  -6.4938   1.2666\n225     engage    0.022134    1.019678  Topic25  -6.4938   1.2666\n223   exchange    0.022134    1.019678  Topic25  -6.4938   1.2666\n222     degree    0.022134    1.019679  Topic25  -6.4938   1.2666\n221        set    0.022134    1.019678  Topic25  -6.4938   1.2666\n\n[157 rows x 6 columns], token_table=      Topic      Freq            Term\nterm                                 \n77        4  0.747380           abide\n38       10  0.959421     abstraction\n31       22  0.606506        academia\n145       4  0.728810          agency\n14       13  0.945750     application\n...     ...       ...             ...\n66       23  0.962501           today\n24       15  0.446761            tool\n7        16  0.961707     traditional\n36       12  0.925916  transformation\n5        21  0.986846            type\n\n[78 rows x 3 columns], R=5, lambda_step=0.01, plot_opts={'xlab': 'PC1', 'ylab': 'PC2'}, topic_order=[1, 2, 3, 4, 5, 6, 7, 8, 9, 10, 11, 12, 13, 14, 15, 16, 17, 18, 19, 20, 21, 22, 23, 24, 25])"
         },
         "metadata": {},
         "output_type": "display_data"
        },
        {
         "data": {
          "application/vnd.jupyter.widget-view+json": {
           "model_id": "a7dcfcb372484a8f994ff6b656d572eb",
           "version_major": 2,
           "version_minor": 0
          },
          "text/plain": "interactive(children=(Dropdown(description='Topic', options=('ALL', 12.0, 13.0, 20.0, 21.0), value='ALL'), Out…"
         },
         "metadata": {},
         "output_type": "display_data"
        },
        {
         "data": {
          "text/plain": "<gensim.models.ldamodel.LdaModel at 0x20a9c58dee0>"
         },
         "metadata": {},
         "output_type": "display_data"
        }
       ]
      }
     },
     "f1ca2b56c3a241a492675ed45ae7d5b8": {
      "model_module": "@jupyter-widgets/controls",
      "model_module_version": "1.5.0",
      "model_name": "DropdownModel",
      "state": {
       "_options_labels": [
        "ALL",
        "1.0",
        "2.0"
       ],
       "description": "Topic",
       "index": 0,
       "layout": "IPY_MODEL_ca22f7ba7d294cf1bcd059bad1377c06",
       "style": "IPY_MODEL_3a7c206ae389443fb10388c2d4274169"
      }
     },
     "f39996c7f5b84326b53b6c806f7117db": {
      "model_module": "@jupyter-widgets/controls",
      "model_module_version": "1.5.0",
      "model_name": "DropdownModel",
      "state": {
       "_options_labels": [
        "ALL",
        "1.0",
        "2.0",
        "3.0",
        "4.0",
        "5.0",
        "6.0",
        "7.0",
        "8.0",
        "9.0",
        "10.0"
       ],
       "description": "Topic",
       "index": 0,
       "layout": "IPY_MODEL_fec44a7fa6b944a783e106842ee4d176",
       "style": "IPY_MODEL_7f8ec5756b5e4229b680b2f65b42343d"
      }
     },
     "f49a3d5d361542418f9b9c2019b428e1": {
      "model_module": "@jupyter-widgets/controls",
      "model_module_version": "1.5.0",
      "model_name": "DescriptionStyleModel",
      "state": {
       "description_width": ""
      }
     },
     "fae3cce41e2541eaa29ff6abcae63696": {
      "model_module": "@jupyter-widgets/controls",
      "model_module_version": "1.5.0",
      "model_name": "DescriptionStyleModel",
      "state": {
       "description_width": ""
      }
     },
     "fba55d739c9f43158150b2b26300c25f": {
      "model_module": "@jupyter-widgets/controls",
      "model_module_version": "1.5.0",
      "model_name": "DescriptionStyleModel",
      "state": {
       "description_width": ""
      }
     },
     "fd68d488325e458fbeafd7e38763452b": {
      "model_module": "@jupyter-widgets/base",
      "model_module_version": "1.2.0",
      "model_name": "LayoutModel",
      "state": {}
     },
     "fec44a7fa6b944a783e106842ee4d176": {
      "model_module": "@jupyter-widgets/base",
      "model_module_version": "1.2.0",
      "model_name": "LayoutModel",
      "state": {}
     }
    },
    "version_major": 2,
    "version_minor": 0
   }
  }
 },
 "nbformat": 4,
 "nbformat_minor": 4
}
